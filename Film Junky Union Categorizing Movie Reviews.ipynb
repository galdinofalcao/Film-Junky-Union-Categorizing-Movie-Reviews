{
 "cells": [
  {
   "cell_type": "markdown",
   "id": "418fa3e5",
   "metadata": {},
   "source": [
    "\n",
    "**Film Junky Union - Categorizing Movie Reviews**\n",
    "---"
   ]
  },
  {
   "cell_type": "markdown",
   "id": "586eed3f",
   "metadata": {},
   "source": [
    "\n",
    "### Introduction\n",
    "---\n",
    "This project aimed to analyze and predict the polarity of movie reviews using three models: BERT, Bag of Words (BOW), and TF-IDF. The analysis began with comprehensive data preprocessing—removing unnecessary columns, handling missing values, and eliminating duplicates—to ensure a clean dataset for modeling. The exploratory data analysis revealed key patterns in review ratings and polarity distribution, highlighting trends in sentiment over time. Each model was evaluated using both the original dataset and a custom set of 40 new reviews. Among the three, the TF-IDF model demonstrated the best overall performance, achieving the highest F1 score on both the test set and the new reviews (0.88 and 0.93, respectively), while also maintaining a strong balance between precision and recall. Consequently, TF-IDF appears to be the most effective choice for this sentiment classification task."
   ]
  },
  {
   "cell_type": "markdown",
   "id": "3918f20a",
   "metadata": {},
   "source": [
    "\n",
    "### Importing Libraries\n",
    "---"
   ]
  },
  {
   "cell_type": "code",
   "execution_count": 95,
   "id": "98199271",
   "metadata": {},
   "outputs": [],
   "source": [
    "import pandas as pd\n",
    "import matplotlib\n",
    "import matplotlib.pyplot as plt\n",
    "import matplotlib.dates as mdates\n",
    "import seaborn as sns\n",
    "import numpy as np\n",
    "from nltk.tokenize import word_tokenize\n",
    "from nltk.stem import WordNetLemmatizer\n",
    "import re\n",
    "from sklearn.feature_extraction.text import CountVectorizer\n",
    "from nltk.corpus import stopwords\n",
    "import nltk\n",
    "from sklearn.feature_extraction.text import TfidfVectorizer\n",
    "import torch\n",
    "import matplotlib as mpl\n",
    "from catboost import CatBoostClassifier\n",
    "import transformers\n",
    "from transformers import BertConfig, BertModel\n",
    "from tqdm.auto import tqdm\n",
    "from sklearn.metrics import f1_score\n",
    "from sklearn.model_selection import train_test_split\n",
    "from sklearn.linear_model import LogisticRegression\n",
    "import random\n",
    "from joblib import dump\n",
    "from joblib import load\n",
    "from sklearn.metrics import precision_score\n",
    "from sklearn.metrics import recall_score\n",
    "from sklearn.metrics import roc_curve\n",
    "from sklearn.metrics import precision_recall_curve, average_precision_score\n",
    "import os\n",
    "from sklearn.feature_extraction.text import CountVectorizer\n",
    "import nltk\n",
    "import warnings"
   ]
  },
  {
   "cell_type": "code",
   "execution_count": 93,
   "id": "0b16063c-e66a-40e9-8295-65d90dd1cb13",
   "metadata": {},
   "outputs": [],
   "source": [
    "warnings.filterwarnings(\"ignore\")"
   ]
  },
  {
   "cell_type": "markdown",
   "id": "30588930",
   "metadata": {},
   "source": [
    "\n",
    "### Importing Dataset and EDA\n",
    "---"
   ]
  },
  {
   "cell_type": "code",
   "execution_count": 12,
   "id": "c6cf5587",
   "metadata": {},
   "outputs": [],
   "source": [
    "df_reviews = pd.read_csv('\\imdb_reviews.tsv', sep=\"\\t\"')"
   ]
  },
  {
   "cell_type": "code",
   "execution_count": 13,
   "id": "e691a3f3",
   "metadata": {},
   "outputs": [
    {
     "name": "stdout",
     "output_type": "stream",
     "text": [
      "<class 'pandas.core.frame.DataFrame'>\n",
      "RangeIndex: 47331 entries, 0 to 47330\n",
      "Data columns (total 17 columns):\n",
      " #   Column           Non-Null Count  Dtype  \n",
      "---  ------           --------------  -----  \n",
      " 0   tconst           47331 non-null  object \n",
      " 1   title_type       47331 non-null  object \n",
      " 2   primary_title    47331 non-null  object \n",
      " 3   original_title   47331 non-null  object \n",
      " 4   start_year       47331 non-null  int64  \n",
      " 5   end_year         47331 non-null  object \n",
      " 6   runtime_minutes  47331 non-null  object \n",
      " 7   is_adult         47331 non-null  int64  \n",
      " 8   genres           47331 non-null  object \n",
      " 9   average_rating   47329 non-null  float64\n",
      " 10  votes            47329 non-null  float64\n",
      " 11  review           47331 non-null  object \n",
      " 12  rating           47331 non-null  int64  \n",
      " 13  sp               47331 non-null  object \n",
      " 14  pos              47331 non-null  int64  \n",
      " 15  ds_part          47331 non-null  object \n",
      " 16  idx              47331 non-null  int64  \n",
      "dtypes: float64(2), int64(5), object(10)\n",
      "memory usage: 6.1+ MB\n"
     ]
    }
   ],
   "source": [
    "df_reviews.info()"
   ]
  },
  {
   "cell_type": "code",
   "execution_count": 14,
   "id": "cd2f6cc2",
   "metadata": {},
   "outputs": [
    {
     "data": {
      "text/html": [
       "<div>\n",
       "<style scoped>\n",
       "    .dataframe tbody tr th:only-of-type {\n",
       "        vertical-align: middle;\n",
       "    }\n",
       "\n",
       "    .dataframe tbody tr th {\n",
       "        vertical-align: top;\n",
       "    }\n",
       "\n",
       "    .dataframe thead th {\n",
       "        text-align: right;\n",
       "    }\n",
       "</style>\n",
       "<table border=\"1\" class=\"dataframe\">\n",
       "  <thead>\n",
       "    <tr style=\"text-align: right;\">\n",
       "      <th></th>\n",
       "      <th>tconst</th>\n",
       "      <th>title_type</th>\n",
       "      <th>primary_title</th>\n",
       "      <th>original_title</th>\n",
       "      <th>start_year</th>\n",
       "      <th>end_year</th>\n",
       "      <th>runtime_minutes</th>\n",
       "      <th>is_adult</th>\n",
       "      <th>genres</th>\n",
       "      <th>average_rating</th>\n",
       "      <th>votes</th>\n",
       "      <th>review</th>\n",
       "      <th>rating</th>\n",
       "      <th>sp</th>\n",
       "      <th>pos</th>\n",
       "      <th>ds_part</th>\n",
       "      <th>idx</th>\n",
       "    </tr>\n",
       "  </thead>\n",
       "  <tbody>\n",
       "    <tr>\n",
       "      <th>0</th>\n",
       "      <td>tt0068152</td>\n",
       "      <td>movie</td>\n",
       "      <td>$</td>\n",
       "      <td>$</td>\n",
       "      <td>1971</td>\n",
       "      <td>\\N</td>\n",
       "      <td>121</td>\n",
       "      <td>0</td>\n",
       "      <td>Comedy,Crime,Drama</td>\n",
       "      <td>6.3</td>\n",
       "      <td>2218.0</td>\n",
       "      <td>The pakage implies that Warren Beatty and Gold...</td>\n",
       "      <td>1</td>\n",
       "      <td>neg</td>\n",
       "      <td>0</td>\n",
       "      <td>train</td>\n",
       "      <td>8335</td>\n",
       "    </tr>\n",
       "    <tr>\n",
       "      <th>1</th>\n",
       "      <td>tt0068152</td>\n",
       "      <td>movie</td>\n",
       "      <td>$</td>\n",
       "      <td>$</td>\n",
       "      <td>1971</td>\n",
       "      <td>\\N</td>\n",
       "      <td>121</td>\n",
       "      <td>0</td>\n",
       "      <td>Comedy,Crime,Drama</td>\n",
       "      <td>6.3</td>\n",
       "      <td>2218.0</td>\n",
       "      <td>How the hell did they get this made?! Presenti...</td>\n",
       "      <td>1</td>\n",
       "      <td>neg</td>\n",
       "      <td>0</td>\n",
       "      <td>train</td>\n",
       "      <td>8336</td>\n",
       "    </tr>\n",
       "    <tr>\n",
       "      <th>2</th>\n",
       "      <td>tt0313150</td>\n",
       "      <td>short</td>\n",
       "      <td>'15'</td>\n",
       "      <td>'15'</td>\n",
       "      <td>2002</td>\n",
       "      <td>\\N</td>\n",
       "      <td>25</td>\n",
       "      <td>0</td>\n",
       "      <td>Comedy,Drama,Short</td>\n",
       "      <td>6.3</td>\n",
       "      <td>184.0</td>\n",
       "      <td>There is no real story the film seems more lik...</td>\n",
       "      <td>3</td>\n",
       "      <td>neg</td>\n",
       "      <td>0</td>\n",
       "      <td>test</td>\n",
       "      <td>2489</td>\n",
       "    </tr>\n",
       "  </tbody>\n",
       "</table>\n",
       "</div>"
      ],
      "text/plain": [
       "      tconst title_type primary_title original_title  start_year end_year  \\\n",
       "0  tt0068152      movie             $              $        1971       \\N   \n",
       "1  tt0068152      movie             $              $        1971       \\N   \n",
       "2  tt0313150      short          '15'           '15'        2002       \\N   \n",
       "\n",
       "  runtime_minutes  is_adult              genres  average_rating   votes  \\\n",
       "0             121         0  Comedy,Crime,Drama             6.3  2218.0   \n",
       "1             121         0  Comedy,Crime,Drama             6.3  2218.0   \n",
       "2              25         0  Comedy,Drama,Short             6.3   184.0   \n",
       "\n",
       "                                              review  rating   sp  pos  \\\n",
       "0  The pakage implies that Warren Beatty and Gold...       1  neg    0   \n",
       "1  How the hell did they get this made?! Presenti...       1  neg    0   \n",
       "2  There is no real story the film seems more lik...       3  neg    0   \n",
       "\n",
       "  ds_part   idx  \n",
       "0   train  8335  \n",
       "1   train  8336  \n",
       "2    test  2489  "
      ]
     },
     "execution_count": 14,
     "metadata": {},
     "output_type": "execute_result"
    }
   ],
   "source": [
    "df_reviews.head(3)"
   ]
  },
  {
   "cell_type": "code",
   "execution_count": 15,
   "id": "03fac703",
   "metadata": {},
   "outputs": [],
   "source": [
    "df_reviews = df_reviews.drop(['tconst','genres','average_rating','title_type','primary_title','original_title','end_year'\n",
    "                              ,'runtime_minutes','is_adult','votes','sp','idx'],axis=1)"
   ]
  },
  {
   "cell_type": "code",
   "execution_count": 16,
   "id": "a8356375",
   "metadata": {},
   "outputs": [
    {
     "data": {
      "text/html": [
       "<div>\n",
       "<style scoped>\n",
       "    .dataframe tbody tr th:only-of-type {\n",
       "        vertical-align: middle;\n",
       "    }\n",
       "\n",
       "    .dataframe tbody tr th {\n",
       "        vertical-align: top;\n",
       "    }\n",
       "\n",
       "    .dataframe thead th {\n",
       "        text-align: right;\n",
       "    }\n",
       "</style>\n",
       "<table border=\"1\" class=\"dataframe\">\n",
       "  <thead>\n",
       "    <tr style=\"text-align: right;\">\n",
       "      <th></th>\n",
       "      <th>start_year</th>\n",
       "      <th>review</th>\n",
       "      <th>rating</th>\n",
       "      <th>pos</th>\n",
       "      <th>ds_part</th>\n",
       "    </tr>\n",
       "  </thead>\n",
       "  <tbody>\n",
       "    <tr>\n",
       "      <th>0</th>\n",
       "      <td>1971</td>\n",
       "      <td>The pakage implies that Warren Beatty and Gold...</td>\n",
       "      <td>1</td>\n",
       "      <td>0</td>\n",
       "      <td>train</td>\n",
       "    </tr>\n",
       "    <tr>\n",
       "      <th>1</th>\n",
       "      <td>1971</td>\n",
       "      <td>How the hell did they get this made?! Presenti...</td>\n",
       "      <td>1</td>\n",
       "      <td>0</td>\n",
       "      <td>train</td>\n",
       "    </tr>\n",
       "    <tr>\n",
       "      <th>2</th>\n",
       "      <td>2002</td>\n",
       "      <td>There is no real story the film seems more lik...</td>\n",
       "      <td>3</td>\n",
       "      <td>0</td>\n",
       "      <td>test</td>\n",
       "    </tr>\n",
       "    <tr>\n",
       "      <th>3</th>\n",
       "      <td>2002</td>\n",
       "      <td>Um .... a serious film about troubled teens in...</td>\n",
       "      <td>7</td>\n",
       "      <td>1</td>\n",
       "      <td>test</td>\n",
       "    </tr>\n",
       "    <tr>\n",
       "      <th>4</th>\n",
       "      <td>2002</td>\n",
       "      <td>I'm totally agree with GarryJohal from Singapo...</td>\n",
       "      <td>9</td>\n",
       "      <td>1</td>\n",
       "      <td>test</td>\n",
       "    </tr>\n",
       "    <tr>\n",
       "      <th>...</th>\n",
       "      <td>...</td>\n",
       "      <td>...</td>\n",
       "      <td>...</td>\n",
       "      <td>...</td>\n",
       "      <td>...</td>\n",
       "    </tr>\n",
       "    <tr>\n",
       "      <th>47326</th>\n",
       "      <td>1972</td>\n",
       "      <td>This is another of my favorite Columbos. It sp...</td>\n",
       "      <td>10</td>\n",
       "      <td>1</td>\n",
       "      <td>test</td>\n",
       "    </tr>\n",
       "    <tr>\n",
       "      <th>47327</th>\n",
       "      <td>1996</td>\n",
       "      <td>Talk about being boring! I got this expecting ...</td>\n",
       "      <td>4</td>\n",
       "      <td>0</td>\n",
       "      <td>test</td>\n",
       "    </tr>\n",
       "    <tr>\n",
       "      <th>47328</th>\n",
       "      <td>1996</td>\n",
       "      <td>I never thought I'd say this about a biopic, b...</td>\n",
       "      <td>8</td>\n",
       "      <td>1</td>\n",
       "      <td>test</td>\n",
       "    </tr>\n",
       "    <tr>\n",
       "      <th>47329</th>\n",
       "      <td>1996</td>\n",
       "      <td>Spirit and Chaos is an artistic biopic of Miya...</td>\n",
       "      <td>9</td>\n",
       "      <td>1</td>\n",
       "      <td>test</td>\n",
       "    </tr>\n",
       "    <tr>\n",
       "      <th>47330</th>\n",
       "      <td>1996</td>\n",
       "      <td>I'll make this brief. This was a joy to watch....</td>\n",
       "      <td>10</td>\n",
       "      <td>1</td>\n",
       "      <td>test</td>\n",
       "    </tr>\n",
       "  </tbody>\n",
       "</table>\n",
       "<p>47331 rows × 5 columns</p>\n",
       "</div>"
      ],
      "text/plain": [
       "       start_year                                             review  rating  \\\n",
       "0            1971  The pakage implies that Warren Beatty and Gold...       1   \n",
       "1            1971  How the hell did they get this made?! Presenti...       1   \n",
       "2            2002  There is no real story the film seems more lik...       3   \n",
       "3            2002  Um .... a serious film about troubled teens in...       7   \n",
       "4            2002  I'm totally agree with GarryJohal from Singapo...       9   \n",
       "...           ...                                                ...     ...   \n",
       "47326        1972  This is another of my favorite Columbos. It sp...      10   \n",
       "47327        1996  Talk about being boring! I got this expecting ...       4   \n",
       "47328        1996  I never thought I'd say this about a biopic, b...       8   \n",
       "47329        1996  Spirit and Chaos is an artistic biopic of Miya...       9   \n",
       "47330        1996  I'll make this brief. This was a joy to watch....      10   \n",
       "\n",
       "       pos ds_part  \n",
       "0        0   train  \n",
       "1        0   train  \n",
       "2        0    test  \n",
       "3        1    test  \n",
       "4        1    test  \n",
       "...    ...     ...  \n",
       "47326    1    test  \n",
       "47327    0    test  \n",
       "47328    1    test  \n",
       "47329    1    test  \n",
       "47330    1    test  \n",
       "\n",
       "[47331 rows x 5 columns]"
      ]
     },
     "execution_count": 16,
     "metadata": {},
     "output_type": "execute_result"
    }
   ],
   "source": [
    "df_reviews"
   ]
  },
  {
   "cell_type": "code",
   "execution_count": 17,
   "id": "0856be88",
   "metadata": {},
   "outputs": [
    {
     "data": {
      "text/plain": [
       "start_year    0\n",
       "review        0\n",
       "rating        0\n",
       "pos           0\n",
       "ds_part       0\n",
       "dtype: int64"
      ]
     },
     "execution_count": 17,
     "metadata": {},
     "output_type": "execute_result"
    }
   ],
   "source": [
    "df_reviews.isna().sum()"
   ]
  },
  {
   "cell_type": "code",
   "execution_count": 18,
   "id": "bee5b47f",
   "metadata": {},
   "outputs": [],
   "source": [
    "df_reviews = df_reviews.dropna().reset_index(drop=True)"
   ]
  },
  {
   "cell_type": "code",
   "execution_count": 19,
   "id": "221d678e",
   "metadata": {},
   "outputs": [
    {
     "data": {
      "text/plain": [
       "start_year    0\n",
       "review        0\n",
       "rating        0\n",
       "pos           0\n",
       "ds_part       0\n",
       "dtype: int64"
      ]
     },
     "execution_count": 19,
     "metadata": {},
     "output_type": "execute_result"
    }
   ],
   "source": [
    "df_reviews.isna().sum()"
   ]
  },
  {
   "cell_type": "code",
   "execution_count": 20,
   "id": "dcb1b89a",
   "metadata": {},
   "outputs": [
    {
     "data": {
      "text/plain": [
       "85"
      ]
     },
     "execution_count": 20,
     "metadata": {},
     "output_type": "execute_result"
    }
   ],
   "source": [
    "df_reviews.duplicated().sum()"
   ]
  },
  {
   "cell_type": "code",
   "execution_count": 21,
   "id": "ab9c622d",
   "metadata": {},
   "outputs": [],
   "source": [
    "df_reviews['review'] = df_reviews['review'].str.strip().str.lower()"
   ]
  },
  {
   "cell_type": "code",
   "execution_count": 22,
   "id": "22cc2a19",
   "metadata": {},
   "outputs": [],
   "source": [
    "df_reviews = df_reviews.drop_duplicates().reset_index(drop=True)"
   ]
  },
  {
   "cell_type": "code",
   "execution_count": 23,
   "id": "0f5a0b09",
   "metadata": {},
   "outputs": [
    {
     "data": {
      "text/plain": [
       "6"
      ]
     },
     "execution_count": 23,
     "metadata": {},
     "output_type": "execute_result"
    }
   ],
   "source": [
    "df_reviews['review'].duplicated().sum()"
   ]
  },
  {
   "cell_type": "code",
   "execution_count": 24,
   "id": "13f6a2e2",
   "metadata": {},
   "outputs": [
    {
     "name": "stdout",
     "output_type": "stream",
     "text": [
      "0\n",
      "0\n",
      "0\n",
      "0\n"
     ]
    }
   ],
   "source": [
    "print((df_reviews['review'] == '').sum())  \n",
    "print((df_reviews['review'] == ' ').sum())  \n",
    "print((df_reviews['review'] == 'nan').sum())\n",
    "print((df_reviews['review'] == 'NaN').sum())"
   ]
  },
  {
   "cell_type": "code",
   "execution_count": 25,
   "id": "b6449572",
   "metadata": {
    "scrolled": true
   },
   "outputs": [
    {
     "name": "stdout",
     "output_type": "stream",
     "text": [
      "       start_year                                             review  rating  \\\n",
      "1751         1984  i used to watch this show when i was a little ...       9   \n",
      "5809         1980  sondra locke stinks in this film, but then she...       3   \n",
      "5810         1980  sondra locke stinks in this film, but then she...       4   \n",
      "23807        1989  i used to watch this show when i was a little ...       9   \n",
      "34416        1943  there has been a political documentary, of rec...       8   \n",
      "34497        1971  another well done moral ambiguity pieces where...       7   \n",
      "34499        1971  another well done moral ambiguity pieces where...       8   \n",
      "39962        1943  there has been a political documentary, of rec...       8   \n",
      "43788        2005  ah yet another seagal movie.in no less than a ...       2   \n",
      "43796        2005  ah yet another seagal movie.in no less than a ...       3   \n",
      "44457        2005  the whole shorthand for supposedly being more ...       8   \n",
      "44466        2005  the whole shorthand for supposedly being more ...      10   \n",
      "\n",
      "       pos ds_part  \n",
      "1751     1   train  \n",
      "5809     0   train  \n",
      "5810     0   train  \n",
      "23807    1   train  \n",
      "34416    1    test  \n",
      "34497    1    test  \n",
      "34499    1    test  \n",
      "39962    1   train  \n",
      "43788    0    test  \n",
      "43796    0    test  \n",
      "44457    1    test  \n",
      "44466    1    test  \n"
     ]
    }
   ],
   "source": [
    "duplicate_rows = df_reviews[df_reviews['review'].duplicated(keep=False)]\n",
    "print(duplicate_rows)"
   ]
  },
  {
   "cell_type": "code",
   "execution_count": 26,
   "id": "100b11f8",
   "metadata": {},
   "outputs": [],
   "source": [
    "rows_to_drop = [1751, 5809, 5810, 23807, 34416, 34497, 34499, 39962, 43788, 43796, 44457, 44466]\n",
    "df_reviews = df_reviews.drop(index=rows_to_drop).reset_index(drop=True)"
   ]
  },
  {
   "cell_type": "code",
   "execution_count": 27,
   "id": "ec99203e",
   "metadata": {},
   "outputs": [
    {
     "data": {
      "text/plain": [
       "0"
      ]
     },
     "execution_count": 27,
     "metadata": {},
     "output_type": "execute_result"
    }
   ],
   "source": [
    "df_reviews['review'].duplicated().sum()"
   ]
  },
  {
   "cell_type": "code",
   "execution_count": 41,
   "id": "312ee61c",
   "metadata": {},
   "outputs": [
    {
     "data": {
      "image/png": "[encoded data removed]",
      "text/plain": [
       "<Figure size 800x350 with 2 Axes>"
      ]
     },
     "metadata": {},
     "output_type": "display_data"
    }
   ],
   "source": [
    "sns.set_theme(style=\"darkgrid\", palette=\"Blues_d\")\n",
    "\n",
    "mpl.rcParams[\"font.family\"] = \"sans-serif\"\n",
    "mpl.rcParams[\"font.sans-serif\"] = [\"Arial\", \"Helvetica\", \"DejaVu Sans\", \"Bitstream Vera Sans\"]\n",
    "\n",
    "fig, axs = plt.subplots(1, 2, figsize=(8, 3.5))\n",
    "\n",
    "dft = df_reviews.query('ds_part == \"train\"')[\"rating\"].value_counts().sort_index()\n",
    "dft = dft.reindex(index=np.arange(min(dft.index.min(), 1), max(dft.index.max(), 11))).fillna(0)\n",
    "ax = axs[0]\n",
    "dft.plot.bar(ax=ax, color=\"skyblue\", edgecolor=\"black\")\n",
    "ax.set_ylim([0, 5000])\n",
    "ax.set_ylabel(\"Rating\", fontsize=8)\n",
    "ax.set_xlabel(\"Rating\", fontsize=8)\n",
    "ax.set_title(\"The train set: distribution of ratings\", fontweight='bold', fontsize=10)\n",
    "ax.tick_params(axis='both', labelsize=9)\n",
    "\n",
    "dft = df_reviews.query('ds_part == \"test\"')[\"rating\"].value_counts().sort_index()\n",
    "dft = dft.reindex(index=np.arange(min(dft.index.min(), 1), max(dft.index.max(), 11))).fillna(0)\n",
    "ax = axs[1]\n",
    "dft.plot.bar(ax=ax, color=\"skyblue\", edgecolor=\"black\")\n",
    "ax.set_ylim([0, 5000])\n",
    "ax.set_ylabel(\"Rating\", fontsize=8)\n",
    "ax.set_xlabel(\"Rating\", fontsize=8)\n",
    "ax.set_title(\"The test set: distribution of ratings\", fontweight='bold', fontsize=10)\n",
    "ax.tick_params(axis='both', labelsize=9)\n",
    "\n",
    "fig.tight_layout()\n",
    "plt.show()\n",
    "plt.close('all')"
   ]
  },
  {
   "cell_type": "code",
   "execution_count": 58,
   "id": "2864a981",
   "metadata": {
    "scrolled": true
   },
   "outputs": [
    {
     "data": {
      "image/png": "[encoded data removed]",
      "text/plain": [
       "<Figure size 1000x600 with 1 Axes>"
      ]
     },
     "metadata": {},
     "output_type": "display_data"
    },
    {
     "data": {
      "image/png": "[encoded data removed]",
      "text/plain": [
       "<Figure size 1000x600 with 1 Axes>"
      ]
     },
     "metadata": {},
     "output_type": "display_data"
    },
    {
     "data": {
      "image/png": "[encoded data removed]",
      "text/plain": [
       "<Figure size 600x450 with 1 Axes>"
      ]
     },
     "metadata": {},
     "output_type": "display_data"
    }
   ],
   "source": [
    "mpl.rcParams[\"font.family\"] = \"sans-serif\"\n",
    "mpl.rcParams[\"font.sans-serif\"] = [\"Arial\", \"Helvetica\", \"DejaVu Sans\", \"Bitstream Vera Sans\"]\n",
    "\n",
    "sns.set_theme(style=\"darkgrid\")\n",
    "\n",
    "df_train = df_reviews[df_reviews['ds_part'] == 'train']\n",
    "\n",
    "dft = df_train.groupby(['start_year', 'pos'])['pos'].count().unstack(fill_value=0)\n",
    "\n",
    "dft.columns = [\"Negative\", \"Positive\"]\n",
    "\n",
    "fig, ax = plt.subplots(figsize=(10, 6))\n",
    "\n",
    "dft.plot(kind=\"bar\", stacked=True, color=[\"skyblue\", \"steelblue\"], edgecolor=\"black\", width=0.8, ax=ax)\n",
    "\n",
    "ax.set_title(\"Number of Reviews by Year and Polarity (Train Set)\", fontsize=9,fontweight='bold')\n",
    "ax.set_xlabel(\"Year\", fontsize=9)\n",
    "ax.set_ylabel(\"Number of Reviews\", fontsize=9)\n",
    "ax.tick_params(axis='x', labelsize=8, rotation=90)\n",
    "ax.tick_params(axis='y', labelsize=9)\n",
    "ax.legend(title=\"Polarity\", fontsize=9, title_fontsize=9)\n",
    "\n",
    "plt.tight_layout()\n",
    "plt.show()\n",
    "\n",
    "sns.set_theme(style=\"darkgrid\")\n",
    "\n",
    "df_train = df_reviews[df_reviews['ds_part'] == 'test']\n",
    "\n",
    "dft = df_train.groupby(['start_year', 'pos'])['pos'].count().unstack(fill_value=0)\n",
    "\n",
    "dft.columns = [\"Negative\", \"Positive\"]\n",
    "\n",
    "fig, ax = plt.subplots(figsize=(10, 6))\n",
    "\n",
    "dft.plot(kind=\"bar\", stacked=True, color=[\"lightskyblue\", \"steelblue\"], edgecolor=\"black\", width=0.8, ax=ax)\n",
    "\n",
    "ax.set_title(\"Number of Reviews by Year and Polarity (Test Set)\", fontsize=9,fontweight='bold')\n",
    "ax.set_xlabel(\"Year\", fontsize=9)\n",
    "ax.set_ylabel(\"Number of Reviews\", fontsize=9)\n",
    "ax.tick_params(axis='x', labelsize=8, rotation=90)\n",
    "ax.tick_params(axis='y', labelsize=9)\n",
    "ax.legend(title=\"Polarity\", fontsize=9, title_fontsize=9)\n",
    "\n",
    "plt.tight_layout()\n",
    "plt.show()\n",
    "\n",
    "sns.set_theme(style=\"darkgrid\")\n",
    "\n",
    "df_grouped = df_reviews.groupby(['ds_part', 'pos'])['pos'].count().unstack(fill_value=0)\n",
    "df_grouped.columns = [\"Negative\", \"Positive\"]\n",
    "\n",
    "fig, ax = plt.subplots(figsize=(6, 4.5))\n",
    "df_grouped.plot(kind=\"bar\", stacked=True, color=[\"skyblue\", \"steelblue\"], edgecolor=\"black\", ax=ax)\n",
    "\n",
    "for index, (negative, positive) in enumerate(zip(df_grouped[\"Negative\"], df_grouped[\"Positive\"])):\n",
    "    total = negative + positive\n",
    "    ax.text(index, total + 50, f\"{int(total):,}\", ha='center', fontsize=9, color='black')\n",
    "\n",
    "for index, negative in enumerate(df_grouped[\"Negative\"]):\n",
    "    ax.text(index, negative / 2, f\"{int(negative):,}\", ha='center', fontsize=9, color='white')\n",
    "\n",
    "for index, positive in enumerate(df_grouped[\"Positive\"]):\n",
    "    neg_value = df_grouped[\"Negative\"].iloc[index]\n",
    "    ax.text(index, neg_value + (positive / 2), f\"{int(positive):,}\", ha='center', fontsize=9, color='white')\n",
    "\n",
    "ax.set_title(\"Total Reviews by Dataset and Polarity\", fontsize=10, fontweight='bold')\n",
    "ax.set_xlabel(\"Dataset\", fontsize=9)\n",
    "ax.set_ylabel(\"Number of Reviews\", fontsize=9)\n",
    "ax.tick_params(axis='x', labelsize=9, rotation=0)\n",
    "ax.tick_params(axis='y', labelsize=9)\n",
    "\n",
    "ax.legend(title=\"Polarity\", fontsize=8, title_fontsize=8,\n",
    "          loc='upper center', bbox_to_anchor=(0.5, -0.2), ncol=2)\n",
    "plt.tight_layout()\n",
    "plt.show()"
   ]
  },
  {
   "cell_type": "markdown",
   "id": "fb333648",
   "metadata": {},
   "source": [
    "The exploratory data analysis began by removing columns deemed unnecessary for further analysis of the movie reviews. The remaining columns included start_year, review, rating, pos, and ds_part. The dataset was then checked for null values, and any identified were minimal and subsequently removed. Duplicates across the dataset, particularly in the review column (which would later be used for polarity prediction), were identified and eliminated. After these steps, no further missing values were found.\n",
    "\n",
    "With the dataset preprocessed, visualizations were created to gain deeper insights. Both the training and test datasets displayed a similar distribution of ratings, with a higher concentration at the extremes (1 and 10). Notably, no ratings were observed in the middle range (5 or 6), meaning the distributions were skewed toward 1–4 and 7–10. Additionally, the number of reviews by polarity (0 or 1) and by dataset (train and test) revealed an increasing trend in the number of negative reviews over the years. In recent years, negative reviews have outnumbered positive ones, reversing the trend observed in earlier periods.\n",
    "\n",
    "However, when evaluating class balance across all years, the total distribution of polarity between the train and test sets appears balanced. For instance, the test set contained 23,478 reviews, comprising 11,694 positive and 11,784 negative reviews. Similarly, the train set included 23,754 reviews, with 11,861 positive and 11,893 negative reviews. This indicates that while a slight class imbalance might emerge depending on the time window analyzed, the overall distribution across all years shows negligible imbalance. This consolidated view suggests that class imbalance is unlikely to significantly affect the performance of a classification model."
   ]
  },
  {
   "cell_type": "markdown",
   "id": "bd07cf73",
   "metadata": {},
   "source": [
    "### Model Training\n",
    "---"
   ]
  },
  {
   "cell_type": "markdown",
   "id": "a94d5699",
   "metadata": {},
   "source": [
    "\n",
    "#### BERT Model"
   ]
  },
  {
   "cell_type": "code",
   "execution_count": 60,
   "id": "5291cff5",
   "metadata": {},
   "outputs": [],
   "source": [
    "tokenizer = transformers.BertTokenizer.from_pretrained('bert-base-uncased')\n",
    "config = BertConfig.from_pretrained('bert-base-uncased')\n",
    "model = BertModel.from_pretrained('bert-base-uncased')"
   ]
  },
  {
   "cell_type": "code",
   "execution_count": 61,
   "id": "dabfb638",
   "metadata": {},
   "outputs": [
    {
     "name": "stderr",
     "output_type": "stream",
     "text": [
      "100%|████████████████████████████████████████████████████████████████████████████████████| 2/2 [01:21<00:00, 40.87s/it]\n",
      "100%|████████████████████████████████████████████████████████████████████████████████████| 2/2 [01:40<00:00, 50.16s/it]\n"
     ]
    }
   ],
   "source": [
    "train_reviews = df_reviews[df_reviews['ds_part'] == 'train']\n",
    "random_train_reviews = train_reviews['review'].iloc[:100]\n",
    "\n",
    "test_reviews = df_reviews[df_reviews['ds_part'] == 'test']\n",
    "random_test_reviews = test_reviews['review'].iloc[:100]\n",
    "\n",
    "max_length = 512\n",
    "batch_size = 50\n",
    "\n",
    "ids_list_train = []\n",
    "attention_mask_list_train = []\n",
    "\n",
    "for input_text in random_train_reviews[:100]:\n",
    "    ids = tokenizer.encode(input_text.lower(), add_special_tokens=True, truncation=True, max_length=max_length)\n",
    "    padded = np.array(ids + [0] * (max_length - len(ids)))\n",
    "    attention_mask = np.where(padded != 0, 1, 0)\n",
    "    ids_list_train.append(padded)\n",
    "    attention_mask_list_train.append(attention_mask)\n",
    "\n",
    "ids_array = np.array(ids_list_train)\n",
    "attention_mask_array = np.array(attention_mask_list_train)\n",
    "\n",
    "embeddings_train = []\n",
    "\n",
    "for i in tqdm(range((len(ids_array) + batch_size - 1) // batch_size)):  \n",
    "    ids_batch = torch.tensor(ids_array[batch_size * i : batch_size * (i + 1)], dtype=torch.long)\n",
    "    attention_mask_batch = torch.tensor(attention_mask_array[batch_size * i : batch_size * (i + 1)], dtype=torch.long)\n",
    "    with torch.no_grad():\n",
    "        batch_embeddings = model(ids_batch, attention_mask=attention_mask_batch)\n",
    "    embeddings_train.append(batch_embeddings[0][:, 0, :].numpy())\n",
    "    \n",
    "ids_list_test = []\n",
    "attention_mask_list_test = []\n",
    "\n",
    "for input_text in random_test_reviews[:100]:\n",
    "    ids = tokenizer.encode(input_text.lower(), add_special_tokens=True, truncation=True, max_length=max_length)\n",
    "    padded = np.array(ids + [0] * (max_length - len(ids)))\n",
    "    attention_mask = np.where(padded != 0, 1, 0)\n",
    "    ids_list_test.append(padded)\n",
    "    attention_mask_list_test.append(attention_mask)\n",
    "\n",
    "ids_array = np.array(ids_list_test)\n",
    "attention_mask_array = np.array(attention_mask_list_test)\n",
    "\n",
    "embeddings_test = []\n",
    "\n",
    "for i in tqdm(range((len(ids_array) + batch_size - 1) // batch_size)):  \n",
    "    ids_batch = torch.tensor(ids_array[batch_size * i : batch_size * (i + 1)], dtype=torch.long)\n",
    "    attention_mask_batch = torch.tensor(attention_mask_array[batch_size * i : batch_size * (i + 1)], dtype=torch.long)\n",
    "    with torch.no_grad():\n",
    "        batch_embeddings = model(ids_batch, attention_mask=attention_mask_batch)\n",
    "    embeddings_test.append(batch_embeddings[0][:, 0, :].numpy())\n"
   ]
  },
  {
   "cell_type": "code",
   "execution_count": 77,
   "id": "f30258ad",
   "metadata": {
    "scrolled": true
   },
   "outputs": [
    {
     "name": "stdout",
     "output_type": "stream",
     "text": [
      "F1 Score Train: 1.00\n",
      "F1 Score Test: 0.88\n",
      "\n",
      "Threshold = 0.00 | Precision = 0.500, Recall = 1.000, F1 = 0.667\n",
      "Threshold = 0.10 | Precision = 0.595, Recall = 1.000, F1 = 0.746\n",
      "Threshold = 0.20 | Precision = 0.649, Recall = 1.000, F1 = 0.787\n",
      "Threshold = 0.30 | Precision = 0.746, Recall = 1.000, F1 = 0.855\n",
      "Threshold = 0.40 | Precision = 0.821, Recall = 0.920, F1 = 0.868\n",
      "Threshold = 0.50 | Precision = 0.865, Recall = 0.900, F1 = 0.882\n",
      "Threshold = 0.60 | Precision = 0.863, Recall = 0.880, F1 = 0.871\n",
      "Threshold = 0.70 | Precision = 0.891, Recall = 0.820, F1 = 0.854\n",
      "Threshold = 0.80 | Precision = 0.900, Recall = 0.720, F1 = 0.800\n",
      "Threshold = 0.90 | Precision = 0.938, Recall = 0.600, F1 = 0.732\n"
     ]
    },
    {
     "data": {
      "image/png": "[encoded data removed]",
      "text/plain": [
       "<Figure size 500x350 with 1 Axes>"
      ]
     },
     "metadata": {},
     "output_type": "display_data"
    },
    {
     "data": {
      "image/png": "[encoded data removed]",
      "text/plain": [
       "<Figure size 512x350 with 1 Axes>"
      ]
     },
     "metadata": {},
     "output_type": "display_data"
    }
   ],
   "source": [
    "features_train = np.concatenate(embeddings_train)\n",
    "features_test = np.concatenate(embeddings_test)\n",
    "\n",
    "target_train = df_reviews.loc[random_train_reviews.index, 'pos']\n",
    "target_test = df_reviews.loc[random_test_reviews.index, 'pos']\n",
    "\n",
    "model_new = LogisticRegression(max_iter=100, random_state=42)\n",
    "model_new.fit(features_train, target_train)\n",
    "\n",
    "prediction_train = model_new.predict(features_train)\n",
    "train_accuracy = f1_score(target_train, prediction_train)\n",
    "\n",
    "prediction_test = model_new.predict(features_test)\n",
    "test_accuracy = f1_score(target_test, prediction_test)\n",
    "\n",
    "dump(model_new, 'logistic_regression_model.joblib')\n",
    "\n",
    "print(f\"F1 Score Train: {train_accuracy:.2f}\")\n",
    "print(f\"F1 Score Test: {test_accuracy:.2f}\")\n",
    "print() \n",
    "\n",
    "probabilities_test = model_new.predict_proba(features_test)\n",
    "probabilities_one_test = probabilities_test[:, 1]\n",
    "\n",
    "for threshold in np.arange(0, 1.0, 0.1):\n",
    "    predictions_test_bert = (probabilities_one_test >= threshold)\n",
    "    ps_bert = precision_score(target_test, predictions_test_bert)\n",
    "    rs_bert = recall_score(target_test, predictions_test_bert)\n",
    "    f1_bert = f1_score(target_test, predictions_test_bert)\n",
    "    \n",
    "\n",
    "    print('Threshold = {:.2f} | Precision = {:.3f}, Recall = {:.3f}, F1 = {:.3f}'.format(threshold, ps_bert, rs_bert, f1_bert))\n",
    "   \n",
    "fpr, tpr, thresholds = roc_curve(target_test, probabilities_one_test)\n",
    "precision, recall, thresholds_prc = precision_recall_curve(target_test, probabilities_one_test)\n",
    "\n",
    "sns.set_theme(style=\"whitegrid\", palette=\"Blues\")\n",
    "plt.figure(figsize=(5, 3.5))\n",
    "plt.plot(fpr, tpr, label='BERT', color='steelblue', lw=2)\n",
    "plt.plot([0, 1], [0, 1], linestyle='--', color='grey', label='Random Model', lw=2)\n",
    "plt.xlim([0.0, 1.0])\n",
    "plt.ylim([0.0, 1.0])\n",
    "plt.xlabel('False Positive Rate', fontsize=9)\n",
    "plt.ylabel('True Positive Rate', fontsize=9)\n",
    "plt.title('ROC Curve', fontsize=10, fontweight='bold')\n",
    "plt.legend(loc='lower right', fontsize=9)\n",
    "plt.xticks(fontsize=9)\n",
    "plt.yticks(fontsize=9)\n",
    "ax = plt.gca()\n",
    "ax.spines['bottom'].set_color('black')\n",
    "ax.spines['left'].set_color('black')\n",
    "ax.spines['top'].set_visible(False)\n",
    "ax.spines['right'].set_visible(False)\n",
    "plt.show()\n",
    "\n",
    "\n",
    "sns.set_theme(style=\"whitegrid\", palette=\"Blues\")\n",
    "plt.figure(figsize=(5.12, 3.5))\n",
    "plt.plot(recall, precision, marker='.', label='Precision-Recall Curve', color='steelblue')\n",
    "plt.xlim([0.0, 1.1])\n",
    "plt.ylim([0.0, 1.1])\n",
    "plt.xlabel('Recall', fontsize=9)\n",
    "plt.ylabel('Precision', fontsize=9)\n",
    "plt.title('Precision-Recall Curve', fontsize=10, fontweight='bold')\n",
    "plt.legend(loc='lower right', fontsize=9)\n",
    "plt.xticks(fontsize=9)\n",
    "plt.yticks(fontsize=9)\n",
    "ax = plt.gca()\n",
    "ax.spines['bottom'].set_color('black')\n",
    "ax.spines['left'].set_color('black')\n",
    "ax.spines['top'].set_visible(False)\n",
    "ax.spines['right'].set_visible(False)\n",
    "plt.show()\n",
    "\n"
   ]
  },
  {
   "cell_type": "code",
   "execution_count": 78,
   "id": "143cb9cb",
   "metadata": {},
   "outputs": [
    {
     "data": {
      "text/html": [
       "<div>\n",
       "<style scoped>\n",
       "    .dataframe tbody tr th:only-of-type {\n",
       "        vertical-align: middle;\n",
       "    }\n",
       "\n",
       "    .dataframe tbody tr th {\n",
       "        vertical-align: top;\n",
       "    }\n",
       "\n",
       "    .dataframe thead th {\n",
       "        text-align: right;\n",
       "    }\n",
       "</style>\n",
       "<table border=\"1\" class=\"dataframe\">\n",
       "  <thead>\n",
       "    <tr style=\"text-align: right;\">\n",
       "      <th></th>\n",
       "      <th>review</th>\n",
       "      <th>prediction</th>\n",
       "      <th>confidence</th>\n",
       "    </tr>\n",
       "  </thead>\n",
       "  <tbody>\n",
       "    <tr>\n",
       "      <th>2</th>\n",
       "      <td>there is no real story the film seems more lik...</td>\n",
       "      <td>0</td>\n",
       "      <td>0.681373</td>\n",
       "    </tr>\n",
       "    <tr>\n",
       "      <th>3</th>\n",
       "      <td>um .... a serious film about troubled teens in...</td>\n",
       "      <td>1</td>\n",
       "      <td>0.972596</td>\n",
       "    </tr>\n",
       "    <tr>\n",
       "      <th>4</th>\n",
       "      <td>i'm totally agree with garryjohal from singapo...</td>\n",
       "      <td>1</td>\n",
       "      <td>0.632753</td>\n",
       "    </tr>\n",
       "    <tr>\n",
       "      <th>5</th>\n",
       "      <td>this is the first movie i've seen from singapo...</td>\n",
       "      <td>1</td>\n",
       "      <td>0.997679</td>\n",
       "    </tr>\n",
       "    <tr>\n",
       "      <th>6</th>\n",
       "      <td>yes non-singaporean's can't see what's the big...</td>\n",
       "      <td>1</td>\n",
       "      <td>0.891176</td>\n",
       "    </tr>\n",
       "    <tr>\n",
       "      <th>...</th>\n",
       "      <td>...</td>\n",
       "      <td>...</td>\n",
       "      <td>...</td>\n",
       "    </tr>\n",
       "    <tr>\n",
       "      <th>258</th>\n",
       "      <td>dear readers, 2001: a space odyssey is kubrick...</td>\n",
       "      <td>1</td>\n",
       "      <td>0.996316</td>\n",
       "    </tr>\n",
       "    <tr>\n",
       "      <th>259</th>\n",
       "      <td>\"200l: a space odyssey\" is a supremely intrigu...</td>\n",
       "      <td>1</td>\n",
       "      <td>0.966250</td>\n",
       "    </tr>\n",
       "    <tr>\n",
       "      <th>260</th>\n",
       "      <td>no one can argue with it. this is and will be ...</td>\n",
       "      <td>1</td>\n",
       "      <td>0.727677</td>\n",
       "    </tr>\n",
       "    <tr>\n",
       "      <th>261</th>\n",
       "      <td>this was such a great film. it was done with s...</td>\n",
       "      <td>1</td>\n",
       "      <td>0.924863</td>\n",
       "    </tr>\n",
       "    <tr>\n",
       "      <th>262</th>\n",
       "      <td>in 1968, stanley kubrick made this historic fi...</td>\n",
       "      <td>1</td>\n",
       "      <td>0.940722</td>\n",
       "    </tr>\n",
       "  </tbody>\n",
       "</table>\n",
       "<p>100 rows × 3 columns</p>\n",
       "</div>"
      ],
      "text/plain": [
       "                                                review  prediction  confidence\n",
       "2    there is no real story the film seems more lik...           0    0.681373\n",
       "3    um .... a serious film about troubled teens in...           1    0.972596\n",
       "4    i'm totally agree with garryjohal from singapo...           1    0.632753\n",
       "5    this is the first movie i've seen from singapo...           1    0.997679\n",
       "6    yes non-singaporean's can't see what's the big...           1    0.891176\n",
       "..                                                 ...         ...         ...\n",
       "258  dear readers, 2001: a space odyssey is kubrick...           1    0.996316\n",
       "259  \"200l: a space odyssey\" is a supremely intrigu...           1    0.966250\n",
       "260  no one can argue with it. this is and will be ...           1    0.727677\n",
       "261  this was such a great film. it was done with s...           1    0.924863\n",
       "262  in 1968, stanley kubrick made this historic fi...           1    0.940722\n",
       "\n",
       "[100 rows x 3 columns]"
      ]
     },
     "execution_count": 78,
     "metadata": {},
     "output_type": "execute_result"
    }
   ],
   "source": [
    "confidence = np.max(model_new.predict_proba(features_test), axis=1)\n",
    "df_bert = pd.DataFrame(random_test_reviews, columns=['review'])\n",
    "df_bert['prediction'] = prediction_test\n",
    "df_bert['confidence'] = confidence\n",
    "df_bert"
   ]
  },
  {
   "cell_type": "markdown",
   "id": "4db16bea",
   "metadata": {},
   "source": [
    "The first model utilized was the BERT model. Since the original dataset included a column (ds_part) that organized the reviews into train and test sets, this was used to filter a sample of the first 100 train reviews and 100 test reviews for processing. To avoid overloading the system, the BERT model was run iteratively over these 100 reviews for both train and test sets, using a max_length of 512 and a batch_size of 50. This process generated two embeddings: one for the training features (features_train) and another for the test features (features_test).\n",
    "\n",
    "For the corresponding targets, the pos column from the original dataset was used, ensuring the targets matched the indexes of the train and test sets. The logistic regression model, configured with a maximum of 100 iterations, was then trained on these embeddings.\n",
    "\n",
    "The results showed an F1 score of 0.88 on the test set (compared to 1.00 on the train set), indicating slight overfitting. However, the test score exceeded the minimum threshold of 0.85, reflecting a strong performance overall. Additionally, the ROC and Precision-Recall curves indicate that the model is quite strong, performing well above a random baseline. Across various thresholds, it maintains a favorable balance between precision and recall. For example, at an F1 score of 0.88, the model achieves a precision of 0.865 and a recall of 0.9 (values closer to 1 are preferable).\n",
    "\n",
    "---"
   ]
  },
  {
   "cell_type": "markdown",
   "id": "17daef05",
   "metadata": {},
   "source": [
    "#### Bag of Words Model"
   ]
  },
  {
   "cell_type": "code",
   "execution_count": 81,
   "id": "97bcf363",
   "metadata": {},
   "outputs": [],
   "source": [
    "train_reviews = df_reviews[df_reviews['ds_part'] == 'train']\n",
    "corpus_train = train_reviews['review']\n",
    "\n",
    "test_reviews =  df_reviews[df_reviews['ds_part'] == 'test']\n",
    "corpus_test = test_reviews['review']"
   ]
  },
  {
   "cell_type": "code",
   "execution_count": 97,
   "id": "9ed80904",
   "metadata": {},
   "outputs": [],
   "source": [
    "stop_words = list(stopwords.words('english'))\n",
    "count_vect = CountVectorizer(stop_words=stop_words)\n",
    "bow_train = count_vect.fit_transform(corpus_train)\n",
    "bow_test = count_vect.transform(corpus_test)"
   ]
  },
  {
   "cell_type": "code",
   "execution_count": 99,
   "id": "0006543b",
   "metadata": {
    "scrolled": true
   },
   "outputs": [
    {
     "name": "stdout",
     "output_type": "stream",
     "text": [
      "Best model: max_depth = 10, learning_rate = 0.01, num_trees: 50, F1 Score Train: 0.78, F1 Score Test: 0.78\n",
      "\n",
      "Threshold = 0.00 | Precision = 0.498, Recall = 1.000, F1 = 0.665\n",
      "Threshold = 0.10 | Precision = 0.498, Recall = 1.000, F1 = 0.665\n",
      "Threshold = 0.20 | Precision = 0.500, Recall = 1.000, F1 = 0.667\n",
      "Threshold = 0.30 | Precision = 0.540, Recall = 0.997, F1 = 0.700\n",
      "Threshold = 0.40 | Precision = 0.615, Recall = 0.965, F1 = 0.751\n",
      "Threshold = 0.50 | Precision = 0.710, Recall = 0.857, F1 = 0.777\n",
      "Threshold = 0.60 | Precision = 0.890, Recall = 0.329, F1 = 0.480\n",
      "Threshold = 0.70 | Precision = 0.977, Recall = 0.011, F1 = 0.021\n",
      "Threshold = 0.80 | Precision = 0.000, Recall = 0.000, F1 = 0.000\n",
      "Threshold = 0.90 | Precision = 0.000, Recall = 0.000, F1 = 0.000\n"
     ]
    },
    {
     "data": {
      "image/png": "[encoded data removed]",
      "text/plain": [
       "<Figure size 500x350 with 1 Axes>"
      ]
     },
     "metadata": {},
     "output_type": "display_data"
    },
    {
     "data": {
      "image/png": "[encoded data removed]",
      "text/plain": [
       "<Figure size 512x350 with 1 Axes>"
      ]
     },
     "metadata": {},
     "output_type": "display_data"
    }
   ],
   "source": [
    "features_train = bow_train\n",
    "features_test = bow_test\n",
    "\n",
    "target_train = train_reviews['pos'].values \n",
    "target_test = test_reviews['pos'].values \n",
    "\n",
    "num_trees_range = [50]      \n",
    "learning_rate_range = [0.01] \n",
    "max_depth_range = [10]         \n",
    "\n",
    "best_score = 0\n",
    "best_params = {}\n",
    "\n",
    "for num_trees in num_trees_range:\n",
    "    for learning_rate in learning_rate_range:\n",
    "        for max_depth in max_depth_range:\n",
    "            model_bow = CatBoostClassifier(iterations=num_trees, learning_rate=learning_rate, depth=max_depth,\n",
    "                                      subsample= 0.8, random_seed=42, verbose=0, loss_function='Logloss', custom_metric=['F1'])\n",
    "                      \n",
    "            model_bow.fit(features_train, target_train, eval_set=(features_test, target_test), early_stopping_rounds=50)            \n",
    "            predictions_train = model_bow.predict(features_train)\n",
    "            prediction_test = model_bow.predict(features_test)         \n",
    "                        \n",
    "            train_accuracy = f1_score(target_train, predictions_train)\n",
    "            test_accuracy = f1_score(target_test, prediction_test)\n",
    "            \n",
    "            if test_accuracy > best_score:\n",
    "                best_score = test_accuracy\n",
    "                best_params = {'num_trees': num_trees, 'learning_rate': learning_rate, 'max_depth': max_depth,\n",
    "                               'F1 Score Train': train_accuracy, 'F1 Score Test': test_accuracy}\n",
    "\n",
    "print(f\"Best model: max_depth = {max_depth}, learning_rate = {learning_rate}, num_trees: {num_trees}, F1 Score Train: {train_accuracy:.2f}, F1 Score Test: {test_accuracy:.2f}\")\n",
    "print() \n",
    "\n",
    "probabilities_test = model_bow.predict_proba(features_test)\n",
    "probabilities_one_test = probabilities_test[:, 1]\n",
    "\n",
    "for threshold in np.arange(0, 1.0, 0.1):\n",
    "    predictions_test = (probabilities_one_test >= threshold)\n",
    "    ps_bow = precision_score(target_test, predictions_test)\n",
    "    rs_bow = recall_score(target_test, predictions_test)\n",
    "    f1_bow = f1_score(target_test, predictions_test)\n",
    "    \n",
    "\n",
    "    print('Threshold = {:.2f} | Precision = {:.3f}, Recall = {:.3f}, F1 = {:.3f}'.format(threshold, ps_bow, rs_bow, f1_bow))\n",
    "   \n",
    "fpr, tpr, thresholds = roc_curve(target_test, probabilities_one_test)\n",
    "precision, recall, thresholds_prc = precision_recall_curve(target_test, probabilities_one_test)\n",
    "\n",
    "sns.set_theme(style=\"whitegrid\", palette=\"Blues\")\n",
    "plt.figure(figsize=(5, 3.5))\n",
    "plt.plot(fpr, tpr, label='BOW', color='steelblue', lw=2)\n",
    "plt.plot([0, 1], [0, 1], linestyle='--', color='grey', label='Random Model', lw=2)\n",
    "plt.xlim([0.0, 1.0])\n",
    "plt.ylim([0.0, 1.0])\n",
    "plt.xlabel('False Positive Rate', fontsize=9)\n",
    "plt.ylabel('True Positive Rate', fontsize=9)\n",
    "plt.title('ROC Curve', fontsize=10, fontweight='bold')\n",
    "plt.legend(loc='lower right', fontsize=9)\n",
    "plt.xticks(fontsize=9)\n",
    "plt.yticks(fontsize=9)\n",
    "ax = plt.gca()\n",
    "ax.spines['bottom'].set_color('black')\n",
    "ax.spines['left'].set_color('black')\n",
    "ax.spines['top'].set_visible(False)\n",
    "ax.spines['right'].set_visible(False)\n",
    "plt.show()\n",
    "\n",
    "\n",
    "sns.set_theme(style=\"whitegrid\", palette=\"Blues\")\n",
    "plt.figure(figsize=(5.12, 3.5))\n",
    "plt.plot(recall, precision, marker='.', label='Precision-Recall Curve', color='steelblue')\n",
    "plt.xlim([0.0, 1.1])\n",
    "plt.ylim([0.0, 1.1])\n",
    "plt.xlabel('Recall', fontsize=9)\n",
    "plt.ylabel('Precision', fontsize=9)\n",
    "plt.title('Precision-Recall Curve', fontsize=10, fontweight='bold')\n",
    "plt.legend(loc='lower right', fontsize=9)\n",
    "plt.xticks(fontsize=9)\n",
    "plt.yticks(fontsize=9)\n",
    "ax = plt.gca()\n",
    "ax.spines['bottom'].set_color('black')\n",
    "ax.spines['left'].set_color('black')\n",
    "ax.spines['top'].set_visible(False)\n",
    "ax.spines['right'].set_visible(False)\n",
    "plt.show()"
   ]
  },
  {
   "cell_type": "code",
   "execution_count": 100,
   "id": "e3f01661",
   "metadata": {},
   "outputs": [
    {
     "data": {
      "text/html": [
       "<div>\n",
       "<style scoped>\n",
       "    .dataframe tbody tr th:only-of-type {\n",
       "        vertical-align: middle;\n",
       "    }\n",
       "\n",
       "    .dataframe tbody tr th {\n",
       "        vertical-align: top;\n",
       "    }\n",
       "\n",
       "    .dataframe thead th {\n",
       "        text-align: right;\n",
       "    }\n",
       "</style>\n",
       "<table border=\"1\" class=\"dataframe\">\n",
       "  <thead>\n",
       "    <tr style=\"text-align: right;\">\n",
       "      <th></th>\n",
       "      <th>review</th>\n",
       "      <th>prediction</th>\n",
       "      <th>confidence</th>\n",
       "    </tr>\n",
       "  </thead>\n",
       "  <tbody>\n",
       "    <tr>\n",
       "      <th>2</th>\n",
       "      <td>there is no real story the film seems more lik...</td>\n",
       "      <td>1</td>\n",
       "      <td>0.501358</td>\n",
       "    </tr>\n",
       "    <tr>\n",
       "      <th>3</th>\n",
       "      <td>um .... a serious film about troubled teens in...</td>\n",
       "      <td>0</td>\n",
       "      <td>0.586890</td>\n",
       "    </tr>\n",
       "    <tr>\n",
       "      <th>4</th>\n",
       "      <td>i'm totally agree with garryjohal from singapo...</td>\n",
       "      <td>0</td>\n",
       "      <td>0.660276</td>\n",
       "    </tr>\n",
       "    <tr>\n",
       "      <th>5</th>\n",
       "      <td>this is the first movie i've seen from singapo...</td>\n",
       "      <td>1</td>\n",
       "      <td>0.605903</td>\n",
       "    </tr>\n",
       "    <tr>\n",
       "      <th>6</th>\n",
       "      <td>yes non-singaporean's can't see what's the big...</td>\n",
       "      <td>1</td>\n",
       "      <td>0.561142</td>\n",
       "    </tr>\n",
       "    <tr>\n",
       "      <th>...</th>\n",
       "      <td>...</td>\n",
       "      <td>...</td>\n",
       "      <td>...</td>\n",
       "    </tr>\n",
       "    <tr>\n",
       "      <th>47227</th>\n",
       "      <td>this is another of my favorite columbos. it sp...</td>\n",
       "      <td>1</td>\n",
       "      <td>0.686893</td>\n",
       "    </tr>\n",
       "    <tr>\n",
       "      <th>47228</th>\n",
       "      <td>talk about being boring! i got this expecting ...</td>\n",
       "      <td>0</td>\n",
       "      <td>0.551110</td>\n",
       "    </tr>\n",
       "    <tr>\n",
       "      <th>47229</th>\n",
       "      <td>i never thought i'd say this about a biopic, b...</td>\n",
       "      <td>1</td>\n",
       "      <td>0.512386</td>\n",
       "    </tr>\n",
       "    <tr>\n",
       "      <th>47230</th>\n",
       "      <td>spirit and chaos is an artistic biopic of miya...</td>\n",
       "      <td>1</td>\n",
       "      <td>0.597017</td>\n",
       "    </tr>\n",
       "    <tr>\n",
       "      <th>47231</th>\n",
       "      <td>i'll make this brief. this was a joy to watch....</td>\n",
       "      <td>1</td>\n",
       "      <td>0.532971</td>\n",
       "    </tr>\n",
       "  </tbody>\n",
       "</table>\n",
       "<p>23478 rows × 3 columns</p>\n",
       "</div>"
      ],
      "text/plain": [
       "                                                  review  prediction  \\\n",
       "2      there is no real story the film seems more lik...           1   \n",
       "3      um .... a serious film about troubled teens in...           0   \n",
       "4      i'm totally agree with garryjohal from singapo...           0   \n",
       "5      this is the first movie i've seen from singapo...           1   \n",
       "6      yes non-singaporean's can't see what's the big...           1   \n",
       "...                                                  ...         ...   \n",
       "47227  this is another of my favorite columbos. it sp...           1   \n",
       "47228  talk about being boring! i got this expecting ...           0   \n",
       "47229  i never thought i'd say this about a biopic, b...           1   \n",
       "47230  spirit and chaos is an artistic biopic of miya...           1   \n",
       "47231  i'll make this brief. this was a joy to watch....           1   \n",
       "\n",
       "       confidence  \n",
       "2        0.501358  \n",
       "3        0.586890  \n",
       "4        0.660276  \n",
       "5        0.605903  \n",
       "6        0.561142  \n",
       "...           ...  \n",
       "47227    0.686893  \n",
       "47228    0.551110  \n",
       "47229    0.512386  \n",
       "47230    0.597017  \n",
       "47231    0.532971  \n",
       "\n",
       "[23478 rows x 3 columns]"
      ]
     },
     "execution_count": 100,
     "metadata": {},
     "output_type": "execute_result"
    }
   ],
   "source": [
    "confidence = np.max(probabilities_test, axis=1)\n",
    "df_bow = pd.DataFrame(corpus_test, columns=['review'])\n",
    "df_bow['prediction'] = prediction_test\n",
    "df_bow['confidence'] = confidence\n",
    "df_bow"
   ]
  },
  {
   "cell_type": "markdown",
   "id": "d44f6e4a",
   "metadata": {},
   "source": [
    "The second model run utilized the Bag of Words approach. In this analysis, the data was first filtered by the ds_part column to separate the training and testing sets. The text data (corpus) was then prepared separately for both sets. To enhance the quality of the analysis, the stop_words functionality was applied to remove irrelevant or excessive words that do not contribute meaningful insights.\n",
    "\n",
    "A count vectorizer was used to quantify the words in each review, generating inputs for the gradient boosting model. This classifier was configured with 50 trees, a learning rate of 0.01, and a maximum depth of 10. The resulting F1 score for both the training and testing sets was 0.78. Additionally, the ROC curve suggests the model is reasonably strong, outperforming a random baseline. Although it underperforms compared to the BERT model, it still maintains a reasonably favorable balance between precision and recall across different thresholds. For instance, at an F1 score of 0.78, it achieves a precision of 0.71 and a recall of 0.86 (where values closer to 1 are preferable).\n",
    "\n",
    "---"
   ]
  },
  {
   "cell_type": "markdown",
   "id": "1973f403",
   "metadata": {},
   "source": [
    "#### TF-IDF Model"
   ]
  },
  {
   "cell_type": "code",
   "execution_count": 101,
   "id": "9a50f4a7",
   "metadata": {},
   "outputs": [],
   "source": [
    "train_reviews = df_reviews[df_reviews['ds_part'] == 'train']\n",
    "corpus_train = train_reviews['review']\n",
    "\n",
    "test_reviews =  df_reviews[df_reviews['ds_part'] == 'test']\n",
    "corpus_test = test_reviews['review']"
   ]
  },
  {
   "cell_type": "code",
   "execution_count": 103,
   "id": "994ca6f6",
   "metadata": {},
   "outputs": [],
   "source": [
    "stop_words = list(stopwords.words('english')) \n",
    "count_tf_idf = TfidfVectorizer(stop_words=stop_words)\n",
    "tf_idf_train = count_tf_idf.fit_transform(corpus_train)\n",
    "tf_idf_test = count_tf_idf.transform(corpus_test)"
   ]
  },
  {
   "cell_type": "code",
   "execution_count": 104,
   "id": "de6fbef1",
   "metadata": {
    "scrolled": true
   },
   "outputs": [
    {
     "name": "stdout",
     "output_type": "stream",
     "text": [
      "F1 Score Train: 0.94\n",
      "F1 Score Test: 0.88\n",
      "\n",
      "Threshold = 0.00 | Precision = 0.498, Recall = 1.000, F1 = 0.665\n",
      "Threshold = 0.10 | Precision = 0.594, Recall = 0.998, F1 = 0.744\n",
      "Threshold = 0.20 | Precision = 0.675, Recall = 0.989, F1 = 0.803\n",
      "Threshold = 0.30 | Precision = 0.756, Recall = 0.973, F1 = 0.851\n",
      "Threshold = 0.40 | Precision = 0.823, Recall = 0.940, F1 = 0.878\n",
      "Threshold = 0.50 | Precision = 0.884, Recall = 0.881, F1 = 0.883\n",
      "Threshold = 0.60 | Precision = 0.928, Recall = 0.794, F1 = 0.856\n",
      "Threshold = 0.70 | Precision = 0.955, Recall = 0.661, F1 = 0.781\n",
      "Threshold = 0.80 | Precision = 0.978, Recall = 0.473, F1 = 0.637\n",
      "Threshold = 0.90 | Precision = 0.989, Recall = 0.222, F1 = 0.363\n"
     ]
    },
    {
     "data": {
      "image/png": "[encoded data removed]",
      "text/plain": [
       "<Figure size 500x350 with 1 Axes>"
      ]
     },
     "metadata": {},
     "output_type": "display_data"
    },
    {
     "data": {
      "image/png": "[encoded data removed]",
      "text/plain": [
       "<Figure size 512x350 with 1 Axes>"
      ]
     },
     "metadata": {},
     "output_type": "display_data"
    }
   ],
   "source": [
    "features_train = tf_idf_train\n",
    "features_test = tf_idf_test\n",
    "\n",
    "target_train = train_reviews['pos'].values \n",
    "target_test = test_reviews['pos'].values \n",
    "\n",
    "model_tf = LogisticRegression(max_iter=1000, random_state=42)\n",
    "model_tf.fit(features_train, target_train)\n",
    "\n",
    "prediction_train = model_tf.predict(features_train)\n",
    "train_accuracy = f1_score(target_train, prediction_train)\n",
    "\n",
    "prediction_test = model_tf.predict(features_test)\n",
    "test_accuracy = f1_score(target_test, prediction_test)\n",
    "\n",
    "print(f\"F1 Score Train: {train_accuracy:.2f}\")\n",
    "print(f\"F1 Score Test: {test_accuracy:.2f}\")\n",
    "print() \n",
    "\n",
    "probabilities_test = model_tf.predict_proba(features_test)\n",
    "probabilities_one_test = probabilities_test[:, 1]\n",
    "\n",
    "for threshold in np.arange(0, 1.0, 0.1):\n",
    "    predictions_test = (probabilities_one_test >= threshold)\n",
    "    ps_tf = precision_score(target_test, predictions_test)\n",
    "    rs_tf = recall_score(target_test, predictions_test)\n",
    "    f1_tf = f1_score(target_test, predictions_test)\n",
    "    \n",
    "\n",
    "    print('Threshold = {:.2f} | Precision = {:.3f}, Recall = {:.3f}, F1 = {:.3f}'.format(threshold, ps_tf, rs_tf, f1_tf))\n",
    "   \n",
    "fpr, tpr, thresholds = roc_curve(target_test, probabilities_one_test)\n",
    "precision, recall, thresholds_prc = precision_recall_curve(target_test, probabilities_one_test)\n",
    "\n",
    "sns.set_theme(style=\"whitegrid\", palette=\"Blues\")\n",
    "plt.figure(figsize=(5, 3.5))\n",
    "plt.plot(fpr, tpr, label='TF-IDF', color='steelblue', lw=2)\n",
    "plt.plot([0, 1], [0, 1], linestyle='--', color='grey', label='Random Model', lw=2)\n",
    "plt.xlim([0.0, 1.0])\n",
    "plt.ylim([0.0, 1.0])\n",
    "plt.xlabel('False Positive Rate', fontsize=9)\n",
    "plt.ylabel('True Positive Rate', fontsize=9)\n",
    "plt.title('ROC Curve', fontsize=10, fontweight='bold')\n",
    "plt.legend(loc='lower right', fontsize=9)\n",
    "plt.xticks(fontsize=9)\n",
    "plt.yticks(fontsize=9)\n",
    "ax = plt.gca()\n",
    "ax.spines['bottom'].set_color('black')\n",
    "ax.spines['left'].set_color('black')\n",
    "ax.spines['top'].set_visible(False)\n",
    "ax.spines['right'].set_visible(False)\n",
    "plt.show()\n",
    "\n",
    "\n",
    "sns.set_theme(style=\"whitegrid\", palette=\"Blues\")\n",
    "plt.figure(figsize=(5.12, 3.5))\n",
    "plt.plot(recall, precision, marker='.', label='Precision-Recall Curve', color='steelblue')\n",
    "plt.xlim([0.0, 1.1])\n",
    "plt.ylim([0.0, 1.1])\n",
    "plt.xlabel('Recall', fontsize=9)\n",
    "plt.ylabel('Precision', fontsize=9)\n",
    "plt.title('Precision-Recall Curve', fontsize=10, fontweight='bold')\n",
    "plt.legend(loc='lower right', fontsize=9)\n",
    "plt.xticks(fontsize=9)\n",
    "plt.yticks(fontsize=9)\n",
    "ax = plt.gca()\n",
    "ax.spines['bottom'].set_color('black')\n",
    "ax.spines['left'].set_color('black')\n",
    "ax.spines['top'].set_visible(False)\n",
    "ax.spines['right'].set_visible(False)\n",
    "plt.show()"
   ]
  },
  {
   "cell_type": "code",
   "execution_count": 105,
   "id": "6e880235",
   "metadata": {},
   "outputs": [
    {
     "data": {
      "text/html": [
       "<div>\n",
       "<style scoped>\n",
       "    .dataframe tbody tr th:only-of-type {\n",
       "        vertical-align: middle;\n",
       "    }\n",
       "\n",
       "    .dataframe tbody tr th {\n",
       "        vertical-align: top;\n",
       "    }\n",
       "\n",
       "    .dataframe thead th {\n",
       "        text-align: right;\n",
       "    }\n",
       "</style>\n",
       "<table border=\"1\" class=\"dataframe\">\n",
       "  <thead>\n",
       "    <tr style=\"text-align: right;\">\n",
       "      <th></th>\n",
       "      <th>review</th>\n",
       "      <th>prediction</th>\n",
       "      <th>confidence</th>\n",
       "    </tr>\n",
       "  </thead>\n",
       "  <tbody>\n",
       "    <tr>\n",
       "      <th>2</th>\n",
       "      <td>there is no real story the film seems more lik...</td>\n",
       "      <td>0</td>\n",
       "      <td>0.594910</td>\n",
       "    </tr>\n",
       "    <tr>\n",
       "      <th>3</th>\n",
       "      <td>um .... a serious film about troubled teens in...</td>\n",
       "      <td>1</td>\n",
       "      <td>0.831490</td>\n",
       "    </tr>\n",
       "    <tr>\n",
       "      <th>4</th>\n",
       "      <td>i'm totally agree with garryjohal from singapo...</td>\n",
       "      <td>1</td>\n",
       "      <td>0.662658</td>\n",
       "    </tr>\n",
       "    <tr>\n",
       "      <th>5</th>\n",
       "      <td>this is the first movie i've seen from singapo...</td>\n",
       "      <td>1</td>\n",
       "      <td>0.876568</td>\n",
       "    </tr>\n",
       "    <tr>\n",
       "      <th>6</th>\n",
       "      <td>yes non-singaporean's can't see what's the big...</td>\n",
       "      <td>1</td>\n",
       "      <td>0.686487</td>\n",
       "    </tr>\n",
       "    <tr>\n",
       "      <th>...</th>\n",
       "      <td>...</td>\n",
       "      <td>...</td>\n",
       "      <td>...</td>\n",
       "    </tr>\n",
       "    <tr>\n",
       "      <th>47227</th>\n",
       "      <td>this is another of my favorite columbos. it sp...</td>\n",
       "      <td>1</td>\n",
       "      <td>0.940987</td>\n",
       "    </tr>\n",
       "    <tr>\n",
       "      <th>47228</th>\n",
       "      <td>talk about being boring! i got this expecting ...</td>\n",
       "      <td>0</td>\n",
       "      <td>0.882803</td>\n",
       "    </tr>\n",
       "    <tr>\n",
       "      <th>47229</th>\n",
       "      <td>i never thought i'd say this about a biopic, b...</td>\n",
       "      <td>1</td>\n",
       "      <td>0.632945</td>\n",
       "    </tr>\n",
       "    <tr>\n",
       "      <th>47230</th>\n",
       "      <td>spirit and chaos is an artistic biopic of miya...</td>\n",
       "      <td>1</td>\n",
       "      <td>0.927353</td>\n",
       "    </tr>\n",
       "    <tr>\n",
       "      <th>47231</th>\n",
       "      <td>i'll make this brief. this was a joy to watch....</td>\n",
       "      <td>1</td>\n",
       "      <td>0.761456</td>\n",
       "    </tr>\n",
       "  </tbody>\n",
       "</table>\n",
       "<p>23478 rows × 3 columns</p>\n",
       "</div>"
      ],
      "text/plain": [
       "                                                  review  prediction  \\\n",
       "2      there is no real story the film seems more lik...           0   \n",
       "3      um .... a serious film about troubled teens in...           1   \n",
       "4      i'm totally agree with garryjohal from singapo...           1   \n",
       "5      this is the first movie i've seen from singapo...           1   \n",
       "6      yes non-singaporean's can't see what's the big...           1   \n",
       "...                                                  ...         ...   \n",
       "47227  this is another of my favorite columbos. it sp...           1   \n",
       "47228  talk about being boring! i got this expecting ...           0   \n",
       "47229  i never thought i'd say this about a biopic, b...           1   \n",
       "47230  spirit and chaos is an artistic biopic of miya...           1   \n",
       "47231  i'll make this brief. this was a joy to watch....           1   \n",
       "\n",
       "       confidence  \n",
       "2        0.594910  \n",
       "3        0.831490  \n",
       "4        0.662658  \n",
       "5        0.876568  \n",
       "6        0.686487  \n",
       "...           ...  \n",
       "47227    0.940987  \n",
       "47228    0.882803  \n",
       "47229    0.632945  \n",
       "47230    0.927353  \n",
       "47231    0.761456  \n",
       "\n",
       "[23478 rows x 3 columns]"
      ]
     },
     "execution_count": 105,
     "metadata": {},
     "output_type": "execute_result"
    }
   ],
   "source": [
    "confidence = np.max(model_tf.predict_proba(features_test), axis=1)\n",
    "df_tf = pd.DataFrame(corpus_test, columns=['review'])\n",
    "df_tf['prediction'] = prediction_test\n",
    "df_tf['confidence'] = confidence\n",
    "df_tf"
   ]
  },
  {
   "cell_type": "markdown",
   "id": "6417c092",
   "metadata": {},
   "source": [
    "The third and final model employed was the TF-IDF model. The preprocessing steps were similar to those used for the Bag of Words model. However, unlike the Bag of Words approach, which outputs word frequencies, the TF-IDF model assigns weights to words based on their importance in the reviews, giving higher weights to rarer words.\n",
    "\n",
    "For this analysis, a Logistic Regression model was utilized. The F1 score achieved was 0.94 on the training set and 0.88 on the test set, indicating a low risk of overfitting. Additionally, these results surpassed the benchmark score of 0.85. Additionally, the ROC and Precision-Recall curves indicate that the model is quite strong, performing well above a random baseline. Across various thresholds, it maintains a favorable balance between precision and recall. For example, at an F1 score of 0.88, the model achieves a precision of 0.884 and a recall of 0.881 (values closer to 1 are preferable). \n",
    "\n",
    "---"
   ]
  },
  {
   "cell_type": "markdown",
   "id": "e412b60a",
   "metadata": {},
   "source": [
    "#### Testing Own Reviews\n",
    "---"
   ]
  },
  {
   "cell_type": "code",
   "execution_count": 106,
   "id": "87a0244b",
   "metadata": {},
   "outputs": [],
   "source": [
    "new_reviews = [\n",
    "    \"the movie was absolutely stunning. the visuals, the acting, and the story were all top-notch!\",\n",
    "    \"terrible acting, weak script, and a complete waste of time.\",\n",
    "    \"an exceptional story with captivating performances. i would highly recommend it!\",\n",
    "    \"this movie was boring and predictable. i wouldn’t recommend it.\",\n",
    "    \"fantastic movie! the plot twists kept me on edge until the very end.\",\n",
    "    \"the dialogue was laughable, and the acting was cringeworthy.\",\n",
    "    \"a spectacular film with amazing cinematography. i loved every second of it!\",\n",
    "    \"this movie was a chore to sit through. i wouldn’t recommend it to anyone.\",\n",
    "    \"this movie hit all the right notes. emotional, gripping, and thoroughly enjoyable.\",\n",
    "    \"it felt like the movie had no direction. completely pointless.\",\n",
    "    \"absolutely loved it! the characters were well-written, and the direction was perfect.\",\n",
    "    \"an absolute disaster. nothing about this movie worked.\",\n",
    "    \"an incredible journey with a powerful message. highly recommended!\",\n",
    "    \"the writing was lazy, and the acting was uninspired. a mess.\",\n",
    "    \"this movie was pure art. every scene was a visual masterpiece.\",\n",
    "    \"the plot holes were so big you could drive a truck through them.\",\n",
    "    \"the humor in this movie was on point! i couldn’t stop laughing.\",\n",
    "    \"horrible film. bad pacing, bad acting, and bad everything.\",\n",
    "    \"a truly inspiring story. i feel like watching it again!\",\n",
    "    \"nothing about this movie made sense. a complete waste of money.\",\n",
    "    \"the action scenes were perfectly executed, and the pacing was just right.\",\n",
    "    \"this movie was slow, boring, and had no redeeming qualities.\",\n",
    "    \"this is what movies should be like—emotional, engaging, and beautiful.\",\n",
    "    \"i don’t understand how this movie even got made. awful.\",\n",
    "    \"a masterpiece! the soundtrack, visuals, and performances were impeccable.\",\n",
    "    \"the story was all over the place, and the editing was awful.\",\n",
    "    \"this film was pure entertainment. fun from start to finish.\",\n",
    "    \"confusing plot, poorly developed characters, and bad direction.\",\n",
    "    \"the acting was so authentic it felt like real life. what a movie!\",\n",
    "    \"this movie was so bad i wanted to walk out halfway through.\",\n",
    "    \"a delightful and uplifting movie that left me feeling great.\",\n",
    "    \"an overhyped disaster. i regret wasting my time on this.\",\n",
    "    \"this movie restored my faith in cinema. what a brilliant story!\",\n",
    "    \"what a terrible experience. i feel robbed of two hours of my life.\",\n",
    "    \"amazing cast, brilliant writing, and an unforgettable story. just perfect!\",\n",
    "    \"this movie was awful. the pacing was off, and the story made no sense.\",\n",
    "    \"the humor in this movie was just perfect!\",\n",
    "    \"the visuals, soundtrack, and direction were incredible.\",\n",
    "    \"this was a waste of time, with no redeeming qualities whatsoever.\",\n",
    "    \"a thrilling and engaging movie experience that kept me hooked until the very last scene!\"\n",
    "]\n",
    "\n",
    "\n",
    "actual_sentiments = [\n",
    "    1, 0, 1, 0, 1, 0, 1, 0, 1, 0,\n",
    "    1, 0, 1, 0, 1, 0, 1, 0, 1, 0,\n",
    "    1, 0, 1, 0, 1, 0, 1, 0, 1, 0,\n",
    "    1, 0, 1, 0, 1, 0, 1, 0, 1, 1\n",
    "]\n"
   ]
  },
  {
   "cell_type": "code",
   "execution_count": 107,
   "id": "6d36b8ec",
   "metadata": {},
   "outputs": [
    {
     "name": "stderr",
     "output_type": "stream",
     "text": [
      "100%|████████████████████████████████████████████████████████████████████████████████████| 1/1 [00:34<00:00, 34.79s/it]\n"
     ]
    }
   ],
   "source": [
    "# BERT \n",
    "tokenizer = transformers.BertTokenizer.from_pretrained('bert-base-uncased')\n",
    "config = BertConfig.from_pretrained('bert-base-uncased')\n",
    "model = BertModel.from_pretrained('bert-base-uncased')\n",
    "\n",
    "max_length = 512\n",
    "batch_size = 40\n",
    "\n",
    "ids_list = []\n",
    "attention_mask_list = []\n",
    "\n",
    "for input_text in new_reviews:\n",
    "    ids = tokenizer.encode(input_text.lower(), add_special_tokens=True, truncation=True, max_length=max_length)\n",
    "    padded = np.array(ids + [0] * (max_length - len(ids)))\n",
    "    attention_mask = np.where(padded != 0, 1, 0)\n",
    "    ids_list.append(padded)\n",
    "    attention_mask_list.append(attention_mask)\n",
    "\n",
    "ids_array = np.array(ids_list)\n",
    "attention_mask_array = np.array(attention_mask_list)\n",
    "\n",
    "embeddings = []\n",
    "\n",
    "for i in tqdm(range((len(ids_array) + batch_size - 1) // batch_size)):  \n",
    "    ids_batch = torch.tensor(ids_array[batch_size * i : batch_size * (i + 1)], dtype=torch.long)\n",
    "    attention_mask_batch = torch.tensor(attention_mask_array[batch_size * i : batch_size * (i + 1)], dtype=torch.long)\n",
    "    with torch.no_grad():\n",
    "        batch_embeddings = model(ids_batch, attention_mask=attention_mask_batch)\n",
    "    embeddings.append(batch_embeddings[0][:, 0, :].numpy())\n",
    "    \n",
    "\n"
   ]
  },
  {
   "cell_type": "code",
   "execution_count": 143,
   "id": "9c30d83c",
   "metadata": {
    "scrolled": true
   },
   "outputs": [
    {
     "name": "stdout",
     "output_type": "stream",
     "text": [
      "F1 Score BERT: 0.87\n",
      "\n"
     ]
    },
    {
     "data": {
      "image/png": "[encoded data removed]",
      "text/plain": [
       "<Figure size 500x350 with 1 Axes>"
      ]
     },
     "metadata": {},
     "output_type": "display_data"
    },
    {
     "data": {
      "image/png": "[encoded data removed]",
      "text/plain": [
       "<Figure size 500x350 with 1 Axes>"
      ]
     },
     "metadata": {},
     "output_type": "display_data"
    }
   ],
   "source": [
    "model_new = load('logistic_regression_model.joblib')\n",
    "features_new = np.concatenate(embeddings)\n",
    "prediction = model_new.predict(features_new)\n",
    "f1_bert = f1_score(actual_sentiments, prediction)\n",
    "\n",
    "print(f\"F1 Score BERT: {f1_bert:.2f}\")\n",
    "print() \n",
    "\n",
    "probabilities_test = model_new.predict_proba(features_new)\n",
    "probabilities_one_test = probabilities_test[:, 1]\n",
    "\n",
    "for threshold in np.arange(0, 1.0, 0.1):\n",
    "    predictions_test_bert = (probabilities_one_test >= threshold)\n",
    "    ps_bert = precision_score(actual_sentiments, prediction)\n",
    "    rs_bert = recall_score(actual_sentiments, prediction)\n",
    "    f1_bert = f1_score(actual_sentiments, prediction)\n",
    "       \n",
    "fpr, tpr, thresholds = roc_curve(actual_sentiments, probabilities_one_test)\n",
    "precision, recall, thresholds_prc = precision_recall_curve(actual_sentiments, probabilities_one_test)\n",
    "\n",
    "sns.set_theme(style=\"whitegrid\", palette=\"Blues\")\n",
    "plt.figure(figsize=(5, 3.5))\n",
    "plt.plot(fpr, tpr, label='BERT', color='steelblue', lw=2)\n",
    "plt.plot([0, 1], [0, 1], linestyle='--', color='grey', label='Random Model', lw=2)\n",
    "plt.xlim([0.0, 1.1])\n",
    "plt.ylim([0.0, 1.1])\n",
    "plt.xlabel('False Positive Rate', fontsize=9)\n",
    "plt.ylabel('True Positive Rate', fontsize=9)\n",
    "plt.title('ROC Curve', fontsize=10, fontweight='bold')\n",
    "plt.legend(loc='lower right', fontsize=9)\n",
    "plt.xticks(fontsize=9)\n",
    "plt.yticks(fontsize=9)\n",
    "ax = plt.gca()\n",
    "ax.spines['bottom'].set_color('black')\n",
    "ax.spines['left'].set_color('black')\n",
    "ax.spines['top'].set_visible(False)\n",
    "ax.spines['right'].set_visible(False)\n",
    "plt.show()\n",
    "\n",
    "\n",
    "sns.set_theme(style=\"whitegrid\", palette=\"Blues\")\n",
    "plt.figure(figsize=(5, 3.5))\n",
    "plt.plot(recall, precision, marker='.', label='Precision-Recall Curve', color='steelblue')\n",
    "plt.xlim([0.0, 1.1])\n",
    "plt.ylim([0.0, 1.1])\n",
    "plt.xlabel('Recall', fontsize=9)\n",
    "plt.ylabel('Precision', fontsize=9)\n",
    "plt.title('Precision-Recall Curve', fontsize=10, fontweight='bold')\n",
    "plt.legend(loc='lower right', fontsize=9)\n",
    "plt.xticks(fontsize=9)\n",
    "plt.yticks(fontsize=9)\n",
    "ax = plt.gca()\n",
    "ax.spines['bottom'].set_color('black')\n",
    "ax.spines['left'].set_color('black')\n",
    "ax.spines['top'].set_visible(False)\n",
    "ax.spines['right'].set_visible(False)\n",
    "plt.show()"
   ]
  },
  {
   "cell_type": "code",
   "execution_count": 109,
   "id": "a29d1b2d",
   "metadata": {},
   "outputs": [
    {
     "data": {
      "text/html": [
       "<div>\n",
       "<style scoped>\n",
       "    .dataframe tbody tr th:only-of-type {\n",
       "        vertical-align: middle;\n",
       "    }\n",
       "\n",
       "    .dataframe tbody tr th {\n",
       "        vertical-align: top;\n",
       "    }\n",
       "\n",
       "    .dataframe thead th {\n",
       "        text-align: right;\n",
       "    }\n",
       "</style>\n",
       "<table border=\"1\" class=\"dataframe\">\n",
       "  <thead>\n",
       "    <tr style=\"text-align: right;\">\n",
       "      <th></th>\n",
       "      <th>review</th>\n",
       "      <th>prediction</th>\n",
       "      <th>confidence</th>\n",
       "    </tr>\n",
       "  </thead>\n",
       "  <tbody>\n",
       "    <tr>\n",
       "      <th>0</th>\n",
       "      <td>the movie was absolutely stunning. the visuals...</td>\n",
       "      <td>1</td>\n",
       "      <td>0.960097</td>\n",
       "    </tr>\n",
       "    <tr>\n",
       "      <th>1</th>\n",
       "      <td>terrible acting, weak script, and a complete w...</td>\n",
       "      <td>0</td>\n",
       "      <td>0.993143</td>\n",
       "    </tr>\n",
       "    <tr>\n",
       "      <th>2</th>\n",
       "      <td>an exceptional story with captivating performa...</td>\n",
       "      <td>1</td>\n",
       "      <td>0.914501</td>\n",
       "    </tr>\n",
       "    <tr>\n",
       "      <th>3</th>\n",
       "      <td>this movie was boring and predictable. i would...</td>\n",
       "      <td>0</td>\n",
       "      <td>0.964105</td>\n",
       "    </tr>\n",
       "    <tr>\n",
       "      <th>4</th>\n",
       "      <td>fantastic movie! the plot twists kept me on ed...</td>\n",
       "      <td>1</td>\n",
       "      <td>0.534381</td>\n",
       "    </tr>\n",
       "    <tr>\n",
       "      <th>5</th>\n",
       "      <td>the dialogue was laughable, and the acting was...</td>\n",
       "      <td>0</td>\n",
       "      <td>0.995343</td>\n",
       "    </tr>\n",
       "    <tr>\n",
       "      <th>6</th>\n",
       "      <td>a spectacular film with amazing cinematography...</td>\n",
       "      <td>1</td>\n",
       "      <td>0.941683</td>\n",
       "    </tr>\n",
       "    <tr>\n",
       "      <th>7</th>\n",
       "      <td>this movie was a chore to sit through. i would...</td>\n",
       "      <td>0</td>\n",
       "      <td>0.945373</td>\n",
       "    </tr>\n",
       "    <tr>\n",
       "      <th>8</th>\n",
       "      <td>this movie hit all the right notes. emotional,...</td>\n",
       "      <td>1</td>\n",
       "      <td>0.971913</td>\n",
       "    </tr>\n",
       "    <tr>\n",
       "      <th>9</th>\n",
       "      <td>it felt like the movie had no direction. compl...</td>\n",
       "      <td>0</td>\n",
       "      <td>0.894707</td>\n",
       "    </tr>\n",
       "  </tbody>\n",
       "</table>\n",
       "</div>"
      ],
      "text/plain": [
       "                                              review  prediction  confidence\n",
       "0  the movie was absolutely stunning. the visuals...           1    0.960097\n",
       "1  terrible acting, weak script, and a complete w...           0    0.993143\n",
       "2  an exceptional story with captivating performa...           1    0.914501\n",
       "3  this movie was boring and predictable. i would...           0    0.964105\n",
       "4  fantastic movie! the plot twists kept me on ed...           1    0.534381\n",
       "5  the dialogue was laughable, and the acting was...           0    0.995343\n",
       "6  a spectacular film with amazing cinematography...           1    0.941683\n",
       "7  this movie was a chore to sit through. i would...           0    0.945373\n",
       "8  this movie hit all the right notes. emotional,...           1    0.971913\n",
       "9  it felt like the movie had no direction. compl...           0    0.894707"
      ]
     },
     "execution_count": 109,
     "metadata": {},
     "output_type": "execute_result"
    }
   ],
   "source": [
    "confidence = np.max(model_new.predict_proba(features_new), axis=1)\n",
    "df_bert2 = pd.DataFrame(new_reviews, columns=['review'])\n",
    "df_bert2['prediction'] = prediction\n",
    "df_bert2['confidence'] = confidence\n",
    "df_bert2.head(10)"
   ]
  },
  {
   "cell_type": "code",
   "execution_count": 145,
   "id": "bde2beb5",
   "metadata": {},
   "outputs": [
    {
     "name": "stdout",
     "output_type": "stream",
     "text": [
      "F1 Score BOW: 0.82\n",
      "\n"
     ]
    },
    {
     "data": {
      "image/png": "[encoded data removed]",
      "text/plain": [
       "<Figure size 500x350 with 1 Axes>"
      ]
     },
     "metadata": {},
     "output_type": "display_data"
    },
    {
     "data": {
      "image/png": "[encoded data removed]",
      "text/plain": [
       "<Figure size 511x350 with 1 Axes>"
      ]
     },
     "metadata": {},
     "output_type": "display_data"
    }
   ],
   "source": [
    "# Bag of Words\n",
    "features_new = count_vect.transform(new_reviews)\n",
    "predictions_new = model_bow.predict(features_new)\n",
    "f1_bow = f1_score(actual_sentiments, predictions_new)\n",
    "print(f\"F1 Score BOW: {f1_bow:.2f}\")\n",
    "print() \n",
    "\n",
    "probabilities_test = model_bow.predict_proba(features_new)\n",
    "probabilities_one_test = probabilities_test[:, 1]\n",
    "\n",
    "for threshold in np.arange(0, 1.0, 0.1):\n",
    "    predictions_test_bow = (probabilities_one_test >= threshold)\n",
    "    ps_bow = precision_score(actual_sentiments, predictions_new)\n",
    "    rs_bow = recall_score(actual_sentiments, predictions_new)\n",
    "    f1_bow = f1_score(actual_sentiments, predictions_new)\n",
    "       \n",
    "fpr, tpr, thresholds = roc_curve(actual_sentiments, probabilities_one_test)\n",
    "precision, recall, thresholds_prc = precision_recall_curve(actual_sentiments, probabilities_one_test)\n",
    "\n",
    "sns.set_theme(style=\"whitegrid\", palette=\"Blues\")\n",
    "plt.figure(figsize=(5, 3.5))\n",
    "plt.plot(fpr, tpr, label='BOW', color='steelblue', lw=2)\n",
    "plt.plot([0, 1], [0, 1], linestyle='--', color='grey', label='Random Model', lw=2)\n",
    "plt.xlim([0.0, 1.0])\n",
    "plt.ylim([0.0, 1.0])\n",
    "plt.xlabel('False Positive Rate', fontsize=9)\n",
    "plt.ylabel('True Positive Rate', fontsize=9)\n",
    "plt.title('ROC Curve', fontsize=10, fontweight='bold')\n",
    "plt.legend(loc='lower right', fontsize=9)\n",
    "plt.xticks(fontsize=9)\n",
    "plt.yticks(fontsize=9)\n",
    "ax = plt.gca()\n",
    "ax.spines['bottom'].set_color('black')\n",
    "ax.spines['left'].set_color('black')\n",
    "ax.spines['top'].set_visible(False)\n",
    "ax.spines['right'].set_visible(False)\n",
    "plt.show()\n",
    "\n",
    "\n",
    "sns.set_theme(style=\"whitegrid\", palette=\"Blues\")\n",
    "plt.figure(figsize=(5.11, 3.5))\n",
    "plt.plot(recall, precision, marker='.', label='Precision-Recall Curve', color='steelblue')\n",
    "plt.xlim([0.0, 1.1])\n",
    "plt.ylim([0.0, 1.1])\n",
    "plt.xlabel('Recall', fontsize=9)\n",
    "plt.ylabel('Precision', fontsize=9)\n",
    "plt.title('Precision-Recall Curve', fontsize=10, fontweight='bold')\n",
    "plt.legend(loc='lower right', fontsize=9)\n",
    "plt.xticks(fontsize=9)\n",
    "plt.yticks(fontsize=9)\n",
    "ax = plt.gca()\n",
    "ax.spines['bottom'].set_color('black')\n",
    "ax.spines['left'].set_color('black')\n",
    "ax.spines['top'].set_visible(False)\n",
    "ax.spines['right'].set_visible(False)\n",
    "plt.show()"
   ]
  },
  {
   "cell_type": "code",
   "execution_count": 117,
   "id": "d38ba6d2",
   "metadata": {},
   "outputs": [
    {
     "data": {
      "text/html": [
       "<div>\n",
       "<style scoped>\n",
       "    .dataframe tbody tr th:only-of-type {\n",
       "        vertical-align: middle;\n",
       "    }\n",
       "\n",
       "    .dataframe tbody tr th {\n",
       "        vertical-align: top;\n",
       "    }\n",
       "\n",
       "    .dataframe thead th {\n",
       "        text-align: right;\n",
       "    }\n",
       "</style>\n",
       "<table border=\"1\" class=\"dataframe\">\n",
       "  <thead>\n",
       "    <tr style=\"text-align: right;\">\n",
       "      <th></th>\n",
       "      <th>review</th>\n",
       "      <th>prediction</th>\n",
       "      <th>confidence</th>\n",
       "    </tr>\n",
       "  </thead>\n",
       "  <tbody>\n",
       "    <tr>\n",
       "      <th>0</th>\n",
       "      <td>the movie was absolutely stunning. the visuals...</td>\n",
       "      <td>1</td>\n",
       "      <td>0.533965</td>\n",
       "    </tr>\n",
       "    <tr>\n",
       "      <th>1</th>\n",
       "      <td>terrible acting, weak script, and a complete w...</td>\n",
       "      <td>0</td>\n",
       "      <td>0.675560</td>\n",
       "    </tr>\n",
       "    <tr>\n",
       "      <th>2</th>\n",
       "      <td>an exceptional story with captivating performa...</td>\n",
       "      <td>1</td>\n",
       "      <td>0.535557</td>\n",
       "    </tr>\n",
       "    <tr>\n",
       "      <th>3</th>\n",
       "      <td>this movie was boring and predictable. i would...</td>\n",
       "      <td>0</td>\n",
       "      <td>0.522350</td>\n",
       "    </tr>\n",
       "    <tr>\n",
       "      <th>4</th>\n",
       "      <td>fantastic movie! the plot twists kept me on ed...</td>\n",
       "      <td>1</td>\n",
       "      <td>0.524457</td>\n",
       "    </tr>\n",
       "    <tr>\n",
       "      <th>5</th>\n",
       "      <td>the dialogue was laughable, and the acting was...</td>\n",
       "      <td>1</td>\n",
       "      <td>0.529827</td>\n",
       "    </tr>\n",
       "    <tr>\n",
       "      <th>6</th>\n",
       "      <td>a spectacular film with amazing cinematography...</td>\n",
       "      <td>1</td>\n",
       "      <td>0.536384</td>\n",
       "    </tr>\n",
       "    <tr>\n",
       "      <th>7</th>\n",
       "      <td>this movie was a chore to sit through. i would...</td>\n",
       "      <td>1</td>\n",
       "      <td>0.533965</td>\n",
       "    </tr>\n",
       "    <tr>\n",
       "      <th>8</th>\n",
       "      <td>this movie hit all the right notes. emotional,...</td>\n",
       "      <td>1</td>\n",
       "      <td>0.533965</td>\n",
       "    </tr>\n",
       "    <tr>\n",
       "      <th>9</th>\n",
       "      <td>it felt like the movie had no direction. compl...</td>\n",
       "      <td>1</td>\n",
       "      <td>0.528025</td>\n",
       "    </tr>\n",
       "  </tbody>\n",
       "</table>\n",
       "</div>"
      ],
      "text/plain": [
       "                                              review  prediction  confidence\n",
       "0  the movie was absolutely stunning. the visuals...           1    0.533965\n",
       "1  terrible acting, weak script, and a complete w...           0    0.675560\n",
       "2  an exceptional story with captivating performa...           1    0.535557\n",
       "3  this movie was boring and predictable. i would...           0    0.522350\n",
       "4  fantastic movie! the plot twists kept me on ed...           1    0.524457\n",
       "5  the dialogue was laughable, and the acting was...           1    0.529827\n",
       "6  a spectacular film with amazing cinematography...           1    0.536384\n",
       "7  this movie was a chore to sit through. i would...           1    0.533965\n",
       "8  this movie hit all the right notes. emotional,...           1    0.533965\n",
       "9  it felt like the movie had no direction. compl...           1    0.528025"
      ]
     },
     "execution_count": 117,
     "metadata": {},
     "output_type": "execute_result"
    }
   ],
   "source": [
    "confidence = np.max(model_bow.predict_proba(features_new), axis=1)\n",
    "df_bow2 = pd.DataFrame(new_reviews, columns=['review'])\n",
    "df_bow2['prediction'] = predictions_new\n",
    "df_bow2['confidence'] = confidence\n",
    "df_bow2.head(10)"
   ]
  },
  {
   "cell_type": "code",
   "execution_count": 118,
   "id": "89514344",
   "metadata": {
    "scrolled": true
   },
   "outputs": [
    {
     "name": "stdout",
     "output_type": "stream",
     "text": [
      "F1 Score TF-IDF: 0.93\n",
      "\n"
     ]
    },
    {
     "data": {
      "image/png": "[encoded data removed]",
      "text/plain": [
       "<Figure size 500x350 with 1 Axes>"
      ]
     },
     "metadata": {},
     "output_type": "display_data"
    },
    {
     "data": {
      "image/png": "[encoded data removed]",
      "text/plain": [
       "<Figure size 512x350 with 1 Axes>"
      ]
     },
     "metadata": {},
     "output_type": "display_data"
    }
   ],
   "source": [
    "# TF-IDF\n",
    "features_new = count_tf_idf.transform(new_reviews)\n",
    "predictions_new = model_tf.predict(features_new)\n",
    "f1_tf = f1_score(actual_sentiments, predictions_new)\n",
    "print(f\"F1 Score TF-IDF: {f1_tf:.2f}\")\n",
    "print() \n",
    "\n",
    "probabilities_test = model_tf.predict_proba(features_new)\n",
    "probabilities_one_test = probabilities_test[:, 1]\n",
    "\n",
    "for threshold in np.arange(0, 1.0, 0.1):\n",
    "    predictions_test_tf = (probabilities_one_test >= threshold)\n",
    "    ps_tf = precision_score(actual_sentiments, predictions_new)\n",
    "    rs_tf = recall_score(actual_sentiments, predictions_new)\n",
    "    f1_tf = f1_score(actual_sentiments, predictions_new)\n",
    "       \n",
    "fpr, tpr, thresholds = roc_curve(actual_sentiments, probabilities_one_test)\n",
    "precision, recall, thresholds_prc = precision_recall_curve(actual_sentiments, probabilities_one_test)\n",
    "\n",
    "sns.set_theme(style=\"whitegrid\", palette=\"Blues\")\n",
    "plt.figure(figsize=(5, 3.5))\n",
    "plt.plot(fpr, tpr, label='TF-IDF', color='steelblue', lw=2)\n",
    "plt.plot([0, 1], [0, 1], linestyle='--', color='grey', label='Random Model', lw=2)\n",
    "plt.xlim([0.0, 1.0])\n",
    "plt.ylim([0.0, 1.0])\n",
    "plt.xlabel('False Positive Rate', fontsize=9)\n",
    "plt.ylabel('True Positive Rate', fontsize=9)\n",
    "plt.title('ROC Curve', fontsize=10, fontweight='bold')\n",
    "plt.legend(loc='lower right', fontsize=9)\n",
    "plt.xticks(fontsize=9)\n",
    "plt.yticks(fontsize=9)\n",
    "ax = plt.gca()\n",
    "ax.spines['bottom'].set_color('black')\n",
    "ax.spines['left'].set_color('black')\n",
    "ax.spines['top'].set_visible(False)\n",
    "ax.spines['right'].set_visible(False)\n",
    "plt.show()\n",
    "\n",
    "\n",
    "sns.set_theme(style=\"whitegrid\", palette=\"Blues\")\n",
    "plt.figure(figsize=(5.12, 3.5))\n",
    "plt.plot(recall, precision, marker='.', label='Precision-Recall Curve', color='steelblue')\n",
    "plt.xlim([0.0, 1.1])\n",
    "plt.ylim([0.0, 1.1])\n",
    "plt.xlabel('Recall', fontsize=9)\n",
    "plt.ylabel('Precision', fontsize=9)\n",
    "plt.title('Precision-Recall Curve', fontsize=10, fontweight='bold')\n",
    "plt.legend(loc='lower right', fontsize=9)\n",
    "plt.xticks(fontsize=9)\n",
    "plt.yticks(fontsize=9)\n",
    "ax = plt.gca()\n",
    "ax.spines['bottom'].set_color('black')\n",
    "ax.spines['left'].set_color('black')\n",
    "ax.spines['top'].set_visible(False)\n",
    "ax.spines['right'].set_visible(False)\n",
    "plt.show()"
   ]
  },
  {
   "cell_type": "code",
   "execution_count": 119,
   "id": "f9916c87",
   "metadata": {},
   "outputs": [
    {
     "data": {
      "text/html": [
       "<div>\n",
       "<style scoped>\n",
       "    .dataframe tbody tr th:only-of-type {\n",
       "        vertical-align: middle;\n",
       "    }\n",
       "\n",
       "    .dataframe tbody tr th {\n",
       "        vertical-align: top;\n",
       "    }\n",
       "\n",
       "    .dataframe thead th {\n",
       "        text-align: right;\n",
       "    }\n",
       "</style>\n",
       "<table border=\"1\" class=\"dataframe\">\n",
       "  <thead>\n",
       "    <tr style=\"text-align: right;\">\n",
       "      <th></th>\n",
       "      <th>review</th>\n",
       "      <th>prediction</th>\n",
       "      <th>confidence</th>\n",
       "    </tr>\n",
       "  </thead>\n",
       "  <tbody>\n",
       "    <tr>\n",
       "      <th>0</th>\n",
       "      <td>the movie was absolutely stunning. the visuals...</td>\n",
       "      <td>1</td>\n",
       "      <td>0.756315</td>\n",
       "    </tr>\n",
       "    <tr>\n",
       "      <th>1</th>\n",
       "      <td>terrible acting, weak script, and a complete w...</td>\n",
       "      <td>0</td>\n",
       "      <td>0.999664</td>\n",
       "    </tr>\n",
       "    <tr>\n",
       "      <th>2</th>\n",
       "      <td>an exceptional story with captivating performa...</td>\n",
       "      <td>1</td>\n",
       "      <td>0.946435</td>\n",
       "    </tr>\n",
       "    <tr>\n",
       "      <th>3</th>\n",
       "      <td>this movie was boring and predictable. i would...</td>\n",
       "      <td>0</td>\n",
       "      <td>0.980597</td>\n",
       "    </tr>\n",
       "    <tr>\n",
       "      <th>4</th>\n",
       "      <td>fantastic movie! the plot twists kept me on ed...</td>\n",
       "      <td>1</td>\n",
       "      <td>0.824939</td>\n",
       "    </tr>\n",
       "    <tr>\n",
       "      <th>5</th>\n",
       "      <td>the dialogue was laughable, and the acting was...</td>\n",
       "      <td>0</td>\n",
       "      <td>0.894894</td>\n",
       "    </tr>\n",
       "    <tr>\n",
       "      <th>6</th>\n",
       "      <td>a spectacular film with amazing cinematography...</td>\n",
       "      <td>1</td>\n",
       "      <td>0.972549</td>\n",
       "    </tr>\n",
       "    <tr>\n",
       "      <th>7</th>\n",
       "      <td>this movie was a chore to sit through. i would...</td>\n",
       "      <td>1</td>\n",
       "      <td>0.516405</td>\n",
       "    </tr>\n",
       "    <tr>\n",
       "      <th>8</th>\n",
       "      <td>this movie hit all the right notes. emotional,...</td>\n",
       "      <td>1</td>\n",
       "      <td>0.938267</td>\n",
       "    </tr>\n",
       "    <tr>\n",
       "      <th>9</th>\n",
       "      <td>it felt like the movie had no direction. compl...</td>\n",
       "      <td>0</td>\n",
       "      <td>0.967814</td>\n",
       "    </tr>\n",
       "  </tbody>\n",
       "</table>\n",
       "</div>"
      ],
      "text/plain": [
       "                                              review  prediction  confidence\n",
       "0  the movie was absolutely stunning. the visuals...           1    0.756315\n",
       "1  terrible acting, weak script, and a complete w...           0    0.999664\n",
       "2  an exceptional story with captivating performa...           1    0.946435\n",
       "3  this movie was boring and predictable. i would...           0    0.980597\n",
       "4  fantastic movie! the plot twists kept me on ed...           1    0.824939\n",
       "5  the dialogue was laughable, and the acting was...           0    0.894894\n",
       "6  a spectacular film with amazing cinematography...           1    0.972549\n",
       "7  this movie was a chore to sit through. i would...           1    0.516405\n",
       "8  this movie hit all the right notes. emotional,...           1    0.938267\n",
       "9  it felt like the movie had no direction. compl...           0    0.967814"
      ]
     },
     "execution_count": 119,
     "metadata": {},
     "output_type": "execute_result"
    }
   ],
   "source": [
    "confidence = np.max(model_tf.predict_proba(features_new), axis=1)\n",
    "df_tf2 = pd.DataFrame(new_reviews, columns=['review'])\n",
    "df_tf2['prediction'] = predictions_new\n",
    "df_tf2['confidence'] = confidence\n",
    "df_tf2.head(10)"
   ]
  },
  {
   "cell_type": "markdown",
   "id": "9e0aec3f",
   "metadata": {},
   "source": [
    "\n",
    "### Conclusion"
   ]
  },
  {
   "cell_type": "markdown",
   "id": "ab2681c6",
   "metadata": {},
   "source": [
    "---\n",
    "The analysis further evaluated all three models using a set of newly created reviews, referred to as new_reviews. This dataset consisted of 40 reviews—20 positive and 20 negative—designed with varying word weights and frequencies. The same models used during training and testing were applied to this new dataset, and their outputs were compared against the actual polarity of each review.\n",
    "\n",
    "All 40 reviews were analyzed, and the results revealed that the TF-IDF model performed the best, achieving an F1 score of 0.93. It was followed by the BERT model with an F1 score of 0.87 and the Bag of Words (BOW) model with 0.82. Interestingly, the TF-IDF model slightly outperformed the BERT model in this step, compared to their equal performance during testing (both scoring 0.88). Meanwhile, the BOW model consistently underperformed, scoring 0.82 on the new review dataset and 0.78 during the testing phase. Below are the F1 score results:\n",
    "\n",
    "Notably, both the BERT and TF-IDF models demonstrated strong performance across varying thresholds, as reflected by their ROC curves. Although the TF-IDF model achieved a marginally higher F1 score compared to BERT, the latter displayed a slightly better balance between precision and recall (with superior precision overall). Conversely, the BOW model exhibited comparatively weaker performance on both the ROC and PRC curves.\n",
    "\n",
    "The variation in scores can also be attributed to the differing methodologies and datasets utilized by each model. For instance, in the BERT model analysis, only 100 training and 100 testing reviews were used due to the significant computational requirements, which is substantially less than the full dataset. Despite this limitation, BERT is generally considered more robust than the other two models because it captures the context of words within reviews when generating embeddings.\n",
    "\n",
    "In contrast, the TF-IDF and Bag of Words (BOW) models operate differently. TF-IDF assigns relevance based on word weights, giving higher importance to less frequent words in reviews. Meanwhile, the BOW model determines polarity by focusing solely on word frequency. Both models used the full dataset in their analysis, which may have contributed to the TF-IDF model outperforming BERT in the testing phase. \n",
    "\n",
    "The variation in scores can also depend on the type of reviews being analyzed and how well they align with the strengths or weaknesses of each model - reviews that align with BERT’s ability to understand context might show stronger performance, whereas TF-IDF or BOW could excel with reviews where word importance or frequency is more indicative of sentiment.\n",
    "\n",
    "In summary, the choice of model can depend on the specific task and the nature of the dataset. The BOW model is suitable for simpler classification tasks, TF-IDF works well for tasks that require weighting word importance, and BERT is the most robust for capturing context, albeit at a higher computational cost. Understanding the alignment between the review characteristics and the model’s strengths is key to optimizing performance."
   ]
  },
  {
   "cell_type": "code",
   "execution_count": 141,
   "id": "a9b1221a-fd29-4416-b8eb-9c6991751347",
   "metadata": {},
   "outputs": [
    {
     "data": {
      "image/png": "[encoded data removed]",
      "text/plain": [
       "<Figure size 1000x400 with 2 Axes>"
      ]
     },
     "metadata": {},
     "output_type": "display_data"
    }
   ],
   "source": [
    "data_train_test = pd.DataFrame({\n",
    "    'Model': ['BERT', 'BERT', 'BOW', 'BOW', 'TF-IDF', 'TF-IDF'],\n",
    "    'F1_Score': [1.00, 0.88, 0.78, 0.78, 0.94, 0.88],\n",
    "    'Dataset': ['Training', 'Testing', 'Training', 'Testing', 'Training', 'Testing']})\n",
    "\n",
    "\n",
    "data_own_reviews = pd.DataFrame({\n",
    "    'Model': ['BERT', 'BOW', 'TF-IDF'],\n",
    "    'F1_Score': [0.87, 0.82, 0.93]})\n",
    "\n",
    "sns.set_theme(style=\"white\")\n",
    "\n",
    "fig, axs = plt.subplots(1, 2, figsize=(10, 4))\n",
    "\n",
    "ax0 = axs[0]\n",
    "sns.barplot(\n",
    "    data=data_train_test, \n",
    "    x='Model', y='F1_Score', hue='Dataset', \n",
    "    ax=ax0, \n",
    "    palette={'Training': 'skyblue', 'Testing': 'steelblue'}, \n",
    "    edgecolor='black')\n",
    "ax0.set_title('F1 Score - Model Training/Testing', fontweight='bold', fontsize=12)\n",
    "ax0.set_xlabel('Model', fontsize=10)\n",
    "ax0.set_ylabel('F1 Score', fontsize=10)\n",
    "ax0.set_ylim(0, 1.1)\n",
    "\n",
    "ax0.set_yticks([0, 0.5, 1.0])\n",
    "ax0.tick_params(axis='x', labelsize=8)\n",
    "ax0.tick_params(axis='y', labelsize=8)\n",
    "\n",
    "ax0.legend(loc='upper center', bbox_to_anchor=(0.5, -0.15), ncol=2, fontsize=8, title_fontsize=8)\n",
    "\n",
    "ax0.grid(False)\n",
    "\n",
    "for spine in ['top', 'right']:\n",
    "    ax0.spines[spine].set_visible(False)\n",
    "ax0.spines['bottom'].set_color('black')\n",
    "ax0.spines['left'].set_color('black')\n",
    "\n",
    "for p in ax0.patches:\n",
    "    p.set_edgecolor('black')\n",
    "    height = p.get_height()\n",
    "    if height != 0:\n",
    "        ax0.text(\n",
    "            p.get_x() + p.get_width() / 2, \n",
    "            height + 0.02, \n",
    "            f'{height:.2f}',\n",
    "            ha='center', va='bottom', fontsize=8, color='black')\n",
    "\n",
    "ax1 = axs[1]\n",
    "sns.barplot(\n",
    "    data=data_own_reviews, \n",
    "    x='Model', y='F1_Score', \n",
    "    ax=ax1, \n",
    "    color='skyblue', \n",
    "    edgecolor='black')\n",
    "ax1.set_title('F1 Score - Model Testing Own Reviews', fontweight='bold', fontsize=12)\n",
    "ax1.set_xlabel('Model', fontsize=10)\n",
    "ax1.set_ylabel('F1 Score', fontsize=10)\n",
    "ax1.set_ylim(0, 1.1)\n",
    "\n",
    "ax1.set_yticks([0, 0.5, 1.0])\n",
    "ax1.tick_params(axis='x', labelsize=8)\n",
    "ax1.tick_params(axis='y', labelsize=8)\n",
    "\n",
    "ax1.grid(False)\n",
    "\n",
    "for spine in ['top', 'right']:\n",
    "    ax1.spines[spine].set_visible(False)\n",
    "ax1.spines['bottom'].set_color('black')\n",
    "ax1.spines['left'].set_color('black')\n",
    "\n",
    "for p in ax1.patches:\n",
    "    p.set_edgecolor('black')\n",
    "    height = p.get_height()\n",
    "    if height != 0:\n",
    "        ax1.text(\n",
    "            p.get_x() + p.get_width() / 2, \n",
    "            height + 0.02, \n",
    "            f'{height:.2f}',\n",
    "            ha='center', va='bottom', fontsize=8, color='black')\n",
    "\n",
    "plt.tight_layout()\n",
    "plt.show()\n"
   ]
  },
  {
   "cell_type": "code",
   "execution_count": null,
   "id": "23114513-8c95-4683-8c65-1dfb153641ee",
   "metadata": {},
   "outputs": [],
   "source": []
  }
 ],
 "metadata": {
  "ExecuteTimeLog": [
   {
    "duration": 286,
    "start_time": "2025-01-26T16:01:48.962Z"
   },
   {
    "duration": 1229,
    "start_time": "2025-01-26T16:03:39.206Z"
   },
   {
    "duration": 3,
    "start_time": "2025-01-26T16:03:53.861Z"
   },
   {
    "duration": 572,
    "start_time": "2025-01-26T16:05:25.405Z"
   },
   {
    "duration": 659,
    "start_time": "2025-01-26T16:17:46.531Z"
   },
   {
    "duration": 27,
    "start_time": "2025-01-26T16:17:54.739Z"
   },
   {
    "duration": 22,
    "start_time": "2025-01-26T16:18:16.709Z"
   },
   {
    "duration": 11,
    "start_time": "2025-01-26T16:18:23.676Z"
   },
   {
    "duration": 6,
    "start_time": "2025-01-26T16:26:07.711Z"
   },
   {
    "duration": 3,
    "start_time": "2025-01-26T16:26:21.776Z"
   },
   {
    "duration": 3,
    "start_time": "2025-01-26T16:26:52.131Z"
   },
   {
    "duration": 4,
    "start_time": "2025-01-26T16:27:57.019Z"
   },
   {
    "duration": 12,
    "start_time": "2025-01-26T16:28:00.775Z"
   },
   {
    "duration": 587,
    "start_time": "2025-01-26T16:28:35.587Z"
   },
   {
    "duration": 29,
    "start_time": "2025-01-26T16:28:36.176Z"
   },
   {
    "duration": 12,
    "start_time": "2025-01-26T16:28:38.024Z"
   },
   {
    "duration": 4,
    "start_time": "2025-01-26T16:28:40.031Z"
   },
   {
    "duration": 12,
    "start_time": "2025-01-26T16:28:41.213Z"
   },
   {
    "duration": 7,
    "start_time": "2025-01-26T16:28:50.566Z"
   },
   {
    "duration": 569,
    "start_time": "2025-01-26T16:28:54.363Z"
   },
   {
    "duration": 25,
    "start_time": "2025-01-26T16:28:54.935Z"
   },
   {
    "duration": 11,
    "start_time": "2025-01-26T16:28:59.332Z"
   },
   {
    "duration": 8,
    "start_time": "2025-01-26T16:29:02.837Z"
   },
   {
    "duration": 14,
    "start_time": "2025-01-26T16:29:03.568Z"
   },
   {
    "duration": 30,
    "start_time": "2025-01-26T16:29:37.944Z"
   },
   {
    "duration": 13,
    "start_time": "2025-01-26T16:30:00.089Z"
   },
   {
    "duration": 14,
    "start_time": "2025-01-26T16:30:04.474Z"
   },
   {
    "duration": 14,
    "start_time": "2025-01-26T16:31:50.517Z"
   },
   {
    "duration": 20,
    "start_time": "2025-01-26T16:34:01.730Z"
   },
   {
    "duration": 12,
    "start_time": "2025-01-26T16:34:05.610Z"
   },
   {
    "duration": 15,
    "start_time": "2025-01-26T16:34:41.361Z"
   },
   {
    "duration": 14,
    "start_time": "2025-01-26T16:35:36.516Z"
   },
   {
    "duration": 17,
    "start_time": "2025-01-26T16:35:45.628Z"
   },
   {
    "duration": 11,
    "start_time": "2025-01-26T16:35:49.131Z"
   },
   {
    "duration": 17,
    "start_time": "2025-01-26T16:35:54.093Z"
   },
   {
    "duration": 587,
    "start_time": "2025-01-26T16:35:59.673Z"
   },
   {
    "duration": 29,
    "start_time": "2025-01-26T16:36:00.387Z"
   },
   {
    "duration": 15,
    "start_time": "2025-01-26T16:36:01.409Z"
   },
   {
    "duration": 5,
    "start_time": "2025-01-26T16:36:03.220Z"
   },
   {
    "duration": 13,
    "start_time": "2025-01-26T16:36:03.937Z"
   },
   {
    "duration": 31,
    "start_time": "2025-01-26T16:36:06.385Z"
   },
   {
    "duration": 20,
    "start_time": "2025-01-26T16:36:07.348Z"
   },
   {
    "duration": 14,
    "start_time": "2025-01-26T16:37:51.407Z"
   },
   {
    "duration": 20,
    "start_time": "2025-01-26T16:37:54.882Z"
   },
   {
    "duration": 617,
    "start_time": "2025-01-26T16:38:00.873Z"
   },
   {
    "duration": 33,
    "start_time": "2025-01-26T16:38:01.492Z"
   },
   {
    "duration": 12,
    "start_time": "2025-01-26T16:38:03.090Z"
   },
   {
    "duration": 7,
    "start_time": "2025-01-26T16:38:06.104Z"
   },
   {
    "duration": 12,
    "start_time": "2025-01-26T16:38:07.140Z"
   },
   {
    "duration": 29,
    "start_time": "2025-01-26T16:38:09.383Z"
   },
   {
    "duration": 21,
    "start_time": "2025-01-26T16:38:10.221Z"
   },
   {
    "duration": 39,
    "start_time": "2025-01-26T16:40:12.187Z"
   },
   {
    "duration": 29,
    "start_time": "2025-01-26T16:40:20.028Z"
   },
   {
    "duration": 25,
    "start_time": "2025-01-26T16:40:26.972Z"
   },
   {
    "duration": 13,
    "start_time": "2025-01-26T16:41:06.992Z"
   },
   {
    "duration": 29,
    "start_time": "2025-01-26T16:42:39.716Z"
   },
   {
    "duration": 14,
    "start_time": "2025-01-26T16:42:58.483Z"
   },
   {
    "duration": 18,
    "start_time": "2025-01-26T16:43:06.533Z"
   },
   {
    "duration": 15,
    "start_time": "2025-01-26T16:43:09.226Z"
   },
   {
    "duration": 13,
    "start_time": "2025-01-26T16:43:28.497Z"
   },
   {
    "duration": 9,
    "start_time": "2025-01-26T16:44:30.523Z"
   },
   {
    "duration": 23,
    "start_time": "2025-01-26T16:45:30.586Z"
   },
   {
    "duration": 10,
    "start_time": "2025-01-26T16:45:34.297Z"
   },
   {
    "duration": 13,
    "start_time": "2025-01-26T16:46:24.316Z"
   },
   {
    "duration": 15,
    "start_time": "2025-01-26T16:47:53.943Z"
   },
   {
    "duration": 27,
    "start_time": "2025-01-26T16:48:01.907Z"
   },
   {
    "duration": 24,
    "start_time": "2025-01-26T16:48:08.383Z"
   },
   {
    "duration": 23,
    "start_time": "2025-01-26T16:48:14.692Z"
   },
   {
    "duration": 14,
    "start_time": "2025-01-26T16:49:55.139Z"
   },
   {
    "duration": 11,
    "start_time": "2025-01-26T16:50:27.434Z"
   },
   {
    "duration": 12,
    "start_time": "2025-01-26T16:51:21.502Z"
   },
   {
    "duration": 145,
    "start_time": "2025-01-26T16:52:13.862Z"
   },
   {
    "duration": 569,
    "start_time": "2025-01-26T16:52:47.939Z"
   },
   {
    "duration": 25,
    "start_time": "2025-01-26T16:52:48.510Z"
   },
   {
    "duration": 11,
    "start_time": "2025-01-26T16:52:49.301Z"
   },
   {
    "duration": 5,
    "start_time": "2025-01-26T16:52:50.770Z"
   },
   {
    "duration": 14,
    "start_time": "2025-01-26T16:52:51.232Z"
   },
   {
    "duration": 13,
    "start_time": "2025-01-26T16:52:52.124Z"
   },
   {
    "duration": 15,
    "start_time": "2025-01-26T16:52:52.827Z"
   },
   {
    "duration": 13,
    "start_time": "2025-01-26T16:52:53.339Z"
   },
   {
    "duration": 14,
    "start_time": "2025-01-26T16:52:54.588Z"
   },
   {
    "duration": 30,
    "start_time": "2025-01-26T16:52:55.782Z"
   },
   {
    "duration": 10,
    "start_time": "2025-01-26T16:53:10.505Z"
   },
   {
    "duration": 4,
    "start_time": "2025-01-26T16:53:30.826Z"
   },
   {
    "duration": 11,
    "start_time": "2025-01-26T16:53:33.784Z"
   },
   {
    "duration": 12,
    "start_time": "2025-01-26T16:53:39.841Z"
   },
   {
    "duration": 12,
    "start_time": "2025-01-26T16:53:52.321Z"
   },
   {
    "duration": 10,
    "start_time": "2025-01-26T16:53:56.465Z"
   },
   {
    "duration": 14,
    "start_time": "2025-01-26T16:54:53.138Z"
   },
   {
    "duration": 10,
    "start_time": "2025-01-26T16:54:59.260Z"
   },
   {
    "duration": 3,
    "start_time": "2025-01-26T16:55:00.068Z"
   },
   {
    "duration": 9,
    "start_time": "2025-01-26T16:55:14.498Z"
   },
   {
    "duration": 4,
    "start_time": "2025-01-26T16:55:15.129Z"
   },
   {
    "duration": 4,
    "start_time": "2025-01-26T16:55:30.858Z"
   },
   {
    "duration": 4,
    "start_time": "2025-01-26T16:56:03.880Z"
   },
   {
    "duration": 12,
    "start_time": "2025-01-26T16:56:21.013Z"
   },
   {
    "duration": 15,
    "start_time": "2025-01-26T16:56:39.504Z"
   },
   {
    "duration": 12,
    "start_time": "2025-01-26T16:56:44.418Z"
   },
   {
    "duration": 10,
    "start_time": "2025-01-26T16:57:57.840Z"
   },
   {
    "duration": 12,
    "start_time": "2025-01-26T16:58:05.121Z"
   },
   {
    "duration": 14,
    "start_time": "2025-01-26T16:58:51.091Z"
   },
   {
    "duration": 15,
    "start_time": "2025-01-26T16:58:55.840Z"
   },
   {
    "duration": 11,
    "start_time": "2025-01-26T16:59:16.547Z"
   },
   {
    "duration": 10,
    "start_time": "2025-01-26T17:00:11.547Z"
   },
   {
    "duration": 573,
    "start_time": "2025-01-26T17:00:36.628Z"
   },
   {
    "duration": 22,
    "start_time": "2025-01-26T17:00:37.206Z"
   },
   {
    "duration": 11,
    "start_time": "2025-01-26T17:00:37.967Z"
   },
   {
    "duration": 6,
    "start_time": "2025-01-26T17:00:38.762Z"
   },
   {
    "duration": 12,
    "start_time": "2025-01-26T17:00:40.272Z"
   },
   {
    "duration": 12,
    "start_time": "2025-01-26T17:00:41.343Z"
   },
   {
    "duration": 17,
    "start_time": "2025-01-26T17:00:44.203Z"
   },
   {
    "duration": 13,
    "start_time": "2025-01-26T17:00:45.443Z"
   },
   {
    "duration": 15,
    "start_time": "2025-01-26T17:00:55.680Z"
   },
   {
    "duration": 32,
    "start_time": "2025-01-26T17:00:57.418Z"
   },
   {
    "duration": 583,
    "start_time": "2025-01-26T17:02:51.251Z"
   },
   {
    "duration": 21,
    "start_time": "2025-01-26T17:02:51.836Z"
   },
   {
    "duration": 11,
    "start_time": "2025-01-26T17:02:51.879Z"
   },
   {
    "duration": 5,
    "start_time": "2025-01-26T17:02:52.122Z"
   },
   {
    "duration": 12,
    "start_time": "2025-01-26T17:02:52.395Z"
   },
   {
    "duration": 13,
    "start_time": "2025-01-26T17:02:53.941Z"
   },
   {
    "duration": 15,
    "start_time": "2025-01-26T17:02:54.566Z"
   },
   {
    "duration": 13,
    "start_time": "2025-01-26T17:02:55.042Z"
   },
   {
    "duration": 126,
    "start_time": "2025-01-26T17:02:58.115Z"
   },
   {
    "duration": 241,
    "start_time": "2025-01-26T17:03:22.699Z"
   },
   {
    "duration": 38,
    "start_time": "2025-01-26T17:03:31.249Z"
   },
   {
    "duration": 23,
    "start_time": "2025-01-26T17:04:17.313Z"
   },
   {
    "duration": 234,
    "start_time": "2025-01-26T17:04:27.058Z"
   },
   {
    "duration": 12,
    "start_time": "2025-01-26T17:04:29.553Z"
   },
   {
    "duration": 12,
    "start_time": "2025-01-26T17:04:50.405Z"
   },
   {
    "duration": 35,
    "start_time": "2025-01-26T17:05:41.858Z"
   },
   {
    "duration": 11,
    "start_time": "2025-01-26T17:06:10.492Z"
   },
   {
    "duration": 11,
    "start_time": "2025-01-26T17:06:14.352Z"
   },
   {
    "duration": 15,
    "start_time": "2025-01-26T17:06:21.367Z"
   },
   {
    "duration": 11,
    "start_time": "2025-01-26T17:06:23.482Z"
   },
   {
    "duration": 124,
    "start_time": "2025-01-26T17:07:45.458Z"
   },
   {
    "duration": 242,
    "start_time": "2025-01-26T17:08:20.632Z"
   },
   {
    "duration": 50,
    "start_time": "2025-01-26T17:08:59.561Z"
   },
   {
    "duration": 26,
    "start_time": "2025-01-26T17:09:15.524Z"
   },
   {
    "duration": 12,
    "start_time": "2025-01-26T17:09:29.782Z"
   },
   {
    "duration": 11,
    "start_time": "2025-01-26T17:09:44.791Z"
   },
   {
    "duration": 243,
    "start_time": "2025-01-26T17:09:46.921Z"
   },
   {
    "duration": 13,
    "start_time": "2025-01-26T17:11:32.122Z"
   },
   {
    "duration": 776,
    "start_time": "2025-01-26T17:11:40.018Z"
   },
   {
    "duration": 43,
    "start_time": "2025-01-26T17:11:47.339Z"
   },
   {
    "duration": 19,
    "start_time": "2025-01-26T17:11:48.041Z"
   },
   {
    "duration": 10,
    "start_time": "2025-01-26T17:11:49.170Z"
   },
   {
    "duration": 152,
    "start_time": "2025-01-26T17:11:50.714Z"
   },
   {
    "duration": 3,
    "start_time": "2025-01-26T17:11:58.615Z"
   },
   {
    "duration": 583,
    "start_time": "2025-01-26T17:11:58.620Z"
   },
   {
    "duration": 22,
    "start_time": "2025-01-26T17:11:59.205Z"
   },
   {
    "duration": 10,
    "start_time": "2025-01-26T17:11:59.229Z"
   },
   {
    "duration": 4,
    "start_time": "2025-01-26T17:11:59.241Z"
   },
   {
    "duration": 11,
    "start_time": "2025-01-26T17:11:59.247Z"
   },
   {
    "duration": 11,
    "start_time": "2025-01-26T17:11:59.259Z"
   },
   {
    "duration": 41,
    "start_time": "2025-01-26T17:11:59.271Z"
   },
   {
    "duration": 11,
    "start_time": "2025-01-26T17:11:59.314Z"
   },
   {
    "duration": 863,
    "start_time": "2025-01-26T17:12:02.706Z"
   },
   {
    "duration": 130,
    "start_time": "2025-01-26T17:12:03.572Z"
   },
   {
    "duration": 125,
    "start_time": "2025-01-26T17:12:03.703Z"
   },
   {
    "duration": 30,
    "start_time": "2025-01-26T17:12:03.942Z"
   },
   {
    "duration": 155,
    "start_time": "2025-01-26T17:12:10.356Z"
   },
   {
    "duration": 11,
    "start_time": "2025-01-26T17:12:19.034Z"
   },
   {
    "duration": 11,
    "start_time": "2025-01-26T17:12:24.527Z"
   },
   {
    "duration": 11,
    "start_time": "2025-01-26T17:13:50.567Z"
   },
   {
    "duration": 155,
    "start_time": "2025-01-26T17:14:29.796Z"
   },
   {
    "duration": 124,
    "start_time": "2025-01-26T17:15:17.162Z"
   },
   {
    "duration": 129,
    "start_time": "2025-01-26T17:15:30.554Z"
   },
   {
    "duration": 12,
    "start_time": "2025-01-26T17:15:38.799Z"
   },
   {
    "duration": 156,
    "start_time": "2025-01-26T17:15:45.544Z"
   },
   {
    "duration": 18,
    "start_time": "2025-01-26T17:15:56.623Z"
   },
   {
    "duration": 16,
    "start_time": "2025-01-26T17:16:06.985Z"
   },
   {
    "duration": 11,
    "start_time": "2025-01-26T17:16:07.675Z"
   },
   {
    "duration": 4,
    "start_time": "2025-01-26T17:16:22.758Z"
   },
   {
    "duration": 582,
    "start_time": "2025-01-26T17:16:22.766Z"
   },
   {
    "duration": 23,
    "start_time": "2025-01-26T17:16:23.351Z"
   },
   {
    "duration": 14,
    "start_time": "2025-01-26T17:16:23.376Z"
   },
   {
    "duration": 5,
    "start_time": "2025-01-26T17:16:23.404Z"
   },
   {
    "duration": 12,
    "start_time": "2025-01-26T17:16:23.412Z"
   },
   {
    "duration": 14,
    "start_time": "2025-01-26T17:16:23.425Z"
   },
   {
    "duration": 16,
    "start_time": "2025-01-26T17:16:23.441Z"
   },
   {
    "duration": 10,
    "start_time": "2025-01-26T17:16:23.459Z"
   },
   {
    "duration": 164,
    "start_time": "2025-01-26T17:16:23.471Z"
   },
   {
    "duration": 782,
    "start_time": "2025-01-26T17:16:23.637Z"
   },
   {
    "duration": 129,
    "start_time": "2025-01-26T17:16:24.421Z"
   },
   {
    "duration": 40,
    "start_time": "2025-01-26T17:16:26.767Z"
   },
   {
    "duration": 27,
    "start_time": "2025-01-26T17:16:29.051Z"
   },
   {
    "duration": 12,
    "start_time": "2025-01-26T17:16:33.286Z"
   },
   {
    "duration": 16,
    "start_time": "2025-01-26T17:17:35.118Z"
   },
   {
    "duration": 4,
    "start_time": "2025-01-26T17:18:33.961Z"
   },
   {
    "duration": 573,
    "start_time": "2025-01-26T17:18:33.970Z"
   },
   {
    "duration": 22,
    "start_time": "2025-01-26T17:18:34.545Z"
   },
   {
    "duration": 11,
    "start_time": "2025-01-26T17:18:34.568Z"
   },
   {
    "duration": 4,
    "start_time": "2025-01-26T17:18:34.580Z"
   },
   {
    "duration": 26,
    "start_time": "2025-01-26T17:18:34.586Z"
   },
   {
    "duration": 10,
    "start_time": "2025-01-26T17:18:34.614Z"
   },
   {
    "duration": 11,
    "start_time": "2025-01-26T17:18:34.626Z"
   },
   {
    "duration": 9,
    "start_time": "2025-01-26T17:18:34.639Z"
   },
   {
    "duration": 158,
    "start_time": "2025-01-26T17:18:34.649Z"
   },
   {
    "duration": 123,
    "start_time": "2025-01-26T17:18:37.537Z"
   },
   {
    "duration": 134,
    "start_time": "2025-01-26T17:18:38.176Z"
   },
   {
    "duration": 29,
    "start_time": "2025-01-26T17:18:38.626Z"
   },
   {
    "duration": 28,
    "start_time": "2025-01-26T17:18:39.690Z"
   },
   {
    "duration": 13,
    "start_time": "2025-01-26T17:18:40.574Z"
   },
   {
    "duration": 6,
    "start_time": "2025-01-26T17:25:19.424Z"
   },
   {
    "duration": 10,
    "start_time": "2025-01-26T17:25:28.686Z"
   },
   {
    "duration": 10,
    "start_time": "2025-01-26T17:25:32.941Z"
   },
   {
    "duration": 12,
    "start_time": "2025-01-26T17:25:41.743Z"
   },
   {
    "duration": 15,
    "start_time": "2025-01-26T17:25:46.450Z"
   },
   {
    "duration": 10,
    "start_time": "2025-01-26T17:26:00.316Z"
   },
   {
    "duration": 708,
    "start_time": "2025-01-26T17:26:41.175Z"
   },
   {
    "duration": 10,
    "start_time": "2025-01-26T17:26:41.976Z"
   },
   {
    "duration": 3,
    "start_time": "2025-01-26T17:26:51.220Z"
   },
   {
    "duration": 559,
    "start_time": "2025-01-26T17:26:51.225Z"
   },
   {
    "duration": 26,
    "start_time": "2025-01-26T17:26:51.785Z"
   },
   {
    "duration": 11,
    "start_time": "2025-01-26T17:26:51.812Z"
   },
   {
    "duration": 4,
    "start_time": "2025-01-26T17:26:51.826Z"
   },
   {
    "duration": 10,
    "start_time": "2025-01-26T17:26:51.832Z"
   },
   {
    "duration": 9,
    "start_time": "2025-01-26T17:26:51.843Z"
   },
   {
    "duration": 11,
    "start_time": "2025-01-26T17:26:51.854Z"
   },
   {
    "duration": 42,
    "start_time": "2025-01-26T17:26:51.866Z"
   },
   {
    "duration": 139,
    "start_time": "2025-01-26T17:26:51.910Z"
   },
   {
    "duration": 108,
    "start_time": "2025-01-26T17:26:52.051Z"
   },
   {
    "duration": 139,
    "start_time": "2025-01-26T17:26:52.161Z"
   },
   {
    "duration": 31,
    "start_time": "2025-01-26T17:26:52.302Z"
   },
   {
    "duration": 20,
    "start_time": "2025-01-26T17:26:52.337Z"
   },
   {
    "duration": 13,
    "start_time": "2025-01-26T17:26:54.236Z"
   },
   {
    "duration": 9,
    "start_time": "2025-01-26T17:26:55.371Z"
   },
   {
    "duration": 11,
    "start_time": "2025-01-26T17:26:57.507Z"
   },
   {
    "duration": 11,
    "start_time": "2025-01-26T17:27:00.721Z"
   },
   {
    "duration": 27,
    "start_time": "2025-01-26T17:28:59.650Z"
   },
   {
    "duration": 42,
    "start_time": "2025-01-26T17:29:13.662Z"
   },
   {
    "duration": 34,
    "start_time": "2025-01-26T17:29:17.875Z"
   },
   {
    "duration": 1935,
    "start_time": "2025-01-26T17:29:30.887Z"
   },
   {
    "duration": 35,
    "start_time": "2025-01-26T17:29:36.532Z"
   },
   {
    "duration": 4,
    "start_time": "2025-01-26T17:30:06.489Z"
   },
   {
    "duration": 2000,
    "start_time": "2025-01-26T17:30:10.308Z"
   },
   {
    "duration": 317,
    "start_time": "2025-01-26T17:31:36.715Z"
   },
   {
    "duration": 370,
    "start_time": "2025-01-26T17:33:23.551Z"
   },
   {
    "duration": 40,
    "start_time": "2025-01-26T17:35:36.912Z"
   },
   {
    "duration": 3,
    "start_time": "2025-01-26T17:35:42.918Z"
   },
   {
    "duration": 594,
    "start_time": "2025-01-26T17:35:43.211Z"
   },
   {
    "duration": 22,
    "start_time": "2025-01-26T17:35:43.808Z"
   },
   {
    "duration": 11,
    "start_time": "2025-01-26T17:35:43.831Z"
   },
   {
    "duration": 3,
    "start_time": "2025-01-26T17:35:43.845Z"
   },
   {
    "duration": 10,
    "start_time": "2025-01-26T17:35:43.851Z"
   },
   {
    "duration": 9,
    "start_time": "2025-01-26T17:35:43.862Z"
   },
   {
    "duration": 13,
    "start_time": "2025-01-26T17:35:43.905Z"
   },
   {
    "duration": 9,
    "start_time": "2025-01-26T17:35:43.920Z"
   },
   {
    "duration": 141,
    "start_time": "2025-01-26T17:35:43.931Z"
   },
   {
    "duration": 139,
    "start_time": "2025-01-26T17:35:44.075Z"
   },
   {
    "duration": 139,
    "start_time": "2025-01-26T17:35:44.216Z"
   },
   {
    "duration": 30,
    "start_time": "2025-01-26T17:35:44.357Z"
   },
   {
    "duration": 31,
    "start_time": "2025-01-26T17:35:44.389Z"
   },
   {
    "duration": 13,
    "start_time": "2025-01-26T17:35:46.018Z"
   },
   {
    "duration": 8,
    "start_time": "2025-01-26T17:35:46.832Z"
   },
   {
    "duration": 11,
    "start_time": "2025-01-26T17:35:47.375Z"
   },
   {
    "duration": 13,
    "start_time": "2025-01-26T17:36:56.330Z"
   },
   {
    "duration": 3,
    "start_time": "2025-01-26T17:37:06.259Z"
   },
   {
    "duration": 591,
    "start_time": "2025-01-26T17:37:06.269Z"
   },
   {
    "duration": 23,
    "start_time": "2025-01-26T17:37:06.862Z"
   },
   {
    "duration": 28,
    "start_time": "2025-01-26T17:37:06.887Z"
   },
   {
    "duration": 5,
    "start_time": "2025-01-26T17:37:06.917Z"
   },
   {
    "duration": 11,
    "start_time": "2025-01-26T17:37:06.924Z"
   },
   {
    "duration": 9,
    "start_time": "2025-01-26T17:37:06.936Z"
   },
   {
    "duration": 11,
    "start_time": "2025-01-26T17:37:06.948Z"
   },
   {
    "duration": 8,
    "start_time": "2025-01-26T17:37:06.960Z"
   },
   {
    "duration": 158,
    "start_time": "2025-01-26T17:37:06.969Z"
   },
   {
    "duration": 129,
    "start_time": "2025-01-26T17:37:07.129Z"
   },
   {
    "duration": 141,
    "start_time": "2025-01-26T17:37:07.260Z"
   },
   {
    "duration": 126,
    "start_time": "2025-01-26T17:37:10.009Z"
   },
   {
    "duration": 31,
    "start_time": "2025-01-26T17:37:10.730Z"
   },
   {
    "duration": 30,
    "start_time": "2025-01-26T17:37:11.400Z"
   },
   {
    "duration": 14,
    "start_time": "2025-01-26T17:37:12.129Z"
   },
   {
    "duration": 8,
    "start_time": "2025-01-26T17:37:14.850Z"
   },
   {
    "duration": 11,
    "start_time": "2025-01-26T17:37:15.381Z"
   },
   {
    "duration": 371,
    "start_time": "2025-01-26T17:37:17.871Z"
   },
   {
    "duration": 3450,
    "start_time": "2025-01-26T17:37:52.038Z"
   },
   {
    "duration": 3704,
    "start_time": "2025-01-26T17:38:31.995Z"
   },
   {
    "duration": 3757,
    "start_time": "2025-01-26T17:39:19.417Z"
   },
   {
    "duration": 3497,
    "start_time": "2025-01-26T17:40:27.487Z"
   },
   {
    "duration": 3795,
    "start_time": "2025-01-26T17:41:19.878Z"
   },
   {
    "duration": 364,
    "start_time": "2025-01-26T17:47:53.664Z"
   },
   {
    "duration": 352,
    "start_time": "2025-01-26T17:48:02.697Z"
   },
   {
    "duration": 338,
    "start_time": "2025-01-26T17:48:39.325Z"
   },
   {
    "duration": 352,
    "start_time": "2025-01-26T17:48:50.345Z"
   },
   {
    "duration": 363,
    "start_time": "2025-01-26T17:49:01.169Z"
   },
   {
    "duration": 364,
    "start_time": "2025-01-26T17:49:15.767Z"
   },
   {
    "duration": 351,
    "start_time": "2025-01-26T17:49:32.696Z"
   },
   {
    "duration": 337,
    "start_time": "2025-01-26T17:49:41.929Z"
   },
   {
    "duration": 360,
    "start_time": "2025-01-26T17:49:51.273Z"
   },
   {
    "duration": 368,
    "start_time": "2025-01-26T17:50:08.563Z"
   },
   {
    "duration": 343,
    "start_time": "2025-01-26T17:50:16.023Z"
   },
   {
    "duration": 328,
    "start_time": "2025-01-26T17:50:39.821Z"
   },
   {
    "duration": 365,
    "start_time": "2025-01-26T17:50:51.752Z"
   },
   {
    "duration": 347,
    "start_time": "2025-01-26T17:50:55.383Z"
   },
   {
    "duration": 541,
    "start_time": "2025-01-26T17:51:16.518Z"
   },
   {
    "duration": 525,
    "start_time": "2025-01-26T17:51:40.293Z"
   },
   {
    "duration": 303,
    "start_time": "2025-01-26T17:51:59.344Z"
   },
   {
    "duration": 303,
    "start_time": "2025-01-26T17:52:21.336Z"
   },
   {
    "duration": 300,
    "start_time": "2025-01-26T17:52:55.548Z"
   },
   {
    "duration": 4,
    "start_time": "2025-01-26T17:53:05.633Z"
   },
   {
    "duration": 565,
    "start_time": "2025-01-26T17:53:05.647Z"
   },
   {
    "duration": 21,
    "start_time": "2025-01-26T17:53:06.214Z"
   },
   {
    "duration": 11,
    "start_time": "2025-01-26T17:53:06.237Z"
   },
   {
    "duration": 5,
    "start_time": "2025-01-26T17:53:06.249Z"
   },
   {
    "duration": 9,
    "start_time": "2025-01-26T17:53:06.256Z"
   },
   {
    "duration": 8,
    "start_time": "2025-01-26T17:53:06.267Z"
   },
   {
    "duration": 10,
    "start_time": "2025-01-26T17:53:06.305Z"
   },
   {
    "duration": 8,
    "start_time": "2025-01-26T17:53:06.317Z"
   },
   {
    "duration": 142,
    "start_time": "2025-01-26T17:53:06.327Z"
   },
   {
    "duration": 111,
    "start_time": "2025-01-26T17:53:06.471Z"
   },
   {
    "duration": 143,
    "start_time": "2025-01-26T17:53:06.583Z"
   },
   {
    "duration": 30,
    "start_time": "2025-01-26T17:53:06.727Z"
   },
   {
    "duration": 18,
    "start_time": "2025-01-26T17:53:06.759Z"
   },
   {
    "duration": 8,
    "start_time": "2025-01-26T17:53:06.780Z"
   },
   {
    "duration": 7,
    "start_time": "2025-01-26T17:53:13.273Z"
   },
   {
    "duration": 11,
    "start_time": "2025-01-26T17:53:13.827Z"
   },
   {
    "duration": 346,
    "start_time": "2025-01-26T17:53:14.828Z"
   },
   {
    "duration": 381,
    "start_time": "2025-01-26T17:53:27.783Z"
   },
   {
    "duration": 360,
    "start_time": "2025-01-26T17:53:34.362Z"
   },
   {
    "duration": 368,
    "start_time": "2025-01-26T17:54:00.448Z"
   },
   {
    "duration": 380,
    "start_time": "2025-01-26T17:54:11.640Z"
   },
   {
    "duration": 160,
    "start_time": "2025-01-26T17:55:37.388Z"
   },
   {
    "duration": 3219,
    "start_time": "2025-01-26T17:57:59.988Z"
   },
   {
    "duration": 3412,
    "start_time": "2025-01-26T17:58:23.271Z"
   },
   {
    "duration": 3161,
    "start_time": "2025-01-26T17:58:36.446Z"
   },
   {
    "duration": 3115,
    "start_time": "2025-01-26T17:59:23.430Z"
   },
   {
    "duration": 325,
    "start_time": "2025-01-26T17:59:46.811Z"
   },
   {
    "duration": 353,
    "start_time": "2025-01-26T17:59:55.593Z"
   },
   {
    "duration": 344,
    "start_time": "2025-01-26T18:00:00.131Z"
   },
   {
    "duration": 376,
    "start_time": "2025-01-26T18:00:10.739Z"
   },
   {
    "duration": 3256,
    "start_time": "2025-01-26T18:00:28.516Z"
   },
   {
    "duration": 3166,
    "start_time": "2025-01-26T18:00:41.065Z"
   },
   {
    "duration": 3491,
    "start_time": "2025-01-26T18:00:49.894Z"
   },
   {
    "duration": 3167,
    "start_time": "2025-01-26T18:01:35.047Z"
   },
   {
    "duration": 6347,
    "start_time": "2025-01-26T18:02:23.612Z"
   },
   {
    "duration": 6640,
    "start_time": "2025-01-26T18:03:41.687Z"
   },
   {
    "duration": 6363,
    "start_time": "2025-01-26T18:03:58.681Z"
   },
   {
    "duration": 101,
    "start_time": "2025-01-26T18:04:27.018Z"
   },
   {
    "duration": 372,
    "start_time": "2025-01-26T18:04:39.396Z"
   },
   {
    "duration": 6632,
    "start_time": "2025-01-26T18:04:43.873Z"
   },
   {
    "duration": 6389,
    "start_time": "2025-01-26T18:05:00.119Z"
   },
   {
    "duration": 6385,
    "start_time": "2025-01-26T18:06:14.109Z"
   },
   {
    "duration": 266,
    "start_time": "2025-01-26T18:10:13.254Z"
   },
   {
    "duration": 269,
    "start_time": "2025-01-26T18:11:30.237Z"
   },
   {
    "duration": 245,
    "start_time": "2025-01-26T18:12:28.313Z"
   },
   {
    "duration": 228,
    "start_time": "2025-01-26T18:12:32.622Z"
   },
   {
    "duration": 238,
    "start_time": "2025-01-26T18:12:39.107Z"
   },
   {
    "duration": 269,
    "start_time": "2025-01-26T18:12:42.965Z"
   },
   {
    "duration": 279,
    "start_time": "2025-01-26T18:37:03.578Z"
   },
   {
    "duration": 473,
    "start_time": "2025-01-26T18:37:26.885Z"
   },
   {
    "duration": 250,
    "start_time": "2025-01-26T18:38:46.599Z"
   },
   {
    "duration": 222,
    "start_time": "2025-01-26T18:39:48.018Z"
   },
   {
    "duration": 207,
    "start_time": "2025-01-26T18:40:04.358Z"
   },
   {
    "duration": 225,
    "start_time": "2025-01-26T18:40:26.023Z"
   },
   {
    "duration": 6735,
    "start_time": "2025-01-26T18:44:20.214Z"
   },
   {
    "duration": 7,
    "start_time": "2025-01-26T22:39:23.262Z"
   },
   {
    "duration": 2070,
    "start_time": "2025-01-26T22:39:35.466Z"
   },
   {
    "duration": 3,
    "start_time": "2025-01-26T22:40:56.812Z"
   },
   {
    "duration": 437,
    "start_time": "2025-01-26T22:41:04.296Z"
   },
   {
    "duration": 15,
    "start_time": "2025-01-26T22:41:46.220Z"
   },
   {
    "duration": 1745,
    "start_time": "2025-01-26T22:41:50.375Z"
   },
   {
    "duration": 167,
    "start_time": "2025-01-26T22:45:34.438Z"
   },
   {
    "duration": 2949,
    "start_time": "2025-01-26T22:45:40.102Z"
   },
   {
    "duration": 669,
    "start_time": "2025-01-26T22:45:43.053Z"
   },
   {
    "duration": 23,
    "start_time": "2025-01-26T22:45:43.724Z"
   },
   {
    "duration": 14,
    "start_time": "2025-01-26T22:45:43.749Z"
   },
   {
    "duration": 3,
    "start_time": "2025-01-26T22:45:43.766Z"
   },
   {
    "duration": 9,
    "start_time": "2025-01-26T22:45:43.771Z"
   },
   {
    "duration": 34,
    "start_time": "2025-01-26T22:45:43.782Z"
   },
   {
    "duration": 12,
    "start_time": "2025-01-26T22:45:43.818Z"
   },
   {
    "duration": 8,
    "start_time": "2025-01-26T22:45:43.832Z"
   },
   {
    "duration": 147,
    "start_time": "2025-01-26T22:45:43.842Z"
   },
   {
    "duration": 130,
    "start_time": "2025-01-26T22:45:43.991Z"
   },
   {
    "duration": 140,
    "start_time": "2025-01-26T22:45:44.122Z"
   },
   {
    "duration": 29,
    "start_time": "2025-01-26T22:45:44.264Z"
   },
   {
    "duration": 19,
    "start_time": "2025-01-26T22:45:44.304Z"
   },
   {
    "duration": 12,
    "start_time": "2025-01-26T22:45:44.325Z"
   },
   {
    "duration": 8,
    "start_time": "2025-01-26T22:45:44.338Z"
   },
   {
    "duration": 9,
    "start_time": "2025-01-26T22:45:44.348Z"
   },
   {
    "duration": 403,
    "start_time": "2025-01-26T22:45:44.359Z"
   },
   {
    "duration": 6774,
    "start_time": "2025-01-26T22:45:44.764Z"
   },
   {
    "duration": 163,
    "start_time": "2025-01-26T22:46:24.525Z"
   },
   {
    "duration": 2929,
    "start_time": "2025-01-26T22:46:33.482Z"
   },
   {
    "duration": 660,
    "start_time": "2025-01-26T22:46:36.413Z"
   },
   {
    "duration": 31,
    "start_time": "2025-01-26T22:46:37.075Z"
   },
   {
    "duration": 13,
    "start_time": "2025-01-26T22:46:37.109Z"
   },
   {
    "duration": 4,
    "start_time": "2025-01-26T22:46:37.123Z"
   },
   {
    "duration": 9,
    "start_time": "2025-01-26T22:46:37.130Z"
   },
   {
    "duration": 12,
    "start_time": "2025-01-26T22:46:37.141Z"
   },
   {
    "duration": 14,
    "start_time": "2025-01-26T22:46:37.155Z"
   },
   {
    "duration": 41,
    "start_time": "2025-01-26T22:46:37.170Z"
   },
   {
    "duration": 141,
    "start_time": "2025-01-26T22:46:37.214Z"
   },
   {
    "duration": 133,
    "start_time": "2025-01-26T22:46:37.357Z"
   },
   {
    "duration": 138,
    "start_time": "2025-01-26T22:46:37.492Z"
   },
   {
    "duration": 29,
    "start_time": "2025-01-26T22:46:37.632Z"
   },
   {
    "duration": 15,
    "start_time": "2025-01-26T22:46:37.663Z"
   },
   {
    "duration": 26,
    "start_time": "2025-01-26T22:46:37.680Z"
   },
   {
    "duration": 10,
    "start_time": "2025-01-26T22:46:37.708Z"
   },
   {
    "duration": 8,
    "start_time": "2025-01-26T22:46:37.720Z"
   },
   {
    "duration": 403,
    "start_time": "2025-01-26T22:46:37.730Z"
   },
   {
    "duration": 6880,
    "start_time": "2025-01-26T22:46:38.135Z"
   },
   {
    "duration": 2916,
    "start_time": "2025-01-26T22:47:12.694Z"
   },
   {
    "duration": 640,
    "start_time": "2025-01-26T22:47:15.613Z"
   },
   {
    "duration": 24,
    "start_time": "2025-01-26T22:47:16.255Z"
   },
   {
    "duration": 27,
    "start_time": "2025-01-26T22:47:16.281Z"
   },
   {
    "duration": 5,
    "start_time": "2025-01-26T22:47:16.309Z"
   },
   {
    "duration": 10,
    "start_time": "2025-01-26T22:47:16.315Z"
   },
   {
    "duration": 10,
    "start_time": "2025-01-26T22:47:16.326Z"
   },
   {
    "duration": 13,
    "start_time": "2025-01-26T22:47:16.338Z"
   },
   {
    "duration": 9,
    "start_time": "2025-01-26T22:47:16.352Z"
   },
   {
    "duration": 157,
    "start_time": "2025-01-26T22:47:16.364Z"
   },
   {
    "duration": 145,
    "start_time": "2025-01-26T22:47:16.522Z"
   },
   {
    "duration": 143,
    "start_time": "2025-01-26T22:47:16.668Z"
   },
   {
    "duration": 31,
    "start_time": "2025-01-26T22:47:16.813Z"
   },
   {
    "duration": 20,
    "start_time": "2025-01-26T22:47:16.846Z"
   },
   {
    "duration": 10,
    "start_time": "2025-01-26T22:47:16.867Z"
   },
   {
    "duration": 26,
    "start_time": "2025-01-26T22:47:16.879Z"
   },
   {
    "duration": 8,
    "start_time": "2025-01-26T22:47:16.907Z"
   },
   {
    "duration": 390,
    "start_time": "2025-01-26T22:47:16.917Z"
   },
   {
    "duration": 6796,
    "start_time": "2025-01-26T22:47:17.309Z"
   },
   {
    "duration": 2996,
    "start_time": "2025-01-26T22:48:09.639Z"
   },
   {
    "duration": 668,
    "start_time": "2025-01-26T22:48:12.637Z"
   },
   {
    "duration": 22,
    "start_time": "2025-01-26T22:48:13.307Z"
   },
   {
    "duration": 13,
    "start_time": "2025-01-26T22:48:13.333Z"
   },
   {
    "duration": 4,
    "start_time": "2025-01-26T22:48:13.347Z"
   },
   {
    "duration": 9,
    "start_time": "2025-01-26T22:48:13.353Z"
   },
   {
    "duration": 10,
    "start_time": "2025-01-26T22:48:13.365Z"
   },
   {
    "duration": 40,
    "start_time": "2025-01-26T22:48:13.377Z"
   },
   {
    "duration": 11,
    "start_time": "2025-01-26T22:48:13.419Z"
   },
   {
    "duration": 143,
    "start_time": "2025-01-26T22:48:13.433Z"
   },
   {
    "duration": 136,
    "start_time": "2025-01-26T22:48:13.578Z"
   },
   {
    "duration": 136,
    "start_time": "2025-01-26T22:48:13.715Z"
   },
   {
    "duration": 31,
    "start_time": "2025-01-26T22:48:13.853Z"
   },
   {
    "duration": 40,
    "start_time": "2025-01-26T22:48:13.886Z"
   },
   {
    "duration": 13,
    "start_time": "2025-01-26T22:48:13.928Z"
   },
   {
    "duration": 6,
    "start_time": "2025-01-26T22:48:13.942Z"
   },
   {
    "duration": 7,
    "start_time": "2025-01-26T22:48:13.950Z"
   },
   {
    "duration": 407,
    "start_time": "2025-01-26T22:48:13.959Z"
   },
   {
    "duration": 6863,
    "start_time": "2025-01-26T22:48:14.369Z"
   },
   {
    "duration": 165,
    "start_time": "2025-01-26T22:50:59.074Z"
   },
   {
    "duration": 2928,
    "start_time": "2025-01-26T22:51:02.780Z"
   },
   {
    "duration": 660,
    "start_time": "2025-01-26T22:51:05.711Z"
   },
   {
    "duration": 22,
    "start_time": "2025-01-26T22:51:06.373Z"
   },
   {
    "duration": 14,
    "start_time": "2025-01-26T22:51:06.404Z"
   },
   {
    "duration": 4,
    "start_time": "2025-01-26T22:51:06.420Z"
   },
   {
    "duration": 9,
    "start_time": "2025-01-26T22:51:06.426Z"
   },
   {
    "duration": 11,
    "start_time": "2025-01-26T22:51:06.437Z"
   },
   {
    "duration": 12,
    "start_time": "2025-01-26T22:51:06.449Z"
   },
   {
    "duration": 10,
    "start_time": "2025-01-26T22:51:06.463Z"
   },
   {
    "duration": 136,
    "start_time": "2025-01-26T22:51:06.504Z"
   },
   {
    "duration": 136,
    "start_time": "2025-01-26T22:51:06.643Z"
   },
   {
    "duration": 138,
    "start_time": "2025-01-26T22:51:06.781Z"
   },
   {
    "duration": 29,
    "start_time": "2025-01-26T22:51:06.920Z"
   },
   {
    "duration": 18,
    "start_time": "2025-01-26T22:51:06.951Z"
   },
   {
    "duration": 10,
    "start_time": "2025-01-26T22:51:06.971Z"
   },
   {
    "duration": 8,
    "start_time": "2025-01-26T22:51:07.005Z"
   },
   {
    "duration": 8,
    "start_time": "2025-01-26T22:51:07.014Z"
   },
   {
    "duration": 416,
    "start_time": "2025-01-26T22:51:07.024Z"
   },
   {
    "duration": 6900,
    "start_time": "2025-01-26T22:51:07.442Z"
   },
   {
    "duration": 166,
    "start_time": "2025-01-26T22:51:29.106Z"
   },
   {
    "duration": 2976,
    "start_time": "2025-01-26T22:51:37.564Z"
   },
   {
    "duration": 638,
    "start_time": "2025-01-26T22:51:40.543Z"
   },
   {
    "duration": 29,
    "start_time": "2025-01-26T22:51:41.182Z"
   },
   {
    "duration": 14,
    "start_time": "2025-01-26T22:51:41.213Z"
   },
   {
    "duration": 6,
    "start_time": "2025-01-26T22:51:41.229Z"
   },
   {
    "duration": 10,
    "start_time": "2025-01-26T22:51:41.237Z"
   },
   {
    "duration": 11,
    "start_time": "2025-01-26T22:51:41.249Z"
   },
   {
    "duration": 15,
    "start_time": "2025-01-26T22:51:41.262Z"
   },
   {
    "duration": 35,
    "start_time": "2025-01-26T22:51:41.279Z"
   },
   {
    "duration": 146,
    "start_time": "2025-01-26T22:51:41.317Z"
   },
   {
    "duration": 123,
    "start_time": "2025-01-26T22:51:41.464Z"
   },
   {
    "duration": 139,
    "start_time": "2025-01-26T22:51:41.588Z"
   },
   {
    "duration": 29,
    "start_time": "2025-01-26T22:51:41.729Z"
   },
   {
    "duration": 18,
    "start_time": "2025-01-26T22:51:41.760Z"
   },
   {
    "duration": 29,
    "start_time": "2025-01-26T22:51:41.779Z"
   },
   {
    "duration": 7,
    "start_time": "2025-01-26T22:51:41.809Z"
   },
   {
    "duration": 9,
    "start_time": "2025-01-26T22:51:41.818Z"
   },
   {
    "duration": 412,
    "start_time": "2025-01-26T22:51:41.829Z"
   },
   {
    "duration": 6888,
    "start_time": "2025-01-26T22:51:42.243Z"
   },
   {
    "duration": 187,
    "start_time": "2025-01-26T22:52:21.675Z"
   },
   {
    "duration": 2994,
    "start_time": "2025-01-26T22:52:29.908Z"
   },
   {
    "duration": 653,
    "start_time": "2025-01-26T22:52:32.905Z"
   },
   {
    "duration": 23,
    "start_time": "2025-01-26T22:52:33.560Z"
   },
   {
    "duration": 26,
    "start_time": "2025-01-26T22:52:33.585Z"
   },
   {
    "duration": 4,
    "start_time": "2025-01-26T22:52:33.612Z"
   },
   {
    "duration": 10,
    "start_time": "2025-01-26T22:52:33.618Z"
   },
   {
    "duration": 9,
    "start_time": "2025-01-26T22:52:33.629Z"
   },
   {
    "duration": 11,
    "start_time": "2025-01-26T22:52:33.640Z"
   },
   {
    "duration": 7,
    "start_time": "2025-01-26T22:52:33.653Z"
   },
   {
    "duration": 159,
    "start_time": "2025-01-26T22:52:33.663Z"
   },
   {
    "duration": 125,
    "start_time": "2025-01-26T22:52:33.824Z"
   },
   {
    "duration": 139,
    "start_time": "2025-01-26T22:52:33.950Z"
   },
   {
    "duration": 33,
    "start_time": "2025-01-26T22:52:34.091Z"
   },
   {
    "duration": 20,
    "start_time": "2025-01-26T22:52:34.126Z"
   },
   {
    "duration": 15,
    "start_time": "2025-01-26T22:52:34.148Z"
   },
   {
    "duration": 7,
    "start_time": "2025-01-26T22:52:34.165Z"
   },
   {
    "duration": 8,
    "start_time": "2025-01-26T22:52:34.173Z"
   },
   {
    "duration": 362,
    "start_time": "2025-01-26T22:52:34.206Z"
   },
   {
    "duration": 6776,
    "start_time": "2025-01-26T22:52:34.570Z"
   },
   {
    "duration": 2972,
    "start_time": "2025-01-26T22:56:23.886Z"
   },
   {
    "duration": 719,
    "start_time": "2025-01-26T22:56:26.860Z"
   },
   {
    "duration": 28,
    "start_time": "2025-01-26T22:56:27.581Z"
   },
   {
    "duration": 18,
    "start_time": "2025-01-26T22:56:27.611Z"
   },
   {
    "duration": 4,
    "start_time": "2025-01-26T22:56:27.631Z"
   },
   {
    "duration": 12,
    "start_time": "2025-01-26T22:56:27.637Z"
   },
   {
    "duration": 12,
    "start_time": "2025-01-26T22:56:27.651Z"
   },
   {
    "duration": 46,
    "start_time": "2025-01-26T22:56:27.667Z"
   },
   {
    "duration": 11,
    "start_time": "2025-01-26T22:56:27.715Z"
   },
   {
    "duration": 149,
    "start_time": "2025-01-26T22:56:27.730Z"
   },
   {
    "duration": 165,
    "start_time": "2025-01-26T22:56:27.881Z"
   },
   {
    "duration": 146,
    "start_time": "2025-01-26T22:56:28.048Z"
   },
   {
    "duration": 44,
    "start_time": "2025-01-26T22:56:28.197Z"
   },
   {
    "duration": 21,
    "start_time": "2025-01-26T22:56:28.242Z"
   },
   {
    "duration": 11,
    "start_time": "2025-01-26T22:56:28.265Z"
   },
   {
    "duration": 7,
    "start_time": "2025-01-26T22:56:28.278Z"
   },
   {
    "duration": 26,
    "start_time": "2025-01-26T22:56:28.286Z"
   },
   {
    "duration": 433,
    "start_time": "2025-01-26T22:56:28.314Z"
   },
   {
    "duration": 7408,
    "start_time": "2025-01-26T22:56:28.749Z"
   },
   {
    "duration": 71565,
    "start_time": "2025-01-26T22:57:00.753Z"
   },
   {
    "duration": 196305,
    "start_time": "2025-01-26T22:58:23.928Z"
   },
   {
    "duration": 4,
    "start_time": "2025-01-26T23:07:41.440Z"
   },
   {
    "duration": 25,
    "start_time": "2025-01-26T23:09:29.473Z"
   },
   {
    "duration": 3,
    "start_time": "2025-01-26T23:09:52.056Z"
   },
   {
    "duration": 25,
    "start_time": "2025-01-26T23:09:55.849Z"
   },
   {
    "duration": 4,
    "start_time": "2025-01-26T23:10:13.059Z"
   },
   {
    "duration": 468,
    "start_time": "2025-01-26T23:10:17.016Z"
   },
   {
    "duration": 59,
    "start_time": "2025-01-26T23:12:01.126Z"
   },
   {
    "duration": 6,
    "start_time": "2025-01-26T23:12:51.887Z"
   },
   {
    "duration": 34,
    "start_time": "2025-01-26T23:13:42.588Z"
   },
   {
    "duration": 6,
    "start_time": "2025-01-26T23:14:04.241Z"
   },
   {
    "duration": 21,
    "start_time": "2025-01-26T23:14:55.146Z"
   },
   {
    "duration": 92,
    "start_time": "2025-01-26T23:23:11.723Z"
   },
   {
    "duration": 21,
    "start_time": "2025-01-26T23:24:08.368Z"
   },
   {
    "duration": 4,
    "start_time": "2025-01-26T23:24:14.370Z"
   },
   {
    "duration": 27,
    "start_time": "2025-01-26T23:24:38.582Z"
   },
   {
    "duration": 195,
    "start_time": "2025-01-26T23:26:41.009Z"
   },
   {
    "duration": 80,
    "start_time": "2025-01-26T23:26:55.126Z"
   },
   {
    "duration": 173,
    "start_time": "2025-01-26T23:27:13.634Z"
   },
   {
    "duration": 23,
    "start_time": "2025-01-26T23:27:31.954Z"
   },
   {
    "duration": 19,
    "start_time": "2025-01-26T23:27:45.353Z"
   },
   {
    "duration": 388642,
    "start_time": "2025-01-26T23:28:26.767Z"
   },
   {
    "duration": 87,
    "start_time": "2025-01-26T23:35:40.094Z"
   },
   {
    "duration": 76,
    "start_time": "2025-01-26T23:35:56.033Z"
   },
   {
    "duration": 66,
    "start_time": "2025-01-26T23:36:12.641Z"
   },
   {
    "duration": 154,
    "start_time": "2025-01-26T23:46:19.054Z"
   },
   {
    "duration": 2982,
    "start_time": "2025-01-26T23:46:30.734Z"
   },
   {
    "duration": 37,
    "start_time": "2025-01-26T23:46:37.661Z"
   },
   {
    "duration": 347,
    "start_time": "2025-01-26T23:47:57.505Z"
   },
   {
    "duration": 3,
    "start_time": "2025-01-26T23:48:11.643Z"
   },
   {
    "duration": 666,
    "start_time": "2025-01-26T23:48:11.648Z"
   },
   {
    "duration": 30,
    "start_time": "2025-01-26T23:48:12.315Z"
   },
   {
    "duration": 14,
    "start_time": "2025-01-26T23:48:12.347Z"
   },
   {
    "duration": 5,
    "start_time": "2025-01-26T23:48:12.363Z"
   },
   {
    "duration": 37,
    "start_time": "2025-01-26T23:48:12.369Z"
   },
   {
    "duration": 16,
    "start_time": "2025-01-26T23:48:12.408Z"
   },
   {
    "duration": 26,
    "start_time": "2025-01-26T23:48:12.426Z"
   },
   {
    "duration": 16,
    "start_time": "2025-01-26T23:48:12.454Z"
   },
   {
    "duration": 141,
    "start_time": "2025-01-26T23:48:12.471Z"
   },
   {
    "duration": 138,
    "start_time": "2025-01-26T23:48:12.613Z"
   },
   {
    "duration": 141,
    "start_time": "2025-01-26T23:48:12.752Z"
   },
   {
    "duration": 33,
    "start_time": "2025-01-26T23:48:12.894Z"
   },
   {
    "duration": 17,
    "start_time": "2025-01-26T23:48:12.931Z"
   },
   {
    "duration": 9,
    "start_time": "2025-01-26T23:48:12.949Z"
   },
   {
    "duration": 6,
    "start_time": "2025-01-26T23:48:12.960Z"
   },
   {
    "duration": 6,
    "start_time": "2025-01-26T23:48:12.967Z"
   },
   {
    "duration": 349,
    "start_time": "2025-01-26T23:48:13.007Z"
   },
   {
    "duration": 6786,
    "start_time": "2025-01-26T23:48:13.358Z"
   },
   {
    "duration": 160,
    "start_time": "2025-01-26T23:49:24.144Z"
   },
   {
    "duration": 3025,
    "start_time": "2025-01-26T23:49:29.825Z"
   },
   {
    "duration": 657,
    "start_time": "2025-01-26T23:49:32.853Z"
   },
   {
    "duration": 22,
    "start_time": "2025-01-26T23:49:33.512Z"
   },
   {
    "duration": 13,
    "start_time": "2025-01-26T23:49:33.536Z"
   },
   {
    "duration": 4,
    "start_time": "2025-01-26T23:49:33.553Z"
   },
   {
    "duration": 10,
    "start_time": "2025-01-26T23:49:33.559Z"
   },
   {
    "duration": 43,
    "start_time": "2025-01-26T23:49:33.571Z"
   },
   {
    "duration": 15,
    "start_time": "2025-01-26T23:49:33.615Z"
   },
   {
    "duration": 8,
    "start_time": "2025-01-26T23:49:33.631Z"
   },
   {
    "duration": 139,
    "start_time": "2025-01-26T23:49:33.641Z"
   },
   {
    "duration": 129,
    "start_time": "2025-01-26T23:49:33.782Z"
   },
   {
    "duration": 139,
    "start_time": "2025-01-26T23:49:33.913Z"
   },
   {
    "duration": 31,
    "start_time": "2025-01-26T23:49:34.054Z"
   },
   {
    "duration": 30,
    "start_time": "2025-01-26T23:49:34.088Z"
   },
   {
    "duration": 9,
    "start_time": "2025-01-26T23:49:34.120Z"
   },
   {
    "duration": 7,
    "start_time": "2025-01-26T23:49:34.131Z"
   },
   {
    "duration": 11,
    "start_time": "2025-01-26T23:49:34.140Z"
   },
   {
    "duration": 388,
    "start_time": "2025-01-26T23:49:34.153Z"
   },
   {
    "duration": 6803,
    "start_time": "2025-01-26T23:49:34.543Z"
   },
   {
    "duration": 4266,
    "start_time": "2025-01-26T23:49:46.783Z"
   },
   {
    "duration": 5,
    "start_time": "2025-01-26T23:51:09.296Z"
   },
   {
    "duration": 368,
    "start_time": "2025-01-26T23:51:32.678Z"
   },
   {
    "duration": 11,
    "start_time": "2025-01-26T23:52:02.815Z"
   },
   {
    "duration": 4,
    "start_time": "2025-01-26T23:56:35.180Z"
   },
   {
    "duration": 403,
    "start_time": "2025-01-27T00:00:20.092Z"
   },
   {
    "duration": 10,
    "start_time": "2025-01-27T00:03:55.893Z"
   },
   {
    "duration": 14,
    "start_time": "2025-01-27T00:05:20.685Z"
   },
   {
    "duration": 12,
    "start_time": "2025-01-27T00:05:32.036Z"
   },
   {
    "duration": 4,
    "start_time": "2025-01-27T00:22:46.856Z"
   },
   {
    "duration": 5,
    "start_time": "2025-01-27T00:22:56.428Z"
   },
   {
    "duration": 2080,
    "start_time": "2025-01-27T00:24:49.141Z"
   },
   {
    "duration": 385377,
    "start_time": "2025-01-27T00:25:33.972Z"
   },
   {
    "duration": 5,
    "start_time": "2025-01-27T01:01:13.460Z"
   },
   {
    "duration": 8,
    "start_time": "2025-01-27T01:01:27.089Z"
   },
   {
    "duration": 4,
    "start_time": "2025-01-27T01:01:33.266Z"
   },
   {
    "duration": 175,
    "start_time": "2025-01-27T02:23:24.645Z"
   },
   {
    "duration": 2994,
    "start_time": "2025-01-27T02:23:31.237Z"
   },
   {
    "duration": 681,
    "start_time": "2025-01-27T02:23:34.234Z"
   },
   {
    "duration": 25,
    "start_time": "2025-01-27T02:23:34.917Z"
   },
   {
    "duration": 13,
    "start_time": "2025-01-27T02:23:34.944Z"
   },
   {
    "duration": 5,
    "start_time": "2025-01-27T02:23:34.960Z"
   },
   {
    "duration": 9,
    "start_time": "2025-01-27T02:23:34.966Z"
   },
   {
    "duration": 37,
    "start_time": "2025-01-27T02:23:34.977Z"
   },
   {
    "duration": 14,
    "start_time": "2025-01-27T02:23:35.015Z"
   },
   {
    "duration": 10,
    "start_time": "2025-01-27T02:23:35.031Z"
   },
   {
    "duration": 151,
    "start_time": "2025-01-27T02:23:35.043Z"
   },
   {
    "duration": 129,
    "start_time": "2025-01-27T02:23:35.196Z"
   },
   {
    "duration": 134,
    "start_time": "2025-01-27T02:23:35.327Z"
   },
   {
    "duration": 29,
    "start_time": "2025-01-27T02:23:35.462Z"
   },
   {
    "duration": 26,
    "start_time": "2025-01-27T02:23:35.506Z"
   },
   {
    "duration": 12,
    "start_time": "2025-01-27T02:23:35.534Z"
   },
   {
    "duration": 7,
    "start_time": "2025-01-27T02:23:35.548Z"
   },
   {
    "duration": 8,
    "start_time": "2025-01-27T02:23:35.556Z"
   },
   {
    "duration": 387,
    "start_time": "2025-01-27T02:23:35.565Z"
   },
   {
    "duration": 6802,
    "start_time": "2025-01-27T02:23:35.953Z"
   },
   {
    "duration": 799757,
    "start_time": "2025-01-27T02:26:23.409Z"
   },
   {
    "duration": 5,
    "start_time": "2025-01-27T02:57:45.878Z"
   },
   {
    "duration": 5,
    "start_time": "2025-01-27T02:57:52.277Z"
   },
   {
    "duration": 6,
    "start_time": "2025-01-27T02:58:02.705Z"
   },
   {
    "duration": 6,
    "start_time": "2025-01-27T02:58:10.984Z"
   },
   {
    "duration": 6,
    "start_time": "2025-01-27T02:58:20.816Z"
   },
   {
    "duration": 7,
    "start_time": "2025-01-27T02:58:25.920Z"
   },
   {
    "duration": 55,
    "start_time": "2025-01-27T02:58:48.672Z"
   },
   {
    "duration": 155,
    "start_time": "2025-01-27T14:05:05.260Z"
   },
   {
    "duration": 4578,
    "start_time": "2025-01-27T14:05:16.139Z"
   },
   {
    "duration": 657,
    "start_time": "2025-01-27T14:05:20.720Z"
   },
   {
    "duration": 31,
    "start_time": "2025-01-27T14:05:21.379Z"
   },
   {
    "duration": 15,
    "start_time": "2025-01-27T14:05:21.412Z"
   },
   {
    "duration": 4,
    "start_time": "2025-01-27T14:05:21.429Z"
   },
   {
    "duration": 10,
    "start_time": "2025-01-27T14:05:21.434Z"
   },
   {
    "duration": 10,
    "start_time": "2025-01-27T14:05:21.446Z"
   },
   {
    "duration": 13,
    "start_time": "2025-01-27T14:05:21.458Z"
   },
   {
    "duration": 36,
    "start_time": "2025-01-27T14:05:21.473Z"
   },
   {
    "duration": 146,
    "start_time": "2025-01-27T14:05:21.513Z"
   },
   {
    "duration": 128,
    "start_time": "2025-01-27T14:05:21.661Z"
   },
   {
    "duration": 138,
    "start_time": "2025-01-27T14:05:21.791Z"
   },
   {
    "duration": 30,
    "start_time": "2025-01-27T14:05:21.931Z"
   },
   {
    "duration": 42,
    "start_time": "2025-01-27T14:05:21.963Z"
   },
   {
    "duration": 14,
    "start_time": "2025-01-27T14:05:22.007Z"
   },
   {
    "duration": 7,
    "start_time": "2025-01-27T14:05:22.022Z"
   },
   {
    "duration": 9,
    "start_time": "2025-01-27T14:05:22.031Z"
   },
   {
    "duration": 422,
    "start_time": "2025-01-27T14:05:22.042Z"
   },
   {
    "duration": 6743,
    "start_time": "2025-01-27T14:05:22.467Z"
   },
   {
    "duration": 4265,
    "start_time": "2025-01-27T14:05:35.222Z"
   },
   {
    "duration": 173,
    "start_time": "2025-01-27T14:16:12.345Z"
   },
   {
    "duration": 2950,
    "start_time": "2025-01-27T14:16:18.704Z"
   },
   {
    "duration": 662,
    "start_time": "2025-01-27T14:16:21.656Z"
   },
   {
    "duration": 23,
    "start_time": "2025-01-27T14:16:22.320Z"
   },
   {
    "duration": 15,
    "start_time": "2025-01-27T14:16:22.346Z"
   },
   {
    "duration": 5,
    "start_time": "2025-01-27T14:16:22.362Z"
   },
   {
    "duration": 10,
    "start_time": "2025-01-27T14:16:22.368Z"
   },
   {
    "duration": 37,
    "start_time": "2025-01-27T14:16:22.380Z"
   },
   {
    "duration": 28,
    "start_time": "2025-01-27T14:16:22.419Z"
   },
   {
    "duration": 12,
    "start_time": "2025-01-27T14:16:22.450Z"
   },
   {
    "duration": 147,
    "start_time": "2025-01-27T14:16:22.465Z"
   },
   {
    "duration": 136,
    "start_time": "2025-01-27T14:16:22.614Z"
   },
   {
    "duration": 137,
    "start_time": "2025-01-27T14:16:22.752Z"
   },
   {
    "duration": 38,
    "start_time": "2025-01-27T14:16:22.891Z"
   },
   {
    "duration": 15,
    "start_time": "2025-01-27T14:16:22.931Z"
   },
   {
    "duration": 8,
    "start_time": "2025-01-27T14:16:22.948Z"
   },
   {
    "duration": 6,
    "start_time": "2025-01-27T14:16:22.958Z"
   },
   {
    "duration": 7,
    "start_time": "2025-01-27T14:16:22.965Z"
   },
   {
    "duration": 378,
    "start_time": "2025-01-27T14:16:22.973Z"
   },
   {
    "duration": 6694,
    "start_time": "2025-01-27T14:16:23.353Z"
   },
   {
    "duration": 12,
    "start_time": "2025-01-27T14:16:31.593Z"
   },
   {
    "duration": 4336,
    "start_time": "2025-01-27T14:17:23.409Z"
   },
   {
    "duration": 22,
    "start_time": "2025-01-27T14:26:59.374Z"
   },
   {
    "duration": 3,
    "start_time": "2025-01-27T14:28:27.050Z"
   },
   {
    "duration": 562,
    "start_time": "2025-01-27T14:33:11.863Z"
   },
   {
    "duration": 553,
    "start_time": "2025-01-27T14:33:44.780Z"
   },
   {
    "duration": 12,
    "start_time": "2025-01-27T14:34:11.246Z"
   },
   {
    "duration": 4225,
    "start_time": "2025-01-27T14:34:11.926Z"
   },
   {
    "duration": 1181311,
    "start_time": "2025-01-27T14:34:18.388Z"
   },
   {
    "duration": 663839,
    "start_time": "2025-01-27T14:54:19.930Z"
   },
   {
    "duration": 112354,
    "start_time": "2025-01-27T15:05:34.463Z"
   },
   {
    "duration": 11,
    "start_time": "2025-01-27T15:10:50.523Z"
   },
   {
    "duration": 4229,
    "start_time": "2025-01-27T15:11:52.545Z"
   },
   {
    "duration": 5395,
    "start_time": "2025-01-27T15:18:56.215Z"
   },
   {
    "duration": 4,
    "start_time": "2025-01-27T15:33:36.620Z"
   },
   {
    "duration": 3,
    "start_time": "2025-01-27T15:33:42.809Z"
   },
   {
    "duration": 23,
    "start_time": "2025-01-27T15:41:47.447Z"
   },
   {
    "duration": 11,
    "start_time": "2025-01-27T15:41:53.868Z"
   },
   {
    "duration": 4284,
    "start_time": "2025-01-27T15:41:54.286Z"
   },
   {
    "duration": 6851,
    "start_time": "2025-01-27T15:41:58.572Z"
   },
   {
    "duration": 25,
    "start_time": "2025-01-27T15:42:18.886Z"
   },
   {
    "duration": 23,
    "start_time": "2025-01-27T15:42:34.784Z"
   },
   {
    "duration": 4,
    "start_time": "2025-01-27T15:42:42.773Z"
   },
   {
    "duration": 5,
    "start_time": "2025-01-27T15:42:43.622Z"
   },
   {
    "duration": 6,
    "start_time": "2025-01-27T15:46:43.821Z"
   },
   {
    "duration": 21,
    "start_time": "2025-01-27T15:49:27.170Z"
   },
   {
    "duration": 112001,
    "start_time": "2025-01-27T15:49:35.604Z"
   },
   {
    "duration": 43,
    "start_time": "2025-01-27T15:51:45.120Z"
   },
   {
    "duration": 4,
    "start_time": "2025-01-27T15:57:46.521Z"
   },
   {
    "duration": 335,
    "start_time": "2025-01-27T15:57:48.257Z"
   },
   {
    "duration": 4,
    "start_time": "2025-01-27T15:58:48.776Z"
   },
   {
    "duration": 67,
    "start_time": "2025-01-27T15:58:50.199Z"
   },
   {
    "duration": 4,
    "start_time": "2025-01-27T15:59:39.898Z"
   },
   {
    "duration": 69,
    "start_time": "2025-01-27T15:59:40.583Z"
   },
   {
    "duration": 4,
    "start_time": "2025-01-27T16:02:48.287Z"
   },
   {
    "duration": 6,
    "start_time": "2025-01-27T16:02:48.906Z"
   },
   {
    "duration": 41,
    "start_time": "2025-01-27T16:02:51.401Z"
   },
   {
    "duration": 158440,
    "start_time": "2025-01-27T16:13:16.988Z"
   },
   {
    "duration": 25,
    "start_time": "2025-01-27T16:16:35.731Z"
   },
   {
    "duration": 4,
    "start_time": "2025-01-27T16:16:57.553Z"
   },
   {
    "duration": 543,
    "start_time": "2025-01-27T16:16:57.563Z"
   },
   {
    "duration": 21,
    "start_time": "2025-01-27T16:16:58.109Z"
   },
   {
    "duration": 11,
    "start_time": "2025-01-27T16:16:58.131Z"
   },
   {
    "duration": 4,
    "start_time": "2025-01-27T16:16:58.143Z"
   },
   {
    "duration": 9,
    "start_time": "2025-01-27T16:16:58.149Z"
   },
   {
    "duration": 8,
    "start_time": "2025-01-27T16:16:58.160Z"
   },
   {
    "duration": 38,
    "start_time": "2025-01-27T16:16:58.170Z"
   },
   {
    "duration": 7,
    "start_time": "2025-01-27T16:16:58.210Z"
   },
   {
    "duration": 138,
    "start_time": "2025-01-27T16:16:58.219Z"
   },
   {
    "duration": 103,
    "start_time": "2025-01-27T16:16:58.359Z"
   },
   {
    "duration": 133,
    "start_time": "2025-01-27T16:16:58.464Z"
   },
   {
    "duration": 29,
    "start_time": "2025-01-27T16:16:58.598Z"
   },
   {
    "duration": 18,
    "start_time": "2025-01-27T16:16:58.629Z"
   },
   {
    "duration": 9,
    "start_time": "2025-01-27T16:16:58.651Z"
   },
   {
    "duration": 6,
    "start_time": "2025-01-27T16:16:58.661Z"
   },
   {
    "duration": 7,
    "start_time": "2025-01-27T16:16:58.668Z"
   },
   {
    "duration": 374,
    "start_time": "2025-01-27T16:16:58.676Z"
   },
   {
    "duration": 6693,
    "start_time": "2025-01-27T16:16:59.052Z"
   },
   {
    "duration": 169,
    "start_time": "2025-01-27T16:17:33.624Z"
   },
   {
    "duration": 3016,
    "start_time": "2025-01-27T16:17:41.432Z"
   },
   {
    "duration": 646,
    "start_time": "2025-01-27T16:17:44.450Z"
   },
   {
    "duration": 28,
    "start_time": "2025-01-27T16:17:45.097Z"
   },
   {
    "duration": 13,
    "start_time": "2025-01-27T16:17:45.128Z"
   },
   {
    "duration": 4,
    "start_time": "2025-01-27T16:17:45.143Z"
   },
   {
    "duration": 11,
    "start_time": "2025-01-27T16:17:45.148Z"
   },
   {
    "duration": 10,
    "start_time": "2025-01-27T16:17:45.160Z"
   },
   {
    "duration": 41,
    "start_time": "2025-01-27T16:17:45.172Z"
   },
   {
    "duration": 10,
    "start_time": "2025-01-27T16:17:45.215Z"
   },
   {
    "duration": 144,
    "start_time": "2025-01-27T16:17:45.228Z"
   },
   {
    "duration": 131,
    "start_time": "2025-01-27T16:17:45.374Z"
   },
   {
    "duration": 134,
    "start_time": "2025-01-27T16:17:45.507Z"
   },
   {
    "duration": 30,
    "start_time": "2025-01-27T16:17:45.643Z"
   },
   {
    "duration": 31,
    "start_time": "2025-01-27T16:17:45.674Z"
   },
   {
    "duration": 10,
    "start_time": "2025-01-27T16:17:45.706Z"
   },
   {
    "duration": 7,
    "start_time": "2025-01-27T16:17:45.717Z"
   },
   {
    "duration": 7,
    "start_time": "2025-01-27T16:17:45.725Z"
   },
   {
    "duration": 397,
    "start_time": "2025-01-27T16:17:45.734Z"
   },
   {
    "duration": 6820,
    "start_time": "2025-01-27T16:17:46.133Z"
   },
   {
    "duration": 774998,
    "start_time": "2025-01-27T16:17:52.955Z"
   },
   {
    "duration": 156,
    "start_time": "2025-01-27T16:30:47.956Z"
   },
   {
    "duration": 14,
    "start_time": "2025-01-27T16:30:48.113Z"
   },
   {
    "duration": 4263,
    "start_time": "2025-01-27T16:30:48.128Z"
   },
   {
    "duration": 113007,
    "start_time": "2025-01-27T16:30:52.393Z"
   },
   {
    "duration": 11,
    "start_time": "2025-01-27T16:32:45.406Z"
   },
   {
    "duration": 4238,
    "start_time": "2025-01-27T16:32:45.418Z"
   },
   {
    "duration": 7460,
    "start_time": "2025-01-27T16:32:49.659Z"
   },
   {
    "duration": 4,
    "start_time": "2025-01-27T16:32:57.123Z"
   },
   {
    "duration": 7,
    "start_time": "2025-01-27T16:32:57.129Z"
   },
   {
    "duration": 94,
    "start_time": "2025-01-27T16:32:57.137Z"
   },
   {
    "duration": 159029,
    "start_time": "2025-01-27T16:32:57.233Z"
   },
   {
    "duration": 0,
    "start_time": "2025-01-27T16:35:36.263Z"
   },
   {
    "duration": 52,
    "start_time": "2025-01-27T16:36:18.160Z"
   },
   {
    "duration": 167,
    "start_time": "2025-01-27T16:37:03.517Z"
   },
   {
    "duration": 11,
    "start_time": "2025-01-27T16:37:37.303Z"
   },
   {
    "duration": 2943,
    "start_time": "2025-01-27T16:37:42.243Z"
   },
   {
    "duration": 1509,
    "start_time": "2025-01-27T16:37:52.118Z"
   },
   {
    "duration": 1922,
    "start_time": "2025-01-27T16:38:07.083Z"
   },
   {
    "duration": 4,
    "start_time": "2025-01-27T16:38:14.006Z"
   },
   {
    "duration": 158849,
    "start_time": "2025-01-27T16:38:16.263Z"
   },
   {
    "duration": 158158,
    "start_time": "2025-01-27T16:42:35.395Z"
   },
   {
    "duration": 157366,
    "start_time": "2025-01-27T16:46:33.394Z"
   },
   {
    "duration": 32,
    "start_time": "2025-01-27T16:49:24.801Z"
   },
   {
    "duration": 3,
    "start_time": "2025-01-27T16:49:30.098Z"
   },
   {
    "duration": 603,
    "start_time": "2025-01-27T16:49:30.108Z"
   },
   {
    "duration": 22,
    "start_time": "2025-01-27T16:49:30.714Z"
   },
   {
    "duration": 13,
    "start_time": "2025-01-27T16:49:30.738Z"
   },
   {
    "duration": 4,
    "start_time": "2025-01-27T16:49:30.752Z"
   },
   {
    "duration": 10,
    "start_time": "2025-01-27T16:49:30.759Z"
   },
   {
    "duration": 38,
    "start_time": "2025-01-27T16:49:30.770Z"
   },
   {
    "duration": 20,
    "start_time": "2025-01-27T16:49:30.809Z"
   },
   {
    "duration": 8,
    "start_time": "2025-01-27T16:49:30.830Z"
   },
   {
    "duration": 138,
    "start_time": "2025-01-27T16:49:30.839Z"
   },
   {
    "duration": 129,
    "start_time": "2025-01-27T16:49:30.979Z"
   },
   {
    "duration": 132,
    "start_time": "2025-01-27T16:49:31.110Z"
   },
   {
    "duration": 40,
    "start_time": "2025-01-27T16:49:31.244Z"
   },
   {
    "duration": 29,
    "start_time": "2025-01-27T16:49:31.287Z"
   },
   {
    "duration": 9,
    "start_time": "2025-01-27T16:49:31.319Z"
   },
   {
    "duration": 6,
    "start_time": "2025-01-27T16:49:31.329Z"
   },
   {
    "duration": 7,
    "start_time": "2025-01-27T16:49:31.336Z"
   },
   {
    "duration": 406,
    "start_time": "2025-01-27T16:49:31.345Z"
   },
   {
    "duration": 6684,
    "start_time": "2025-01-27T16:49:31.753Z"
   },
   {
    "duration": 1149,
    "start_time": "2025-01-27T16:49:38.438Z"
   },
   {
    "duration": 161,
    "start_time": "2025-01-27T16:53:29.046Z"
   },
   {
    "duration": 2915,
    "start_time": "2025-01-27T16:53:34.166Z"
   },
   {
    "duration": 677,
    "start_time": "2025-01-27T16:53:37.084Z"
   },
   {
    "duration": 23,
    "start_time": "2025-01-27T16:53:37.762Z"
   },
   {
    "duration": 25,
    "start_time": "2025-01-27T16:53:37.787Z"
   },
   {
    "duration": 4,
    "start_time": "2025-01-27T16:53:37.813Z"
   },
   {
    "duration": 10,
    "start_time": "2025-01-27T16:53:37.819Z"
   },
   {
    "duration": 9,
    "start_time": "2025-01-27T16:53:37.831Z"
   },
   {
    "duration": 11,
    "start_time": "2025-01-27T16:53:37.841Z"
   },
   {
    "duration": 7,
    "start_time": "2025-01-27T16:53:37.853Z"
   },
   {
    "duration": 159,
    "start_time": "2025-01-27T16:53:37.863Z"
   },
   {
    "duration": 130,
    "start_time": "2025-01-27T16:53:38.024Z"
   },
   {
    "duration": 144,
    "start_time": "2025-01-27T16:53:38.156Z"
   },
   {
    "duration": 37,
    "start_time": "2025-01-27T16:53:38.301Z"
   },
   {
    "duration": 34,
    "start_time": "2025-01-27T16:53:38.340Z"
   },
   {
    "duration": 12,
    "start_time": "2025-01-27T16:53:38.376Z"
   },
   {
    "duration": 7,
    "start_time": "2025-01-27T16:53:38.405Z"
   },
   {
    "duration": 8,
    "start_time": "2025-01-27T16:53:38.414Z"
   },
   {
    "duration": 396,
    "start_time": "2025-01-27T16:53:38.424Z"
   },
   {
    "duration": 6824,
    "start_time": "2025-01-27T16:53:38.822Z"
   },
   {
    "duration": 1601,
    "start_time": "2025-01-27T16:53:48.847Z"
   },
   {
    "duration": 776363,
    "start_time": "2025-01-27T16:53:54.096Z"
   },
   {
    "duration": 14,
    "start_time": "2025-01-27T17:26:07.288Z"
   },
   {
    "duration": 3107,
    "start_time": "2025-01-27T17:26:19.912Z"
   },
   {
    "duration": 342,
    "start_time": "2025-01-27T17:26:26.976Z"
   },
   {
    "duration": 33,
    "start_time": "2025-01-27T17:26:34.359Z"
   },
   {
    "duration": 4,
    "start_time": "2025-01-27T17:26:42.609Z"
   },
   {
    "duration": 663,
    "start_time": "2025-01-27T17:26:42.620Z"
   },
   {
    "duration": 27,
    "start_time": "2025-01-27T17:26:43.285Z"
   },
   {
    "duration": 13,
    "start_time": "2025-01-27T17:26:43.314Z"
   },
   {
    "duration": 4,
    "start_time": "2025-01-27T17:26:43.329Z"
   },
   {
    "duration": 10,
    "start_time": "2025-01-27T17:26:43.335Z"
   },
   {
    "duration": 9,
    "start_time": "2025-01-27T17:26:43.347Z"
   },
   {
    "duration": 11,
    "start_time": "2025-01-27T17:26:43.358Z"
   },
   {
    "duration": 41,
    "start_time": "2025-01-27T17:26:43.371Z"
   },
   {
    "duration": 144,
    "start_time": "2025-01-27T17:26:43.414Z"
   },
   {
    "duration": 135,
    "start_time": "2025-01-27T17:26:43.562Z"
   },
   {
    "duration": 136,
    "start_time": "2025-01-27T17:26:43.704Z"
   },
   {
    "duration": 29,
    "start_time": "2025-01-27T17:26:43.842Z"
   },
   {
    "duration": 44,
    "start_time": "2025-01-27T17:26:43.873Z"
   },
   {
    "duration": 12,
    "start_time": "2025-01-27T17:26:43.919Z"
   },
   {
    "duration": 6,
    "start_time": "2025-01-27T17:26:43.932Z"
   },
   {
    "duration": 6,
    "start_time": "2025-01-27T17:26:43.940Z"
   },
   {
    "duration": 400,
    "start_time": "2025-01-27T17:26:43.948Z"
   },
   {
    "duration": 7303,
    "start_time": "2025-01-27T17:26:44.350Z"
   },
   {
    "duration": 2552,
    "start_time": "2025-01-27T17:26:51.655Z"
   },
   {
    "duration": 789152,
    "start_time": "2025-01-27T17:26:54.209Z"
   },
   {
    "duration": 148,
    "start_time": "2025-01-27T17:40:03.363Z"
   },
   {
    "duration": 14,
    "start_time": "2025-01-27T17:40:03.513Z"
   },
   {
    "duration": 4270,
    "start_time": "2025-01-27T17:40:03.528Z"
   },
   {
    "duration": 113265,
    "start_time": "2025-01-27T17:40:07.799Z"
   },
   {
    "duration": 10,
    "start_time": "2025-01-27T17:42:01.066Z"
   },
   {
    "duration": 4364,
    "start_time": "2025-01-27T17:42:01.078Z"
   },
   {
    "duration": 7684,
    "start_time": "2025-01-27T17:42:05.443Z"
   },
   {
    "duration": 5,
    "start_time": "2025-01-27T17:42:13.131Z"
   },
   {
    "duration": 1669,
    "start_time": "2025-01-27T17:42:13.138Z"
   },
   {
    "duration": 0,
    "start_time": "2025-01-27T17:42:14.809Z"
   },
   {
    "duration": 0,
    "start_time": "2025-01-27T17:42:14.810Z"
   },
   {
    "duration": 192,
    "start_time": "2025-01-27T17:58:34.294Z"
   },
   {
    "duration": 2924,
    "start_time": "2025-01-27T17:58:38.195Z"
   },
   {
    "duration": 655,
    "start_time": "2025-01-27T17:58:41.121Z"
   },
   {
    "duration": 28,
    "start_time": "2025-01-27T17:58:41.778Z"
   },
   {
    "duration": 15,
    "start_time": "2025-01-27T17:58:41.808Z"
   },
   {
    "duration": 4,
    "start_time": "2025-01-27T17:58:41.824Z"
   },
   {
    "duration": 10,
    "start_time": "2025-01-27T17:58:41.831Z"
   },
   {
    "duration": 10,
    "start_time": "2025-01-27T17:58:41.842Z"
   },
   {
    "duration": 12,
    "start_time": "2025-01-27T17:58:41.854Z"
   },
   {
    "duration": 39,
    "start_time": "2025-01-27T17:58:41.867Z"
   },
   {
    "duration": 137,
    "start_time": "2025-01-27T17:58:41.909Z"
   },
   {
    "duration": 129,
    "start_time": "2025-01-27T17:58:42.048Z"
   },
   {
    "duration": 138,
    "start_time": "2025-01-27T17:58:42.178Z"
   },
   {
    "duration": 31,
    "start_time": "2025-01-27T17:58:42.318Z"
   },
   {
    "duration": 30,
    "start_time": "2025-01-27T17:58:42.351Z"
   },
   {
    "duration": 29,
    "start_time": "2025-01-27T17:58:42.383Z"
   },
   {
    "duration": 12,
    "start_time": "2025-01-27T17:58:42.414Z"
   },
   {
    "duration": 14,
    "start_time": "2025-01-27T17:58:42.429Z"
   },
   {
    "duration": 412,
    "start_time": "2025-01-27T17:58:42.445Z"
   },
   {
    "duration": 6756,
    "start_time": "2025-01-27T17:58:42.859Z"
   },
   {
    "duration": 2135,
    "start_time": "2025-01-27T17:58:49.617Z"
   },
   {
    "duration": 783399,
    "start_time": "2025-01-27T17:58:51.754Z"
   },
   {
    "duration": 509,
    "start_time": "2025-01-27T18:12:28.185Z"
   },
   {
    "duration": 116,
    "start_time": "2025-01-27T18:12:37.190Z"
   },
   {
    "duration": 78,
    "start_time": "2025-01-27T18:12:43.432Z"
   },
   {
    "duration": 10,
    "start_time": "2025-01-27T18:12:50.481Z"
   },
   {
    "duration": 4227,
    "start_time": "2025-01-27T18:12:51.453Z"
   },
   {
    "duration": 4,
    "start_time": "2025-01-27T18:13:00.626Z"
   },
   {
    "duration": 160551,
    "start_time": "2025-01-27T18:13:10.486Z"
   },
   {
    "duration": 107,
    "start_time": "2025-01-27T18:16:21.679Z"
   },
   {
    "duration": 36,
    "start_time": "2025-01-27T18:17:24.864Z"
   },
   {
    "duration": 35,
    "start_time": "2025-01-27T18:17:42.921Z"
   },
   {
    "duration": 4,
    "start_time": "2025-01-27T18:22:23.320Z"
   },
   {
    "duration": 110,
    "start_time": "2025-01-27T18:22:56.014Z"
   },
   {
    "duration": 4,
    "start_time": "2025-01-27T18:23:11.949Z"
   },
   {
    "duration": 7,
    "start_time": "2025-01-27T18:23:25.044Z"
   },
   {
    "duration": 20,
    "start_time": "2025-01-27T18:23:31.164Z"
   },
   {
    "duration": 18,
    "start_time": "2025-01-27T18:23:47.485Z"
   },
   {
    "duration": 4298,
    "start_time": "2025-01-27T18:23:47.991Z"
   },
   {
    "duration": 113242,
    "start_time": "2025-01-27T18:23:55.888Z"
   },
   {
    "duration": 13,
    "start_time": "2025-01-27T18:25:59.576Z"
   },
   {
    "duration": 4332,
    "start_time": "2025-01-27T18:26:00.130Z"
   },
   {
    "duration": 5461,
    "start_time": "2025-01-27T18:26:04.464Z"
   },
   {
    "duration": 47,
    "start_time": "2025-01-27T18:26:18.751Z"
   },
   {
    "duration": 6,
    "start_time": "2025-01-27T18:26:20.956Z"
   },
   {
    "duration": 170,
    "start_time": "2025-01-28T13:41:23.779Z"
   },
   {
    "duration": 23,
    "start_time": "2025-01-28T13:41:45.200Z"
   },
   {
    "duration": 5036,
    "start_time": "2025-01-28T13:42:00.137Z"
   },
   {
    "duration": 676,
    "start_time": "2025-01-28T13:42:05.175Z"
   },
   {
    "duration": 29,
    "start_time": "2025-01-28T13:42:05.853Z"
   },
   {
    "duration": 27,
    "start_time": "2025-01-28T13:42:05.884Z"
   },
   {
    "duration": 5,
    "start_time": "2025-01-28T13:42:05.913Z"
   },
   {
    "duration": 11,
    "start_time": "2025-01-28T13:42:05.920Z"
   },
   {
    "duration": 13,
    "start_time": "2025-01-28T13:42:05.933Z"
   },
   {
    "duration": 18,
    "start_time": "2025-01-28T13:42:05.947Z"
   },
   {
    "duration": 41,
    "start_time": "2025-01-28T13:42:05.967Z"
   },
   {
    "duration": 143,
    "start_time": "2025-01-28T13:42:06.011Z"
   },
   {
    "duration": 141,
    "start_time": "2025-01-28T13:42:06.156Z"
   },
   {
    "duration": 152,
    "start_time": "2025-01-28T13:42:06.298Z"
   },
   {
    "duration": 31,
    "start_time": "2025-01-28T13:42:06.451Z"
   },
   {
    "duration": 43,
    "start_time": "2025-01-28T13:42:06.484Z"
   },
   {
    "duration": 14,
    "start_time": "2025-01-28T13:42:06.529Z"
   },
   {
    "duration": 8,
    "start_time": "2025-01-28T13:42:06.546Z"
   },
   {
    "duration": 11,
    "start_time": "2025-01-28T13:42:06.556Z"
   },
   {
    "duration": 403,
    "start_time": "2025-01-28T13:42:06.569Z"
   },
   {
    "duration": 6984,
    "start_time": "2025-01-28T13:42:06.974Z"
   },
   {
    "duration": 1678,
    "start_time": "2025-01-28T13:42:24.526Z"
   },
   {
    "duration": 763111,
    "start_time": "2025-01-28T13:42:28.556Z"
   },
   {
    "duration": 678,
    "start_time": "2025-01-28T13:56:18.558Z"
   },
   {
    "duration": 4,
    "start_time": "2025-01-28T13:57:00.838Z"
   },
   {
    "duration": 331,
    "start_time": "2025-01-28T13:57:06.095Z"
   },
   {
    "duration": 4,
    "start_time": "2025-01-28T13:57:27.577Z"
   },
   {
    "duration": 318,
    "start_time": "2025-01-28T13:57:32.105Z"
   },
   {
    "duration": 315,
    "start_time": "2025-01-28T13:57:43.099Z"
   },
   {
    "duration": 503,
    "start_time": "2025-01-28T13:59:29.541Z"
   },
   {
    "duration": 386,
    "start_time": "2025-01-28T14:00:42.862Z"
   },
   {
    "duration": 375,
    "start_time": "2025-01-28T14:00:52.085Z"
   },
   {
    "duration": 373,
    "start_time": "2025-01-28T14:00:56.882Z"
   },
   {
    "duration": 389,
    "start_time": "2025-01-28T14:01:35.236Z"
   },
   {
    "duration": 418,
    "start_time": "2025-01-28T14:02:21.699Z"
   },
   {
    "duration": 454,
    "start_time": "2025-01-28T14:02:31.894Z"
   },
   {
    "duration": 342,
    "start_time": "2025-01-28T14:03:14.392Z"
   },
   {
    "duration": 4,
    "start_time": "2025-01-28T14:08:32.016Z"
   },
   {
    "duration": 561,
    "start_time": "2025-01-28T14:09:25.124Z"
   },
   {
    "duration": 494,
    "start_time": "2025-01-28T14:09:44.671Z"
   },
   {
    "duration": 513,
    "start_time": "2025-01-28T14:10:02.652Z"
   },
   {
    "duration": 505,
    "start_time": "2025-01-28T14:10:12.350Z"
   },
   {
    "duration": 490,
    "start_time": "2025-01-28T14:10:30.964Z"
   },
   {
    "duration": 476,
    "start_time": "2025-01-28T14:10:38.872Z"
   },
   {
    "duration": 624,
    "start_time": "2025-01-28T14:12:41.362Z"
   },
   {
    "duration": 548,
    "start_time": "2025-01-28T14:13:16.939Z"
   },
   {
    "duration": 494,
    "start_time": "2025-01-28T14:14:45.158Z"
   },
   {
    "duration": 497,
    "start_time": "2025-01-28T14:18:03.565Z"
   },
   {
    "duration": 534,
    "start_time": "2025-01-28T14:18:13.446Z"
   },
   {
    "duration": 688,
    "start_time": "2025-01-28T14:18:36.297Z"
   },
   {
    "duration": 499,
    "start_time": "2025-01-28T14:19:02.663Z"
   },
   {
    "duration": 499,
    "start_time": "2025-01-28T14:19:18.054Z"
   },
   {
    "duration": 475,
    "start_time": "2025-01-28T14:19:38.570Z"
   },
   {
    "duration": 516,
    "start_time": "2025-01-28T14:19:56.961Z"
   },
   {
    "duration": 503,
    "start_time": "2025-01-28T14:21:09.546Z"
   },
   {
    "duration": 537,
    "start_time": "2025-01-28T14:26:23.624Z"
   },
   {
    "duration": 518,
    "start_time": "2025-01-28T14:26:34.268Z"
   },
   {
    "duration": 552,
    "start_time": "2025-01-28T14:26:55.931Z"
   },
   {
    "duration": 545,
    "start_time": "2025-01-28T14:27:02.532Z"
   },
   {
    "duration": 553,
    "start_time": "2025-01-28T14:27:39.808Z"
   },
   {
    "duration": 469,
    "start_time": "2025-01-28T14:27:55.470Z"
   },
   {
    "duration": 476,
    "start_time": "2025-01-28T14:28:00.762Z"
   },
   {
    "duration": 502,
    "start_time": "2025-01-28T14:28:48.055Z"
   },
   {
    "duration": 610,
    "start_time": "2025-01-28T14:28:57.508Z"
   },
   {
    "duration": 549,
    "start_time": "2025-01-28T14:29:09.313Z"
   },
   {
    "duration": 532,
    "start_time": "2025-01-28T14:29:14.529Z"
   },
   {
    "duration": 747,
    "start_time": "2025-01-28T14:30:03.703Z"
   },
   {
    "duration": 523,
    "start_time": "2025-01-28T14:30:32.821Z"
   },
   {
    "duration": 468,
    "start_time": "2025-01-28T14:30:39.892Z"
   },
   {
    "duration": 11,
    "start_time": "2025-01-28T14:31:04.483Z"
   },
   {
    "duration": 4383,
    "start_time": "2025-01-28T14:31:05.264Z"
   },
   {
    "duration": 112640,
    "start_time": "2025-01-28T14:33:14.670Z"
   },
   {
    "duration": 113275,
    "start_time": "2025-01-28T14:39:38.428Z"
   },
   {
    "duration": 33,
    "start_time": "2025-01-28T14:45:01.435Z"
   },
   {
    "duration": 11,
    "start_time": "2025-01-28T14:45:10.031Z"
   },
   {
    "duration": 4257,
    "start_time": "2025-01-28T14:45:10.639Z"
   },
   {
    "duration": 7068,
    "start_time": "2025-01-28T14:45:14.898Z"
   },
   {
    "duration": 6333,
    "start_time": "2025-01-28T14:45:49.403Z"
   },
   {
    "duration": 36,
    "start_time": "2025-01-28T14:48:14.969Z"
   },
   {
    "duration": 5,
    "start_time": "2025-01-28T14:48:20.676Z"
   },
   {
    "duration": 153531,
    "start_time": "2025-01-28T14:48:21.678Z"
   },
   {
    "duration": 222,
    "start_time": "2025-01-28T14:51:40.103Z"
   },
   {
    "duration": 352,
    "start_time": "2025-01-28T14:56:36.586Z"
   },
   {
    "duration": 368,
    "start_time": "2025-01-28T14:58:04.781Z"
   },
   {
    "duration": 356,
    "start_time": "2025-01-28T14:59:45.385Z"
   },
   {
    "duration": 285,
    "start_time": "2025-01-28T15:01:13.631Z"
   },
   {
    "duration": 155,
    "start_time": "2025-01-29T18:29:44.576Z"
   },
   {
    "duration": 4638,
    "start_time": "2025-01-29T18:29:50.968Z"
   },
   {
    "duration": 337,
    "start_time": "2025-01-29T18:30:01.034Z"
   },
   {
    "duration": 5,
    "start_time": "2025-01-29T18:30:14.279Z"
   },
   {
    "duration": 700,
    "start_time": "2025-01-29T18:30:14.286Z"
   },
   {
    "duration": 24,
    "start_time": "2025-01-29T18:30:14.988Z"
   },
   {
    "duration": 13,
    "start_time": "2025-01-29T18:30:15.015Z"
   },
   {
    "duration": 4,
    "start_time": "2025-01-29T18:30:15.030Z"
   },
   {
    "duration": 35,
    "start_time": "2025-01-29T18:30:15.036Z"
   },
   {
    "duration": 11,
    "start_time": "2025-01-29T18:30:15.072Z"
   },
   {
    "duration": 17,
    "start_time": "2025-01-29T18:30:15.084Z"
   },
   {
    "duration": 8,
    "start_time": "2025-01-29T18:30:15.102Z"
   },
   {
    "duration": 145,
    "start_time": "2025-01-29T18:30:15.114Z"
   },
   {
    "duration": 133,
    "start_time": "2025-01-29T18:30:15.261Z"
   },
   {
    "duration": 137,
    "start_time": "2025-01-29T18:30:15.395Z"
   },
   {
    "duration": 29,
    "start_time": "2025-01-29T18:30:15.534Z"
   },
   {
    "duration": 20,
    "start_time": "2025-01-29T18:30:15.570Z"
   },
   {
    "duration": 9,
    "start_time": "2025-01-29T18:30:15.592Z"
   },
   {
    "duration": 6,
    "start_time": "2025-01-29T18:30:15.603Z"
   },
   {
    "duration": 7,
    "start_time": "2025-01-29T18:30:15.610Z"
   },
   {
    "duration": 405,
    "start_time": "2025-01-29T18:30:15.619Z"
   },
   {
    "duration": 6984,
    "start_time": "2025-01-29T18:30:16.027Z"
   },
   {
    "duration": 1521,
    "start_time": "2025-01-29T18:30:23.013Z"
   },
   {
    "duration": 768885,
    "start_time": "2025-01-29T18:30:24.536Z"
   },
   {
    "duration": 595,
    "start_time": "2025-01-29T18:43:13.423Z"
   },
   {
    "duration": 2,
    "start_time": "2025-01-29T18:43:14.020Z"
   },
   {
    "duration": 446,
    "start_time": "2025-01-29T19:25:22.674Z"
   },
   {
    "duration": 61,
    "start_time": "2025-01-29T19:25:41.227Z"
   },
   {
    "duration": 4,
    "start_time": "2025-01-29T19:26:36.212Z"
   },
   {
    "duration": 3,
    "start_time": "2025-01-29T19:26:39.747Z"
   },
   {
    "duration": 7,
    "start_time": "2025-01-29T19:27:49.732Z"
   },
   {
    "duration": 124,
    "start_time": "2025-01-29T19:27:56.499Z"
   },
   {
    "duration": 5,
    "start_time": "2025-01-29T19:29:04.949Z"
   },
   {
    "duration": 10,
    "start_time": "2025-01-29T19:29:44.570Z"
   },
   {
    "duration": 7,
    "start_time": "2025-01-29T19:30:11.921Z"
   },
   {
    "duration": 7,
    "start_time": "2025-01-29T19:30:24.420Z"
   },
   {
    "duration": 8,
    "start_time": "2025-01-29T19:30:30.446Z"
   },
   {
    "duration": 9,
    "start_time": "2025-01-29T19:31:13.628Z"
   },
   {
    "duration": 515,
    "start_time": "2025-01-29T19:32:27.404Z"
   },
   {
    "duration": 668,
    "start_time": "2025-01-29T19:32:35.440Z"
   },
   {
    "duration": 8,
    "start_time": "2025-01-29T19:33:28.272Z"
   },
   {
    "duration": 6,
    "start_time": "2025-01-29T19:33:30.325Z"
   },
   {
    "duration": 7,
    "start_time": "2025-01-29T19:33:55.881Z"
   },
   {
    "duration": 10,
    "start_time": "2025-01-29T19:34:11.307Z"
   },
   {
    "duration": 9,
    "start_time": "2025-01-29T19:35:30.592Z"
   },
   {
    "duration": 558,
    "start_time": "2025-01-29T19:35:59.511Z"
   },
   {
    "duration": 5,
    "start_time": "2025-01-29T19:36:15.214Z"
   },
   {
    "duration": 5,
    "start_time": "2025-01-29T19:36:40.457Z"
   },
   {
    "duration": 86,
    "start_time": "2025-01-29T19:37:04.999Z"
   },
   {
    "duration": 9,
    "start_time": "2025-01-29T19:37:14.705Z"
   },
   {
    "duration": 5,
    "start_time": "2025-01-29T19:39:53.259Z"
   },
   {
    "duration": 5,
    "start_time": "2025-01-29T19:43:00.888Z"
   },
   {
    "duration": 9,
    "start_time": "2025-01-29T19:43:05.656Z"
   },
   {
    "duration": 10,
    "start_time": "2025-01-29T19:43:26.206Z"
   },
   {
    "duration": 8,
    "start_time": "2025-01-29T19:44:25.516Z"
   },
   {
    "duration": 11,
    "start_time": "2025-01-29T19:44:52.110Z"
   },
   {
    "duration": 8,
    "start_time": "2025-01-29T19:45:56.277Z"
   },
   {
    "duration": 14,
    "start_time": "2025-01-29T19:47:00.947Z"
   },
   {
    "duration": 14,
    "start_time": "2025-01-29T19:48:16.360Z"
   },
   {
    "duration": 19,
    "start_time": "2025-01-29T19:48:24.001Z"
   },
   {
    "duration": 10,
    "start_time": "2025-01-29T19:48:28.755Z"
   },
   {
    "duration": 20,
    "start_time": "2025-01-29T19:48:32.289Z"
   },
   {
    "duration": 15,
    "start_time": "2025-01-29T19:50:34.596Z"
   },
   {
    "duration": 19,
    "start_time": "2025-01-29T19:52:52.290Z"
   },
   {
    "duration": 10,
    "start_time": "2025-01-29T19:52:58.042Z"
   },
   {
    "duration": 4296,
    "start_time": "2025-01-29T19:52:58.601Z"
   },
   {
    "duration": 113851,
    "start_time": "2025-01-29T19:53:02.899Z"
   },
   {
    "duration": 135,
    "start_time": "2025-01-29T19:55:06.850Z"
   },
   {
    "duration": 113722,
    "start_time": "2025-01-29T19:57:53.019Z"
   },
   {
    "duration": 140,
    "start_time": "2025-01-29T20:00:19.030Z"
   },
   {
    "duration": 11,
    "start_time": "2025-01-29T20:01:10.516Z"
   },
   {
    "duration": 4242,
    "start_time": "2025-01-29T20:01:11.135Z"
   },
   {
    "duration": 113538,
    "start_time": "2025-01-29T20:01:18.759Z"
   },
   {
    "duration": 132,
    "start_time": "2025-01-29T20:03:17.568Z"
   },
   {
    "duration": 11,
    "start_time": "2025-01-29T20:05:51.750Z"
   },
   {
    "duration": 4262,
    "start_time": "2025-01-29T20:05:52.425Z"
   },
   {
    "duration": 6822,
    "start_time": "2025-01-29T20:05:56.689Z"
   },
   {
    "duration": 15,
    "start_time": "2025-01-29T20:07:04.456Z"
   },
   {
    "duration": 176,
    "start_time": "2025-01-29T20:07:35.624Z"
   },
   {
    "duration": 165,
    "start_time": "2025-01-29T20:08:36.397Z"
   },
   {
    "duration": 11,
    "start_time": "2025-01-29T20:08:57.231Z"
   },
   {
    "duration": 19,
    "start_time": "2025-01-29T20:11:38.430Z"
   },
   {
    "duration": 4,
    "start_time": "2025-01-29T20:11:49.155Z"
   },
   {
    "duration": 157079,
    "start_time": "2025-01-29T20:11:51.613Z"
   },
   {
    "duration": 436,
    "start_time": "2025-01-29T20:14:33.168Z"
   },
   {
    "duration": 19,
    "start_time": "2025-01-29T20:14:36.081Z"
   },
   {
    "duration": 10,
    "start_time": "2025-01-29T20:14:50.134Z"
   },
   {
    "duration": 362,
    "start_time": "2025-01-29T20:15:06.723Z"
   },
   {
    "duration": 46,
    "start_time": "2025-01-29T20:16:29.374Z"
   },
   {
    "duration": 9,
    "start_time": "2025-01-29T20:17:18.719Z"
   },
   {
    "duration": 5,
    "start_time": "2025-01-29T20:17:53.287Z"
   },
   {
    "duration": 4,
    "start_time": "2025-01-29T20:17:59.695Z"
   },
   {
    "duration": 3,
    "start_time": "2025-01-29T20:18:32.792Z"
   },
   {
    "duration": 3,
    "start_time": "2025-01-29T20:19:05.194Z"
   },
   {
    "duration": 8,
    "start_time": "2025-01-29T20:19:23.409Z"
   },
   {
    "duration": 3,
    "start_time": "2025-01-29T20:19:55.200Z"
   },
   {
    "duration": 3,
    "start_time": "2025-01-29T20:20:04.710Z"
   },
   {
    "duration": 3,
    "start_time": "2025-01-29T20:20:11.032Z"
   }
  ],
  "kernelspec": {
   "display_name": "Python 3 (ipykernel)",
   "language": "python",
   "name": "python3"
  },
  "language_info": {
   "codemirror_mode": {
    "name": "ipython",
    "version": 3
   },
   "file_extension": ".py",
   "mimetype": "text/x-python",
   "name": "python",
   "nbconvert_exporter": "python",
   "pygments_lexer": "ipython3",
   "version": "3.12.1"
  },
  "toc": {
   "base_numbering": 1,
   "nav_menu": {},
   "number_sections": true,
   "sideBar": true,
   "skip_h1_title": true,
   "title_cell": "Table of Contents",
   "title_sidebar": "Contents",
   "toc_cell": false,
   "toc_position": {},
   "toc_section_display": true,
   "toc_window_display": false
  }
 },
 "nbformat": 4,
 "nbformat_minor": 5
}
